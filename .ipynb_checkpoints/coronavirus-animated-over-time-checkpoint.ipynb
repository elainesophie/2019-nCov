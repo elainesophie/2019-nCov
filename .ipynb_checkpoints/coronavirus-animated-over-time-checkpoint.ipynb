{
 "cells": [
  {
   "cell_type": "markdown",
   "metadata": {},
   "source": [
    "**Remark**: Many great kernels have already been posted. My goal is to explore the data using the Plotly animation feature in scatter and geo plots!\n",
    "For the moment this kernel has no further insights nor predictions."
   ]
  },
  {
   "cell_type": "markdown",
   "metadata": {},
   "source": [
    "Load libraries and the dataset."
   ]
  },
  {
   "cell_type": "code",
   "execution_count": 1,
   "metadata": {
    "_cell_guid": "b1076dfc-b9ad-4769-8c92-a6c4dae69d19",
    "_kg_hide-input": true,
    "_uuid": "8f2839f25d086af736a60e9eeb907d3b93b6e0e5"
   },
   "outputs": [
    {
     "data": {
      "text/html": [
       "        <script type=\"text/javascript\">\n",
       "        window.PlotlyConfig = {MathJaxConfig: 'local'};\n",
       "        if (window.MathJax) {MathJax.Hub.Config({SVG: {font: \"STIX-Web\"}});}\n",
       "        if (typeof require !== 'undefined') {\n",
       "        require.undef(\"plotly\");\n",
       "        requirejs.config({\n",
       "            paths: {\n",
       "                'plotly': ['https://cdn.plot.ly/plotly-latest.min']\n",
       "            }\n",
       "        });\n",
       "        require(['plotly'], function(Plotly) {\n",
       "            window._Plotly = Plotly;\n",
       "        });\n",
       "        }\n",
       "        </script>\n",
       "        "
      ]
     },
     "metadata": {},
     "output_type": "display_data"
    },
    {
     "name": "stdout",
     "output_type": "stream",
     "text": [
      "/kaggle/input/novel-corona-virus-2019-dataset/2019_nCoV_data.csv\n"
     ]
    }
   ],
   "source": [
    "import pandas as pd\n",
    "import numpy as np\n",
    "import matplotlib.pyplot as plt\n",
    "import seaborn as sns\n",
    "import scipy.stats as stats\n",
    "%matplotlib inline\n",
    "\n",
    "import plotly.express as px\n",
    "import plotly.graph_objs as go\n",
    "from plotly.offline import iplot, init_notebook_mode\n",
    "import plotly.figure_factory as ff\n",
    "from plotly import subplots\n",
    "from plotly.subplots import make_subplots\n",
    "init_notebook_mode(connected=True)\n",
    "\n",
    "from datetime import date, datetime, timedelta\n",
    "\n",
    "pd.set_option('display.max_columns', 100)\n",
    "pd.set_option('display.max_rows', 100)\n",
    "\n",
    "import os\n",
    "for dirname, _, filenames in os.walk('/kaggle/input'):\n",
    "    for filename in filenames:\n",
    "        print(os.path.join(dirname, filename))\n",
    "\n",
    "# Any results you write to the current directory are saved as output."
   ]
  },
  {
   "cell_type": "code",
   "execution_count": 2,
   "metadata": {
    "_cell_guid": "79c7e3d0-c299-4dcb-8224-4455121ee9b0",
    "_kg_hide-input": true,
    "_uuid": "d629ff2d2480ee46fbb7e2d37f6b5fab8052498a"
   },
   "outputs": [],
   "source": [
    "def resumetable(df):\n",
    "    print(f\"Dataset Shape: {df.shape}\")\n",
    "    summary = pd.DataFrame(df.dtypes, columns=['dtypes'])\n",
    "    summary = summary.reset_index()\n",
    "    summary['Name'] = summary['index']\n",
    "    summary = summary[['Name','dtypes']]\n",
    "    summary['Missing'] = df.isnull().sum().values    \n",
    "    summary['Uniques'] = df.nunique().values\n",
    "\n",
    "    return summary"
   ]
  },
  {
   "cell_type": "code",
   "execution_count": 3,
   "metadata": {},
   "outputs": [
    {
     "name": "stdout",
     "output_type": "stream",
     "text": [
      "Dataset Shape: (631, 8)\n"
     ]
    },
    {
     "data": {
      "text/html": [
       "<div>\n",
       "<style scoped>\n",
       "    .dataframe tbody tr th:only-of-type {\n",
       "        vertical-align: middle;\n",
       "    }\n",
       "\n",
       "    .dataframe tbody tr th {\n",
       "        vertical-align: top;\n",
       "    }\n",
       "\n",
       "    .dataframe thead th {\n",
       "        text-align: right;\n",
       "    }\n",
       "</style>\n",
       "<table border=\"1\" class=\"dataframe\">\n",
       "  <thead>\n",
       "    <tr style=\"text-align: right;\">\n",
       "      <th></th>\n",
       "      <th>Name</th>\n",
       "      <th>dtypes</th>\n",
       "      <th>Missing</th>\n",
       "      <th>Uniques</th>\n",
       "    </tr>\n",
       "  </thead>\n",
       "  <tbody>\n",
       "    <tr>\n",
       "      <th>0</th>\n",
       "      <td>Sno</td>\n",
       "      <td>int64</td>\n",
       "      <td>0</td>\n",
       "      <td>631</td>\n",
       "    </tr>\n",
       "    <tr>\n",
       "      <th>1</th>\n",
       "      <td>Date</td>\n",
       "      <td>object</td>\n",
       "      <td>0</td>\n",
       "      <td>12</td>\n",
       "    </tr>\n",
       "    <tr>\n",
       "      <th>2</th>\n",
       "      <td>Province/State</td>\n",
       "      <td>object</td>\n",
       "      <td>144</td>\n",
       "      <td>53</td>\n",
       "    </tr>\n",
       "    <tr>\n",
       "      <th>3</th>\n",
       "      <td>Country</td>\n",
       "      <td>object</td>\n",
       "      <td>0</td>\n",
       "      <td>31</td>\n",
       "    </tr>\n",
       "    <tr>\n",
       "      <th>4</th>\n",
       "      <td>Last Update</td>\n",
       "      <td>object</td>\n",
       "      <td>0</td>\n",
       "      <td>68</td>\n",
       "    </tr>\n",
       "    <tr>\n",
       "      <th>5</th>\n",
       "      <td>Confirmed</td>\n",
       "      <td>float64</td>\n",
       "      <td>0</td>\n",
       "      <td>162</td>\n",
       "    </tr>\n",
       "    <tr>\n",
       "      <th>6</th>\n",
       "      <td>Deaths</td>\n",
       "      <td>float64</td>\n",
       "      <td>0</td>\n",
       "      <td>14</td>\n",
       "    </tr>\n",
       "    <tr>\n",
       "      <th>7</th>\n",
       "      <td>Recovered</td>\n",
       "      <td>float64</td>\n",
       "      <td>0</td>\n",
       "      <td>30</td>\n",
       "    </tr>\n",
       "  </tbody>\n",
       "</table>\n",
       "</div>"
      ],
      "text/plain": [
       "             Name   dtypes  Missing  Uniques\n",
       "0             Sno    int64        0      631\n",
       "1            Date   object        0       12\n",
       "2  Province/State   object      144       53\n",
       "3         Country   object        0       31\n",
       "4     Last Update   object        0       68\n",
       "5       Confirmed  float64        0      162\n",
       "6          Deaths  float64        0       14\n",
       "7       Recovered  float64        0       30"
      ]
     },
     "execution_count": 3,
     "metadata": {},
     "output_type": "execute_result"
    }
   ],
   "source": [
    "df = pd.read_csv(\"../input/novel-corona-virus-2019-dataset/2019_nCoV_data.csv\",)\n",
    "resumetable(df)"
   ]
  },
  {
   "cell_type": "markdown",
   "metadata": {},
   "source": [
    "Let's rename columns, change datetime to date format, drop rows with (0,0,0) triplets."
   ]
  },
  {
   "cell_type": "code",
   "execution_count": 4,
   "metadata": {},
   "outputs": [
    {
     "name": "stdout",
     "output_type": "stream",
     "text": [
      "Dataset Shape: (612, 8)\n"
     ]
    },
    {
     "data": {
      "text/html": [
       "<div>\n",
       "<style scoped>\n",
       "    .dataframe tbody tr th:only-of-type {\n",
       "        vertical-align: middle;\n",
       "    }\n",
       "\n",
       "    .dataframe tbody tr th {\n",
       "        vertical-align: top;\n",
       "    }\n",
       "\n",
       "    .dataframe thead th {\n",
       "        text-align: right;\n",
       "    }\n",
       "</style>\n",
       "<table border=\"1\" class=\"dataframe\">\n",
       "  <thead>\n",
       "    <tr style=\"text-align: right;\">\n",
       "      <th></th>\n",
       "      <th>Name</th>\n",
       "      <th>dtypes</th>\n",
       "      <th>Missing</th>\n",
       "      <th>Uniques</th>\n",
       "    </tr>\n",
       "  </thead>\n",
       "  <tbody>\n",
       "    <tr>\n",
       "      <th>0</th>\n",
       "      <td>Sno</td>\n",
       "      <td>int64</td>\n",
       "      <td>0</td>\n",
       "      <td>612</td>\n",
       "    </tr>\n",
       "    <tr>\n",
       "      <th>1</th>\n",
       "      <td>Date</td>\n",
       "      <td>object</td>\n",
       "      <td>0</td>\n",
       "      <td>12</td>\n",
       "    </tr>\n",
       "    <tr>\n",
       "      <th>2</th>\n",
       "      <td>PS</td>\n",
       "      <td>object</td>\n",
       "      <td>138</td>\n",
       "      <td>53</td>\n",
       "    </tr>\n",
       "    <tr>\n",
       "      <th>3</th>\n",
       "      <td>Country</td>\n",
       "      <td>object</td>\n",
       "      <td>0</td>\n",
       "      <td>28</td>\n",
       "    </tr>\n",
       "    <tr>\n",
       "      <th>4</th>\n",
       "      <td>LastUpdate</td>\n",
       "      <td>object</td>\n",
       "      <td>0</td>\n",
       "      <td>68</td>\n",
       "    </tr>\n",
       "    <tr>\n",
       "      <th>5</th>\n",
       "      <td>Confirmed</td>\n",
       "      <td>float64</td>\n",
       "      <td>0</td>\n",
       "      <td>161</td>\n",
       "    </tr>\n",
       "    <tr>\n",
       "      <th>6</th>\n",
       "      <td>Deaths</td>\n",
       "      <td>float64</td>\n",
       "      <td>0</td>\n",
       "      <td>14</td>\n",
       "    </tr>\n",
       "    <tr>\n",
       "      <th>7</th>\n",
       "      <td>Recovered</td>\n",
       "      <td>float64</td>\n",
       "      <td>0</td>\n",
       "      <td>30</td>\n",
       "    </tr>\n",
       "  </tbody>\n",
       "</table>\n",
       "</div>"
      ],
      "text/plain": [
       "         Name   dtypes  Missing  Uniques\n",
       "0         Sno    int64        0      612\n",
       "1        Date   object        0       12\n",
       "2          PS   object      138       53\n",
       "3     Country   object        0       28\n",
       "4  LastUpdate   object        0       68\n",
       "5   Confirmed  float64        0      161\n",
       "6      Deaths  float64        0       14\n",
       "7   Recovered  float64        0       30"
      ]
     },
     "execution_count": 4,
     "metadata": {},
     "output_type": "execute_result"
    }
   ],
   "source": [
    "df.rename(columns={'Last Update': 'LastUpdate',\n",
    "                   'Province/State': 'PS'},\n",
    "         inplace=True)\n",
    "df['Date'] = pd.to_datetime(df['Date']).dt.date\n",
    "\n",
    "virus_cols=['Confirmed', 'Deaths', 'Recovered']\n",
    "\n",
    "df = df[df[virus_cols].sum(axis=1)!=0]\n",
    "\n",
    "resumetable(df)"
   ]
  },
  {
   "cell_type": "markdown",
   "metadata": {},
   "source": [
    "We see that there are lots of missing values in the Province/State column, let's fill with Country value if there are no other Province/State, and drop the remaining 2 rows."
   ]
  },
  {
   "cell_type": "code",
   "execution_count": 5,
   "metadata": {},
   "outputs": [
    {
     "name": "stdout",
     "output_type": "stream",
     "text": [
      "Dataset Shape: (608, 8)\n"
     ]
    },
    {
     "data": {
      "text/html": [
       "<div>\n",
       "<style scoped>\n",
       "    .dataframe tbody tr th:only-of-type {\n",
       "        vertical-align: middle;\n",
       "    }\n",
       "\n",
       "    .dataframe tbody tr th {\n",
       "        vertical-align: top;\n",
       "    }\n",
       "\n",
       "    .dataframe thead th {\n",
       "        text-align: right;\n",
       "    }\n",
       "</style>\n",
       "<table border=\"1\" class=\"dataframe\">\n",
       "  <thead>\n",
       "    <tr style=\"text-align: right;\">\n",
       "      <th></th>\n",
       "      <th>Name</th>\n",
       "      <th>dtypes</th>\n",
       "      <th>Missing</th>\n",
       "      <th>Uniques</th>\n",
       "    </tr>\n",
       "  </thead>\n",
       "  <tbody>\n",
       "    <tr>\n",
       "      <th>0</th>\n",
       "      <td>Sno</td>\n",
       "      <td>int64</td>\n",
       "      <td>0</td>\n",
       "      <td>608</td>\n",
       "    </tr>\n",
       "    <tr>\n",
       "      <th>1</th>\n",
       "      <td>Date</td>\n",
       "      <td>object</td>\n",
       "      <td>0</td>\n",
       "      <td>12</td>\n",
       "    </tr>\n",
       "    <tr>\n",
       "      <th>2</th>\n",
       "      <td>PS</td>\n",
       "      <td>object</td>\n",
       "      <td>0</td>\n",
       "      <td>72</td>\n",
       "    </tr>\n",
       "    <tr>\n",
       "      <th>3</th>\n",
       "      <td>Country</td>\n",
       "      <td>object</td>\n",
       "      <td>0</td>\n",
       "      <td>27</td>\n",
       "    </tr>\n",
       "    <tr>\n",
       "      <th>4</th>\n",
       "      <td>LastUpdate</td>\n",
       "      <td>object</td>\n",
       "      <td>0</td>\n",
       "      <td>68</td>\n",
       "    </tr>\n",
       "    <tr>\n",
       "      <th>5</th>\n",
       "      <td>Confirmed</td>\n",
       "      <td>float64</td>\n",
       "      <td>0</td>\n",
       "      <td>161</td>\n",
       "    </tr>\n",
       "    <tr>\n",
       "      <th>6</th>\n",
       "      <td>Deaths</td>\n",
       "      <td>float64</td>\n",
       "      <td>0</td>\n",
       "      <td>14</td>\n",
       "    </tr>\n",
       "    <tr>\n",
       "      <th>7</th>\n",
       "      <td>Recovered</td>\n",
       "      <td>float64</td>\n",
       "      <td>0</td>\n",
       "      <td>30</td>\n",
       "    </tr>\n",
       "  </tbody>\n",
       "</table>\n",
       "</div>"
      ],
      "text/plain": [
       "         Name   dtypes  Missing  Uniques\n",
       "0         Sno    int64        0      608\n",
       "1        Date   object        0       12\n",
       "2          PS   object        0       72\n",
       "3     Country   object        0       27\n",
       "4  LastUpdate   object        0       68\n",
       "5   Confirmed  float64        0      161\n",
       "6      Deaths  float64        0       14\n",
       "7   Recovered  float64        0       30"
      ]
     },
     "execution_count": 5,
     "metadata": {},
     "output_type": "execute_result"
    }
   ],
   "source": [
    "df.loc[(df['PS'].isnull()) & (df.groupby('Country')['PS'].transform('nunique') == 0), 'PS'] = \\\n",
    "        df.loc[(df['PS'].isnull()) & (df.groupby('Country')['PS'].transform('nunique') == 0), 'Country'].to_numpy()\n",
    "\n",
    "df['Country'] = np.where(df['Country']=='Mainland China', 'China', df['Country'])\n",
    "df.dropna(inplace=True)\n",
    "resumetable(df)"
   ]
  },
  {
   "cell_type": "markdown",
   "metadata": {},
   "source": [
    "Retrieve latitute and longitude for each Country-Province pair using geopy package."
   ]
  },
  {
   "cell_type": "code",
   "execution_count": 6,
   "metadata": {
    "_kg_hide-input": true
   },
   "outputs": [],
   "source": [
    "#import time\n",
    "#import geopy\n",
    "#locator = geopy.Nominatim(user_agent='uagent')\n",
    "#\n",
    "#pairs = df[['Country', 'PS']].drop_duplicates().to_numpy()\n",
    "##d={}\n",
    "#for p in pairs:\n",
    "#    if p[0] + ', ' + p[1] not in d:\n",
    "#        l = p[0] + ', ' + p[1] if p[0]!=p[1] else p[0]\n",
    "#        location = locator.geocode(l)\n",
    "#\n",
    "#        d[l] = [location.latitude, location.longitude]\n",
    "#        print(l, location.latitude, location.longitude)\n",
    "#        time.sleep(1)"
   ]
  },
  {
   "cell_type": "markdown",
   "metadata": {},
   "source": [
    "Yet, since I cannot make it work on kaggle notebook, here the full list "
   ]
  },
  {
   "cell_type": "code",
   "execution_count": 7,
   "metadata": {
    "_kg_hide-input": true
   },
   "outputs": [],
   "source": [
    "d = {'Australia, Victoria': [-36.5986096, 144.6780052],\n",
    " 'Australia, Queensland': [-22.1646782, 144.5844903],\n",
    " 'Australia, New South Wales': [-31.8759835, 147.2869493],\n",
    " 'Cambodia': [13.5066394, 104.869423],\n",
    " 'Canada, Ontario': [50.000678, -86.000977],\n",
    " 'Canada, British Columbia': [55.001251, -125.002441],\n",
    " 'China, Anhui': [32.0, 117.0],\n",
    " 'China, Fujian': [26.5450001, 117.842778],\n",
    " 'China, Guizhou': [27.0, 107.0],\n",
    " 'China, Hebei': [39.0000001, 116.0],\n",
    " 'China, Jiangsu': [33.0000001, 119.9999999],\n",
    " 'China, Macau': [22.1757605, 113.5514142],\n",
    " 'China, Ningxia': [37.0000001, 105.9999999],\n",
    " 'China, Shanxi': [37.0, 112.0],\n",
    " 'China, Taiwan': [23.9739374, 120.9820179],\n",
    " 'China, Yunnan': [25.0, 102.0],\n",
    " 'China, Jilin': [42.9995032, 125.9816054],\n",
    " 'China, Inner Mongolia': [43.2443242, 114.3251664],\n",
    " 'China, Qinghai': [35.40709525, 95.95211573241954],\n",
    " 'China, Tibet': [31.894343149999997, 87.07813712706509],\n",
    " 'China, Guangxi': [24.0, 109.0],\n",
    " 'China, Jiangxi': [28.0, 116.0],\n",
    " 'China, Liaoning': [40.9975197, 122.9955469],\n",
    " 'China, Shandong': [36.0000001, 118.9999999],\n",
    " 'China, Gansu': [38.0000001, 101.9999999],\n",
    " 'China, Heilongjiang': [48.0000047, 127.999992],\n",
    " 'China, Xinjiang': [41.7574769, 87.16738423046897],\n",
    " 'China, Shaanxi': [36.0, 109.0],\n",
    " 'China, Hainan': [19.2000001, 109.5999999],\n",
    " 'China, Hunan': [27.9995878, 112.009538],\n",
    " 'China, Tianjin': [39.1235635, 117.1980785],\n",
    " 'China, Henan': [34.0000001, 113.9999999],\n",
    " 'China, Sichuan': [30.5000001, 102.4999999],\n",
    " 'China, Chongqing': [30.05518, 107.8748712],\n",
    " 'China, Shanghai': [31.2322758, 121.4692071],\n",
    " 'China, Zhejiang': [29.0000001, 119.9999999],\n",
    " 'China, Beijing': [39.906217, 116.3912757],\n",
    " 'China, Guangdong': [23.1357694, 113.1982688],\n",
    " 'China, Hubei': [31.15172525, 112.87832224656043],\n",
    " 'Finland': [63.2467777, 25.9209164],\n",
    " 'France': [46.603354, 1.8883335],\n",
    " 'Germany, Bavaria': [48.9467562, 11.4038717],\n",
    " 'Hong Kong': [22.2793278, 114.1628131],\n",
    " 'India': [22.3511148, 78.6677428],\n",
    " 'Italy': [42.6384261, 12.674297],\n",
    " 'Japan': [36.5748441, 139.2394179],\n",
    " 'Macau': [22.1757605, 113.5514142],\n",
    " 'Malaysia': [4.5693754, 102.2656823],\n",
    " 'Nepal': [28.1083929, 84.0917139],\n",
    " 'Philippines': [12.7503486, 122.7312101],\n",
    " 'Russia': [64.6863136, 97.7453061],\n",
    " 'Singapore': [1.357107, 103.8194992],\n",
    " 'South Korea': [36.5581914, 127.9408564],\n",
    " 'Spain': [39.3262345, -4.8380649],\n",
    " 'Sri Lanka': [7.5554942, 80.7137847],\n",
    " 'Sweden': [59.6749712, 14.5208584],\n",
    " 'Taiwan': [23.9739374, 120.9820179],\n",
    " 'Thailand': [14.8971921, 100.83273],\n",
    " 'UK': [54.7023545, -3.2765753],\n",
    " 'US, Washington': [38.8948932, -77.0365529],\n",
    " 'US, Chicago': [41.8755616, -87.6244212],\n",
    " 'US, Illinois': [40.0796606, -89.4337288],\n",
    " 'US, Arizona': [34.395342, -111.7632755],\n",
    " 'US, California': [36.7014631, -118.7559974],\n",
    " 'United Arab Emirates': [24.0002488, 53.9994829],\n",
    " 'Vietnam': [13.2904027, 108.4265113],\n",
    " 'Australia, South Australia': [-30.5343665, 135.6301212],\n",
    " 'Germany, Hong Kong': [51.49144235, 11.974836546938391],\n",
    " 'US, Boston, MA': [42.3602534, -71.0582912],\n",
    " 'US, Los Angeles, CA': [34.0536909, -118.2427666],\n",
    " 'US, Orange, CA': [29.7742659, -95.3341066],\n",
    " 'US, Santa Clara, CA': [37.3541132, -121.9551744],\n",
    " 'US, Seattle, WA': [47.6038321, -122.3300624],\n",
    " 'US, Tempe, AZ': [33.4255056, -111.9400125],\n",
    " 'US, Chicago, IL': [41.8755616, -87.6244212]}"
   ]
  },
  {
   "cell_type": "code",
   "execution_count": 8,
   "metadata": {},
   "outputs": [
    {
     "data": {
      "text/html": [
       "<div>\n",
       "<style scoped>\n",
       "    .dataframe tbody tr th:only-of-type {\n",
       "        vertical-align: middle;\n",
       "    }\n",
       "\n",
       "    .dataframe tbody tr th {\n",
       "        vertical-align: top;\n",
       "    }\n",
       "\n",
       "    .dataframe thead th {\n",
       "        text-align: right;\n",
       "    }\n",
       "</style>\n",
       "<table border=\"1\" class=\"dataframe\">\n",
       "  <thead>\n",
       "    <tr style=\"text-align: right;\">\n",
       "      <th></th>\n",
       "      <th>Sno</th>\n",
       "      <th>Date</th>\n",
       "      <th>PS</th>\n",
       "      <th>Country</th>\n",
       "      <th>LastUpdate</th>\n",
       "      <th>Confirmed</th>\n",
       "      <th>Deaths</th>\n",
       "      <th>Recovered</th>\n",
       "      <th>lat</th>\n",
       "      <th>lon</th>\n",
       "    </tr>\n",
       "  </thead>\n",
       "  <tbody>\n",
       "    <tr>\n",
       "      <th>0</th>\n",
       "      <td>1</td>\n",
       "      <td>2020-01-22</td>\n",
       "      <td>Anhui</td>\n",
       "      <td>China</td>\n",
       "      <td>1/22/2020 12:00</td>\n",
       "      <td>1.0</td>\n",
       "      <td>0.0</td>\n",
       "      <td>0.0</td>\n",
       "      <td>32.000000</td>\n",
       "      <td>117.000000</td>\n",
       "    </tr>\n",
       "    <tr>\n",
       "      <th>1</th>\n",
       "      <td>2</td>\n",
       "      <td>2020-01-22</td>\n",
       "      <td>Beijing</td>\n",
       "      <td>China</td>\n",
       "      <td>1/22/2020 12:00</td>\n",
       "      <td>14.0</td>\n",
       "      <td>0.0</td>\n",
       "      <td>0.0</td>\n",
       "      <td>39.906217</td>\n",
       "      <td>116.391276</td>\n",
       "    </tr>\n",
       "    <tr>\n",
       "      <th>2</th>\n",
       "      <td>3</td>\n",
       "      <td>2020-01-22</td>\n",
       "      <td>Chongqing</td>\n",
       "      <td>China</td>\n",
       "      <td>1/22/2020 12:00</td>\n",
       "      <td>6.0</td>\n",
       "      <td>0.0</td>\n",
       "      <td>0.0</td>\n",
       "      <td>30.055180</td>\n",
       "      <td>107.874871</td>\n",
       "    </tr>\n",
       "    <tr>\n",
       "      <th>3</th>\n",
       "      <td>4</td>\n",
       "      <td>2020-01-22</td>\n",
       "      <td>Fujian</td>\n",
       "      <td>China</td>\n",
       "      <td>1/22/2020 12:00</td>\n",
       "      <td>1.0</td>\n",
       "      <td>0.0</td>\n",
       "      <td>0.0</td>\n",
       "      <td>26.545000</td>\n",
       "      <td>117.842778</td>\n",
       "    </tr>\n",
       "    <tr>\n",
       "      <th>5</th>\n",
       "      <td>6</td>\n",
       "      <td>2020-01-22</td>\n",
       "      <td>Guangdong</td>\n",
       "      <td>China</td>\n",
       "      <td>1/22/2020 12:00</td>\n",
       "      <td>26.0</td>\n",
       "      <td>0.0</td>\n",
       "      <td>0.0</td>\n",
       "      <td>23.135769</td>\n",
       "      <td>113.198269</td>\n",
       "    </tr>\n",
       "    <tr>\n",
       "      <th>6</th>\n",
       "      <td>7</td>\n",
       "      <td>2020-01-22</td>\n",
       "      <td>Guangxi</td>\n",
       "      <td>China</td>\n",
       "      <td>1/22/2020 12:00</td>\n",
       "      <td>2.0</td>\n",
       "      <td>0.0</td>\n",
       "      <td>0.0</td>\n",
       "      <td>24.000000</td>\n",
       "      <td>109.000000</td>\n",
       "    </tr>\n",
       "    <tr>\n",
       "      <th>7</th>\n",
       "      <td>8</td>\n",
       "      <td>2020-01-22</td>\n",
       "      <td>Guizhou</td>\n",
       "      <td>China</td>\n",
       "      <td>1/22/2020 12:00</td>\n",
       "      <td>1.0</td>\n",
       "      <td>0.0</td>\n",
       "      <td>0.0</td>\n",
       "      <td>27.000000</td>\n",
       "      <td>107.000000</td>\n",
       "    </tr>\n",
       "    <tr>\n",
       "      <th>8</th>\n",
       "      <td>9</td>\n",
       "      <td>2020-01-22</td>\n",
       "      <td>Hainan</td>\n",
       "      <td>China</td>\n",
       "      <td>1/22/2020 12:00</td>\n",
       "      <td>4.0</td>\n",
       "      <td>0.0</td>\n",
       "      <td>0.0</td>\n",
       "      <td>19.200000</td>\n",
       "      <td>109.600000</td>\n",
       "    </tr>\n",
       "    <tr>\n",
       "      <th>9</th>\n",
       "      <td>10</td>\n",
       "      <td>2020-01-22</td>\n",
       "      <td>Hebei</td>\n",
       "      <td>China</td>\n",
       "      <td>1/22/2020 12:00</td>\n",
       "      <td>1.0</td>\n",
       "      <td>0.0</td>\n",
       "      <td>0.0</td>\n",
       "      <td>39.000000</td>\n",
       "      <td>116.000000</td>\n",
       "    </tr>\n",
       "    <tr>\n",
       "      <th>11</th>\n",
       "      <td>12</td>\n",
       "      <td>2020-01-22</td>\n",
       "      <td>Henan</td>\n",
       "      <td>China</td>\n",
       "      <td>1/22/2020 12:00</td>\n",
       "      <td>5.0</td>\n",
       "      <td>0.0</td>\n",
       "      <td>0.0</td>\n",
       "      <td>34.000000</td>\n",
       "      <td>114.000000</td>\n",
       "    </tr>\n",
       "  </tbody>\n",
       "</table>\n",
       "</div>"
      ],
      "text/plain": [
       "    Sno        Date         PS Country       LastUpdate  Confirmed  Deaths  \\\n",
       "0     1  2020-01-22      Anhui   China  1/22/2020 12:00        1.0     0.0   \n",
       "1     2  2020-01-22    Beijing   China  1/22/2020 12:00       14.0     0.0   \n",
       "2     3  2020-01-22  Chongqing   China  1/22/2020 12:00        6.0     0.0   \n",
       "3     4  2020-01-22     Fujian   China  1/22/2020 12:00        1.0     0.0   \n",
       "5     6  2020-01-22  Guangdong   China  1/22/2020 12:00       26.0     0.0   \n",
       "6     7  2020-01-22    Guangxi   China  1/22/2020 12:00        2.0     0.0   \n",
       "7     8  2020-01-22    Guizhou   China  1/22/2020 12:00        1.0     0.0   \n",
       "8     9  2020-01-22     Hainan   China  1/22/2020 12:00        4.0     0.0   \n",
       "9    10  2020-01-22      Hebei   China  1/22/2020 12:00        1.0     0.0   \n",
       "11   12  2020-01-22      Henan   China  1/22/2020 12:00        5.0     0.0   \n",
       "\n",
       "    Recovered        lat         lon  \n",
       "0         0.0  32.000000  117.000000  \n",
       "1         0.0  39.906217  116.391276  \n",
       "2         0.0  30.055180  107.874871  \n",
       "3         0.0  26.545000  117.842778  \n",
       "5         0.0  23.135769  113.198269  \n",
       "6         0.0  24.000000  109.000000  \n",
       "7         0.0  27.000000  107.000000  \n",
       "8         0.0  19.200000  109.600000  \n",
       "9         0.0  39.000000  116.000000  \n",
       "11        0.0  34.000000  114.000000  "
      ]
     },
     "execution_count": 8,
     "metadata": {},
     "output_type": "execute_result"
    }
   ],
   "source": [
    "def coords(row):\n",
    "    \n",
    "    k = row['Country'] +', '+ row['PS'] if row['Country'] != row['PS'] else row['Country']\n",
    "    row['lat'] = d[k][0]\n",
    "    row['lon'] = d[k][1]\n",
    "    return row\n",
    "\n",
    "df = df.apply(coords, axis=1)\n",
    "df.head(10)"
   ]
  },
  {
   "cell_type": "code",
   "execution_count": 9,
   "metadata": {},
   "outputs": [],
   "source": [
    "df = df.groupby(['PS', 'Country', 'Date']).agg({'Confirmed': 'sum',\n",
    "                                                'Deaths': 'sum',\n",
    "                                                'Recovered': 'sum',\n",
    "                                                'lat': 'max',\n",
    "                                                'lon': 'max'}).reset_index()\n",
    "df = df[df['Date']>date(2020,1,20)]"
   ]
  },
  {
   "cell_type": "markdown",
   "metadata": {},
   "source": [
    "Let's plot the virus spreading in Asia and in the rest of the world over time. Size is related to number of confirmed cases, colorscale depends upon the number of deaths."
   ]
  },
  {
   "cell_type": "code",
   "execution_count": 10,
   "metadata": {
    "_kg_hide-input": true
   },
   "outputs": [
    {
     "data": {
      "application/vnd.plotly.v1+json": {
       "config": {
        "plotlyServerURL": "https://plot.ly"
       },
       "data": [
        {
         "lat": [
          32,
          39.906217,
          30.05518,
          26.5450001,
          23.1357694,
          24,
          27,
          19.2000001,
          39.0000001,
          34.0000001,
          31.15172525,
          27.9995878,
          36.5748441,
          33.0000001,
          28,
          40.9975197,
          22.1757605,
          37.0000001,
          36.0000001,
          31.2322758,
          37,
          30.5000001,
          36.5581914,
          23.9739374,
          14.8971921,
          39.1235635,
          38.8948932,
          25,
          29.0000001
         ],
         "locationmode": "country names",
         "lon": [
          117,
          116.3912757,
          107.8748712,
          117.842778,
          113.1982688,
          109,
          107,
          109.5999999,
          116,
          113.9999999,
          112.87832224656043,
          112.009538,
          139.2394179,
          119.9999999,
          116,
          122.9955469,
          113.5514142,
          105.9999999,
          118.9999999,
          121.4692071,
          112,
          102.4999999,
          127.9408564,
          120.9820179,
          100.83273,
          117.1980785,
          -77.0365529,
          102,
          119.9999999
         ],
         "marker": {
          "autocolorscale": false,
          "cmax": 350,
          "cmin": 0,
          "color": [
           0,
           0,
           0,
           0,
           0,
           0,
           0,
           0,
           0,
           0,
           0,
           0,
           0,
           0,
           0,
           0,
           0,
           0,
           0,
           0,
           0,
           0,
           0,
           0,
           0,
           0,
           0,
           0,
           0
          ],
          "colorbar": {
           "title": {
            "text": "Number of Deaths"
           }
          },
          "line": {
           "color": "rgba(0, 0, 0)",
           "width": 0.5
          },
          "opacity": 0.6,
          "reversescale": true,
          "size": [
           4,
           5.657613768320726,
           4.94179852477375,
           4,
           6.34244448653463,
           4.29268464756894,
           4,
           4.671033598060435,
           4,
           4.815004806125491,
           12.561195780665512,
           4.671033598060435,
           4.29268464756894,
           4,
           4.29268464756894,
           4.29268464756894,
           4,
           4,
           4.29268464756894,
           5.256436683972135,
           4,
           4.815004806125491,
           4,
           4,
           4.29268464756894,
           4.671033598060435,
           4,
           4,
           5.346228848142263
          ]
         },
         "mode": "markers",
         "text": [
          "China, Anhui-> Deaths: 0.0 Confirmed: 1.0",
          "China, Beijing-> Deaths: 0.0 Confirmed: 14.0",
          "China, Chongqing-> Deaths: 0.0 Confirmed: 6.0",
          "China, Fujian-> Deaths: 0.0 Confirmed: 1.0",
          "China, Guangdong-> Deaths: 0.0 Confirmed: 26.0",
          "China, Guangxi-> Deaths: 0.0 Confirmed: 2.0",
          "China, Guizhou-> Deaths: 0.0 Confirmed: 1.0",
          "China, Hainan-> Deaths: 0.0 Confirmed: 4.0",
          "China, Hebei-> Deaths: 0.0 Confirmed: 1.0",
          "China, Henan-> Deaths: 0.0 Confirmed: 5.0",
          "China, Hubei-> Deaths: 0.0 Confirmed: 444.0",
          "China, Hunan-> Deaths: 0.0 Confirmed: 4.0",
          "Japan, Japan-> Deaths: 0.0 Confirmed: 2.0",
          "China, Jiangsu-> Deaths: 0.0 Confirmed: 1.0",
          "China, Jiangxi-> Deaths: 0.0 Confirmed: 2.0",
          "China, Liaoning-> Deaths: 0.0 Confirmed: 2.0",
          "China, Macau-> Deaths: 0.0 Confirmed: 1.0",
          "China, Ningxia-> Deaths: 0.0 Confirmed: 1.0",
          "China, Shandong-> Deaths: 0.0 Confirmed: 2.0",
          "China, Shanghai-> Deaths: 0.0 Confirmed: 9.0",
          "China, Shanxi-> Deaths: 0.0 Confirmed: 1.0",
          "China, Sichuan-> Deaths: 0.0 Confirmed: 5.0",
          "South Korea, South Korea-> Deaths: 0.0 Confirmed: 1.0",
          "China, Taiwan-> Deaths: 0.0 Confirmed: 1.0",
          "Thailand, Thailand-> Deaths: 0.0 Confirmed: 2.0",
          "China, Tianjin-> Deaths: 0.0 Confirmed: 4.0",
          "US, Washington-> Deaths: 0.0 Confirmed: 1.0",
          "China, Yunnan-> Deaths: 0.0 Confirmed: 1.0",
          "China, Zhejiang-> Deaths: 0.0 Confirmed: 10.0"
         ],
         "type": "scattergeo"
        }
       ],
       "frames": [
        {
         "data": [
          {
           "lat": [
            32,
            39.906217,
            30.05518,
            26.5450001,
            38.0000001,
            23.1357694,
            24,
            27,
            19.2000001,
            39.0000001,
            48.0000047,
            34.0000001,
            22.2793278,
            31.15172525,
            27.9995878,
            36.5748441,
            33.0000001,
            28,
            42.9995032,
            40.9975197,
            22.1757605,
            37.0000001,
            36,
            36.0000001,
            31.2322758,
            37,
            30.5000001,
            1.357107,
            36.5581914,
            23.9739374,
            14.8971921,
            39.1235635,
            13.2904027,
            38.8948932,
            41.7574769,
            25,
            29.0000001
           ],
           "locationmode": "country names",
           "lon": [
            117,
            116.3912757,
            107.8748712,
            117.842778,
            101.9999999,
            113.1982688,
            109,
            107,
            109.5999999,
            116,
            127.999992,
            113.9999999,
            114.1628131,
            112.87832224656043,
            112.009538,
            139.2394179,
            119.9999999,
            116,
            125.9816054,
            122.9955469,
            113.5514142,
            105.9999999,
            109,
            118.9999999,
            121.4692071,
            112,
            102.4999999,
            103.8194992,
            127.9408564,
            120.9820179,
            100.83273,
            117.1980785,
            108.4265113,
            -77.0365529,
            87.16738423046897,
            102,
            119.9999999
           ],
           "marker": {
            "autocolorscale": false,
            "cmax": 350,
            "cmin": 0,
            "color": [
             0,
             0,
             0,
             0,
             0,
             0,
             0,
             0,
             0,
             1,
             0,
             0,
             0,
             17,
             0,
             0,
             0,
             0,
             0,
             0,
             0,
             0,
             0,
             0,
             0,
             0,
             0,
             0,
             0,
             0,
             0,
             0,
             0,
             0,
             0,
             0,
             0
            ],
            "colorbar": {
             "title": {
              "text": "Number of Deaths"
             }
            },
            "line": {
             "color": "rgba(0, 0, 0)",
             "width": 0.5
            },
            "opacity": 0.6,
            "reversescale": true,
            "size": [
             5.256436683972135,
             6.141908878443159,
             5.256436683972135,
             4.815004806125491,
             4.29268464756894,
             6.6096322232028495,
             4.815004806125491,
             4.502144029037208,
             4.815004806125491,
             4,
             4.29268464756894,
             4.815004806125491,
             4.29268464756894,
             12.561195780665512,
             5.256436683972135,
             4,
             4.815004806125491,
             5.0558871595781,
             4,
             4.502144029037208,
             4.29268464756894,
             4,
             4.502144029037208,
             4.94179852477375,
             5.792353285846804,
             4,
             5.160119477784612,
             4,
             4,
             4,
             4.502144029037208,
             4.671033598060435,
             4.29268464756894,
             4,
             4.29268464756894,
             4.29268464756894,
             6.389492891729259
            ]
           },
           "mode": "markers",
           "text": [
            "China, Anhui-> Deaths: 0.0 Confirmed: 9.0",
            "China, Beijing-> Deaths: 0.0 Confirmed: 22.0",
            "China, Chongqing-> Deaths: 0.0 Confirmed: 9.0",
            "China, Fujian-> Deaths: 0.0 Confirmed: 5.0",
            "China, Gansu-> Deaths: 0.0 Confirmed: 2.0",
            "China, Guangdong-> Deaths: 0.0 Confirmed: 32.0",
            "China, Guangxi-> Deaths: 0.0 Confirmed: 5.0",
            "China, Guizhou-> Deaths: 0.0 Confirmed: 3.0",
            "China, Hainan-> Deaths: 0.0 Confirmed: 5.0",
            "China, Hebei-> Deaths: 1.0 Confirmed: 1.0",
            "China, Heilongjiang-> Deaths: 0.0 Confirmed: 2.0",
            "China, Henan-> Deaths: 0.0 Confirmed: 5.0",
            "Hong Kong, Hong Kong-> Deaths: 0.0 Confirmed: 2.0",
            "China, Hubei-> Deaths: 17.0 Confirmed: 444.0",
            "China, Hunan-> Deaths: 0.0 Confirmed: 9.0",
            "Japan, Japan-> Deaths: 0.0 Confirmed: 1.0",
            "China, Jiangsu-> Deaths: 0.0 Confirmed: 5.0",
            "China, Jiangxi-> Deaths: 0.0 Confirmed: 7.0",
            "China, Jilin-> Deaths: 0.0 Confirmed: 1.0",
            "China, Liaoning-> Deaths: 0.0 Confirmed: 3.0",
            "Macau, Macau-> Deaths: 0.0 Confirmed: 2.0",
            "China, Ningxia-> Deaths: 0.0 Confirmed: 1.0",
            "China, Shaanxi-> Deaths: 0.0 Confirmed: 3.0",
            "China, Shandong-> Deaths: 0.0 Confirmed: 6.0",
            "China, Shanghai-> Deaths: 0.0 Confirmed: 16.0",
            "China, Shanxi-> Deaths: 0.0 Confirmed: 1.0",
            "China, Sichuan-> Deaths: 0.0 Confirmed: 8.0",
            "Singapore, Singapore-> Deaths: 0.0 Confirmed: 1.0",
            "South Korea, South Korea-> Deaths: 0.0 Confirmed: 1.0",
            "Taiwan, Taiwan-> Deaths: 0.0 Confirmed: 1.0",
            "Thailand, Thailand-> Deaths: 0.0 Confirmed: 3.0",
            "China, Tianjin-> Deaths: 0.0 Confirmed: 4.0",
            "Vietnam, Vietnam-> Deaths: 0.0 Confirmed: 2.0",
            "US, Washington-> Deaths: 0.0 Confirmed: 1.0",
            "China, Xinjiang-> Deaths: 0.0 Confirmed: 2.0",
            "China, Yunnan-> Deaths: 0.0 Confirmed: 2.0",
            "China, Zhejiang-> Deaths: 0.0 Confirmed: 27.0"
           ],
           "type": "scattergeo"
          }
         ],
         "layout": {
          "title": {
           "text": "Corona Virus spreading in Asia, 2020-01-23",
           "x": 0.5,
           "xanchor": "center",
           "y": 0.98,
           "yanchor": "top"
          }
         }
        },
        {
         "data": [
          {
           "lat": [
            32,
            39.906217,
            41.8755616,
            30.05518,
            46.603354,
            26.5450001,
            38.0000001,
            23.1357694,
            24,
            27,
            19.2000001,
            39.0000001,
            48.0000047,
            34.0000001,
            22.2793278,
            31.15172525,
            27.9995878,
            43.2443242,
            36.5748441,
            33.0000001,
            28,
            42.9995032,
            40.9975197,
            22.1757605,
            37.0000001,
            36,
            36.0000001,
            31.2322758,
            37,
            30.5000001,
            1.357107,
            36.5581914,
            23.9739374,
            14.8971921,
            39.1235635,
            13.2904027,
            38.8948932,
            41.7574769,
            25,
            29.0000001
           ],
           "locationmode": "country names",
           "lon": [
            117,
            116.3912757,
            -87.6244212,
            107.8748712,
            1.8883335,
            117.842778,
            101.9999999,
            113.1982688,
            109,
            107,
            109.5999999,
            116,
            127.999992,
            113.9999999,
            114.1628131,
            112.87832224656043,
            112.009538,
            114.3251664,
            139.2394179,
            119.9999999,
            116,
            125.9816054,
            122.9955469,
            113.5514142,
            105.9999999,
            109,
            118.9999999,
            121.4692071,
            112,
            102.4999999,
            103.8194992,
            127.9408564,
            120.9820179,
            100.83273,
            117.1980785,
            108.4265113,
            -77.0365529,
            87.16738423046897,
            102,
            119.9999999
           ],
           "marker": {
            "autocolorscale": false,
            "cmax": 350,
            "cmin": 0,
            "color": [
             0,
             0,
             0,
             0,
             0,
             0,
             0,
             0,
             0,
             0,
             0,
             1,
             1,
             0,
             0,
             24,
             0,
             0,
             0,
             0,
             0,
             0,
             0,
             0,
             0,
             0,
             0,
             0,
             0,
             0,
             0,
             0,
             0,
             0,
             0,
             0,
             0,
             0,
             0,
             0
            ],
            "colorbar": {
             "title": {
              "text": "Number of Deaths"
             }
            },
            "line": {
             "color": "rgba(0, 0, 0)",
             "width": 0.5
            },
            "opacity": 0.6,
            "reversescale": true,
            "size": [
             5.726398632195241,
             6.770581510813514,
             4,
             6.389492891729259,
             4.29268464756894,
             5.346228848142263,
             4.29268464756894,
             7.3513166893231405,
             6.194064213635992,
             4.502144029037208,
             5.160119477784612,
             4.29268464756894,
             4.671033598060435,
             5.256436683972135,
             4.29268464756894,
             13.343235758122242,
             6.244810575561126,
             4,
             4.29268464756894,
             5.256436683972135,
             5.916861059582148,
             4.502144029037208,
             4.671033598060435,
             4.29268464756894,
             4.29268464756894,
             4.815004806125491,
             5.726398632195241,
             6.032934011676862,
             4,
             5.726398632195241,
             4.502144029037208,
             4.29268464756894,
             4.502144029037208,
             4.815004806125491,
             5.160119477784612,
             4.29268464756894,
             4,
             4.29268464756894,
             4.815004806125491,
             7.0270620082926145
            ]
           },
           "mode": "markers",
           "text": [
            "China, Anhui-> Deaths: 0.0 Confirmed: 15.0",
            "China, Beijing-> Deaths: 0.0 Confirmed: 36.0",
            "US, Chicago-> Deaths: 0.0 Confirmed: 1.0",
            "China, Chongqing-> Deaths: 0.0 Confirmed: 27.0",
            "France, France-> Deaths: 0.0 Confirmed: 2.0",
            "China, Fujian-> Deaths: 0.0 Confirmed: 10.0",
            "China, Gansu-> Deaths: 0.0 Confirmed: 2.0",
            "China, Guangdong-> Deaths: 0.0 Confirmed: 53.0",
            "China, Guangxi-> Deaths: 0.0 Confirmed: 23.0",
            "China, Guizhou-> Deaths: 0.0 Confirmed: 3.0",
            "China, Hainan-> Deaths: 0.0 Confirmed: 8.0",
            "China, Hebei-> Deaths: 1.0 Confirmed: 2.0",
            "China, Heilongjiang-> Deaths: 1.0 Confirmed: 4.0",
            "China, Henan-> Deaths: 0.0 Confirmed: 9.0",
            "Hong Kong, Hong Kong-> Deaths: 0.0 Confirmed: 2.0",
            "China, Hubei-> Deaths: 24.0 Confirmed: 549.0",
            "China, Hunan-> Deaths: 0.0 Confirmed: 24.0",
            "China, Inner Mongolia-> Deaths: 0.0 Confirmed: 1.0",
            "Japan, Japan-> Deaths: 0.0 Confirmed: 2.0",
            "China, Jiangsu-> Deaths: 0.0 Confirmed: 9.0",
            "China, Jiangxi-> Deaths: 0.0 Confirmed: 18.0",
            "China, Jilin-> Deaths: 0.0 Confirmed: 3.0",
            "China, Liaoning-> Deaths: 0.0 Confirmed: 4.0",
            "Macau, Macau-> Deaths: 0.0 Confirmed: 2.0",
            "China, Ningxia-> Deaths: 0.0 Confirmed: 2.0",
            "China, Shaanxi-> Deaths: 0.0 Confirmed: 5.0",
            "China, Shandong-> Deaths: 0.0 Confirmed: 15.0",
            "China, Shanghai-> Deaths: 0.0 Confirmed: 20.0",
            "China, Shanxi-> Deaths: 0.0 Confirmed: 1.0",
            "China, Sichuan-> Deaths: 0.0 Confirmed: 15.0",
            "Singapore, Singapore-> Deaths: 0.0 Confirmed: 3.0",
            "South Korea, South Korea-> Deaths: 0.0 Confirmed: 2.0",
            "Taiwan, Taiwan-> Deaths: 0.0 Confirmed: 3.0",
            "Thailand, Thailand-> Deaths: 0.0 Confirmed: 5.0",
            "China, Tianjin-> Deaths: 0.0 Confirmed: 8.0",
            "Vietnam, Vietnam-> Deaths: 0.0 Confirmed: 2.0",
            "US, Washington-> Deaths: 0.0 Confirmed: 1.0",
            "China, Xinjiang-> Deaths: 0.0 Confirmed: 2.0",
            "China, Yunnan-> Deaths: 0.0 Confirmed: 5.0",
            "China, Zhejiang-> Deaths: 0.0 Confirmed: 43.0"
           ],
           "type": "scattergeo"
          }
         ],
         "layout": {
          "title": {
           "text": "Corona Virus spreading in Asia, 2020-01-24",
           "x": 0.5,
           "xanchor": "center",
           "y": 0.98,
           "yanchor": "top"
          }
         }
        },
        {
         "data": [
          {
           "lat": [
            32,
            39.906217,
            30.05518,
            46.603354,
            26.5450001,
            38.0000001,
            23.1357694,
            24,
            27,
            19.2000001,
            39.0000001,
            48.0000047,
            34.0000001,
            22.2793278,
            31.15172525,
            27.9995878,
            40.0796606,
            43.2443242,
            36.5748441,
            33.0000001,
            28,
            42.9995032,
            40.9975197,
            22.1757605,
            4.5693754,
            28.1083929,
            37.0000001,
            35.40709525,
            36,
            36.0000001,
            31.2322758,
            37,
            30.5000001,
            1.357107,
            36.5581914,
            23.9739374,
            14.8971921,
            39.1235635,
            13.2904027,
            38.8948932,
            41.7574769,
            25,
            29.0000001
           ],
           "locationmode": "country names",
           "lon": [
            117,
            116.3912757,
            107.8748712,
            1.8883335,
            117.842778,
            101.9999999,
            113.1982688,
            109,
            107,
            109.5999999,
            116,
            127.999992,
            113.9999999,
            114.1628131,
            112.87832224656043,
            112.009538,
            -89.4337288,
            114.3251664,
            139.2394179,
            119.9999999,
            116,
            125.9816054,
            122.9955469,
            113.5514142,
            102.2656823,
            84.0917139,
            105.9999999,
            95.95211573241954,
            109,
            118.9999999,
            121.4692071,
            112,
            102.4999999,
            103.8194992,
            127.9408564,
            120.9820179,
            100.83273,
            117.1980785,
            108.4265113,
            -77.0365529,
            87.16738423046897,
            102,
            119.9999999
           ],
           "marker": {
            "autocolorscale": false,
            "cmax": 350,
            "cmin": 0,
            "color": [
             0,
             0,
             0,
             0,
             1,
             0,
             0,
             0,
             0,
             0,
             1,
             0,
             1,
             0,
             52,
             0,
             0,
             0,
             0,
             0,
             0,
             0,
             0,
             0,
             0,
             0,
             0,
             0,
             0,
             0,
             1,
             0,
             0,
             0,
             0,
             0,
             0,
             0,
             0,
             0,
             0,
             0,
             0
            ],
            "colorbar": {
             "title": {
              "text": "Number of Deaths"
             }
            },
            "line": {
             "color": "rgba(0, 0, 0)",
             "width": 0.5
            },
            "opacity": 0.6,
            "reversescale": true,
            "size": [
             7.555903716104263,
             7.2897639830644705,
             7.948426620848326,
             4.502144029037208,
             5.916861059582148,
             5.0558871595781,
             8.463754021408548,
             6.6510061989273215,
             4.815004806125491,
             5.975859650018929,
             5.585661160918501,
             5.726398632195241,
             8.137710912549311,
             4.815004806125491,
             16.16027876770024,
             7.797944486874728,
             4,
             5.0558871595781,
             4.29268464756894,
             6.567435936849419,
             6.770581510813514,
             4.671033598060435,
             5.975859650018929,
             4.29268464756894,
             4.502144029037208,
             4,
             4.671033598060435,
             4,
             5.726398632195241,
             6.88403547398714,
             6.920627233984357,
             5.256436683972135,
             7.06149737122402,
             4.502144029037208,
             4.502144029037208,
             4.502144029037208,
             5.0558871595781,
             5.585661160918501,
             4.29268464756894,
             4,
             4.671033598060435,
             5.4305300479524705,
             8.585337036651225
            ]
           },
           "mode": "markers",
           "text": [
            "China, Anhui-> Deaths: 0.0 Confirmed: 60.0",
            "China, Beijing-> Deaths: 0.0 Confirmed: 51.0",
            "China, Chongqing-> Deaths: 0.0 Confirmed: 75.0",
            "France, France-> Deaths: 0.0 Confirmed: 3.0",
            "China, Fujian-> Deaths: 1.0 Confirmed: 18.0",
            "China, Gansu-> Deaths: 0.0 Confirmed: 7.0",
            "China, Guangdong-> Deaths: 0.0 Confirmed: 98.0",
            "China, Guangxi-> Deaths: 0.0 Confirmed: 33.0",
            "China, Guizhou-> Deaths: 0.0 Confirmed: 5.0",
            "China, Hainan-> Deaths: 0.0 Confirmed: 19.0",
            "China, Hebei-> Deaths: 1.0 Confirmed: 13.0",
            "China, Heilongjiang-> Deaths: 0.0 Confirmed: 15.0",
            "China, Henan-> Deaths: 1.0 Confirmed: 83.0",
            "Hong Kong, Hong Kong-> Deaths: 0.0 Confirmed: 5.0",
            "China, Hubei-> Deaths: 52.0 Confirmed: 1052.0",
            "China, Hunan-> Deaths: 0.0 Confirmed: 69.0",
            "US, Illinois-> Deaths: 0.0 Confirmed: 1.0",
            "China, Inner Mongolia-> Deaths: 0.0 Confirmed: 7.0",
            "Japan, Japan-> Deaths: 0.0 Confirmed: 2.0",
            "China, Jiangsu-> Deaths: 0.0 Confirmed: 31.0",
            "China, Jiangxi-> Deaths: 0.0 Confirmed: 36.0",
            "China, Jilin-> Deaths: 0.0 Confirmed: 4.0",
            "China, Liaoning-> Deaths: 0.0 Confirmed: 19.0",
            "Macau, Macau-> Deaths: 0.0 Confirmed: 2.0",
            "Malaysia, Malaysia-> Deaths: 0.0 Confirmed: 3.0",
            "Nepal, Nepal-> Deaths: 0.0 Confirmed: 1.0",
            "China, Ningxia-> Deaths: 0.0 Confirmed: 4.0",
            "China, Qinghai-> Deaths: 0.0 Confirmed: 1.0",
            "China, Shaanxi-> Deaths: 0.0 Confirmed: 15.0",
            "China, Shandong-> Deaths: 0.0 Confirmed: 39.0",
            "China, Shanghai-> Deaths: 1.0 Confirmed: 40.0",
            "China, Shanxi-> Deaths: 0.0 Confirmed: 9.0",
            "China, Sichuan-> Deaths: 0.0 Confirmed: 44.0",
            "Singapore, Singapore-> Deaths: 0.0 Confirmed: 3.0",
            "South Korea, South Korea-> Deaths: 0.0 Confirmed: 3.0",
            "Taiwan, Taiwan-> Deaths: 0.0 Confirmed: 3.0",
            "Thailand, Thailand-> Deaths: 0.0 Confirmed: 7.0",
            "China, Tianjin-> Deaths: 0.0 Confirmed: 13.0",
            "Vietnam, Vietnam-> Deaths: 0.0 Confirmed: 2.0",
            "US, Washington-> Deaths: 0.0 Confirmed: 1.0",
            "China, Xinjiang-> Deaths: 0.0 Confirmed: 4.0",
            "China, Yunnan-> Deaths: 0.0 Confirmed: 11.0",
            "China, Zhejiang-> Deaths: 0.0 Confirmed: 104.0"
           ],
           "type": "scattergeo"
          }
         ],
         "layout": {
          "title": {
           "text": "Corona Virus spreading in Asia, 2020-01-25",
           "x": 0.5,
           "xanchor": "center",
           "y": 0.98,
           "yanchor": "top"
          }
         }
        },
        {
         "data": [
          {
           "lat": [
            32,
            34.395342,
            39.906217,
            36.7014631,
            30.05518,
            46.603354,
            26.5450001,
            38.0000001,
            23.1357694,
            24,
            27,
            19.2000001,
            39.0000001,
            48.0000047,
            34.0000001,
            22.2793278,
            31.15172525,
            27.9995878,
            40.0796606,
            43.2443242,
            36.5748441,
            33.0000001,
            28,
            42.9995032,
            40.9975197,
            22.1757605,
            4.5693754,
            28.1083929,
            37.0000001,
            50.000678,
            35.40709525,
            36,
            36.0000001,
            31.2322758,
            37,
            30.5000001,
            1.357107,
            36.5581914,
            23.9739374,
            14.8971921,
            39.1235635,
            13.2904027,
            38.8948932,
            41.7574769,
            25,
            29.0000001
           ],
           "locationmode": "country names",
           "lon": [
            117,
            -111.7632755,
            116.3912757,
            -118.7559974,
            107.8748712,
            1.8883335,
            117.842778,
            101.9999999,
            113.1982688,
            109,
            107,
            109.5999999,
            116,
            127.999992,
            113.9999999,
            114.1628131,
            112.87832224656043,
            112.009538,
            -89.4337288,
            114.3251664,
            139.2394179,
            119.9999999,
            116,
            125.9816054,
            122.9955469,
            113.5514142,
            102.2656823,
            84.0917139,
            105.9999999,
            -86.000977,
            95.95211573241954,
            109,
            118.9999999,
            121.4692071,
            112,
            102.4999999,
            103.8194992,
            127.9408564,
            120.9820179,
            100.83273,
            117.1980785,
            108.4265113,
            -77.0365529,
            87.16738423046897,
            102,
            119.9999999
           ],
           "marker": {
            "autocolorscale": false,
            "cmax": 350,
            "cmin": 0,
            "color": [
             0,
             0,
             0,
             0,
             0,
             0,
             0,
             0,
             0,
             0,
             0,
             0,
             1,
             1,
             1,
             0,
             76,
             0,
             0,
             0,
             0,
             0,
             0,
             0,
             0,
             0,
             0,
             0,
             0,
             0,
             0,
             0,
             0,
             1,
             0,
             0,
             0,
             0,
             0,
             0,
             0,
             0,
             0,
             0,
             0,
             0
            ],
            "colorbar": {
             "title": {
              "text": "Number of Deaths"
             }
            },
            "line": {
             "color": "rgba(0, 0, 0)",
             "width": 0.5
            },
            "opacity": 0.6,
            "reversescale": true,
            "size": [
             7.823581762327395,
             4,
             7.7720721880742705,
             4.29268464756894,
             8.702579714782685,
             4.502144029037208,
             6.731445075485936,
             5.657613768320726,
             9.333039092007414,
             7.128917772316606,
             5.0558871595781,
             6.141908878443159,
             5.916861059582148,
             6.088238621134508,
             9.031816721613545,
             5.160119477784612,
             17.718164978409675,
             8.50478980785497,
             4,
             5.4305300479524705,
             4.671033598060435,
             7.161937009665921,
             7.194516815297205,
             4.94179852477375,
             6.194064213635992,
             4.94179852477375,
             4.671033598060435,
             4,
             4.671033598060435,
             4,
             4.671033598060435,
             6.141908878443159,
             7.638979204979299,
             7.3513166893231405,
             5.585661160918501,
             7.797944486874728,
             4.671033598060435,
             4.502144029037208,
             4.671033598060435,
             5.160119477784612,
             5.657613768320726,
             4.29268464756894,
             4,
             4.815004806125491,
             5.975859650018929,
             9.031816721613545
            ]
           },
           "mode": "markers",
           "text": [
            "China, Anhui-> Deaths: 0.0 Confirmed: 70.0",
            "US, Arizona-> Deaths: 0.0 Confirmed: 1.0",
            "China, Beijing-> Deaths: 0.0 Confirmed: 68.0",
            "US, California-> Deaths: 0.0 Confirmed: 2.0",
            "China, Chongqing-> Deaths: 0.0 Confirmed: 110.0",
            "France, France-> Deaths: 0.0 Confirmed: 3.0",
            "China, Fujian-> Deaths: 0.0 Confirmed: 35.0",
            "China, Gansu-> Deaths: 0.0 Confirmed: 14.0",
            "China, Guangdong-> Deaths: 0.0 Confirmed: 146.0",
            "China, Guangxi-> Deaths: 0.0 Confirmed: 46.0",
            "China, Guizhou-> Deaths: 0.0 Confirmed: 7.0",
            "China, Hainan-> Deaths: 0.0 Confirmed: 22.0",
            "China, Hebei-> Deaths: 1.0 Confirmed: 18.0",
            "China, Heilongjiang-> Deaths: 1.0 Confirmed: 21.0",
            "China, Henan-> Deaths: 1.0 Confirmed: 128.0",
            "Hong Kong, Hong Kong-> Deaths: 0.0 Confirmed: 8.0",
            "China, Hubei-> Deaths: 76.0 Confirmed: 1423.0",
            "China, Hunan-> Deaths: 0.0 Confirmed: 100.0",
            "US, Illinois-> Deaths: 0.0 Confirmed: 1.0",
            "China, Inner Mongolia-> Deaths: 0.0 Confirmed: 11.0",
            "Japan, Japan-> Deaths: 0.0 Confirmed: 4.0",
            "China, Jiangsu-> Deaths: 0.0 Confirmed: 47.0",
            "China, Jiangxi-> Deaths: 0.0 Confirmed: 48.0",
            "China, Jilin-> Deaths: 0.0 Confirmed: 6.0",
            "China, Liaoning-> Deaths: 0.0 Confirmed: 23.0",
            "Macau, Macau-> Deaths: 0.0 Confirmed: 6.0",
            "Malaysia, Malaysia-> Deaths: 0.0 Confirmed: 4.0",
            "Nepal, Nepal-> Deaths: 0.0 Confirmed: 1.0",
            "China, Ningxia-> Deaths: 0.0 Confirmed: 4.0",
            "Canada, Ontario-> Deaths: 0.0 Confirmed: 1.0",
            "China, Qinghai-> Deaths: 0.0 Confirmed: 4.0",
            "China, Shaanxi-> Deaths: 0.0 Confirmed: 22.0",
            "China, Shandong-> Deaths: 0.0 Confirmed: 63.0",
            "China, Shanghai-> Deaths: 1.0 Confirmed: 53.0",
            "China, Shanxi-> Deaths: 0.0 Confirmed: 13.0",
            "China, Sichuan-> Deaths: 0.0 Confirmed: 69.0",
            "Singapore, Singapore-> Deaths: 0.0 Confirmed: 4.0",
            "South Korea, South Korea-> Deaths: 0.0 Confirmed: 3.0",
            "Taiwan, Taiwan-> Deaths: 0.0 Confirmed: 4.0",
            "Thailand, Thailand-> Deaths: 0.0 Confirmed: 8.0",
            "China, Tianjin-> Deaths: 0.0 Confirmed: 14.0",
            "Vietnam, Vietnam-> Deaths: 0.0 Confirmed: 2.0",
            "US, Washington-> Deaths: 0.0 Confirmed: 1.0",
            "China, Xinjiang-> Deaths: 0.0 Confirmed: 5.0",
            "China, Yunnan-> Deaths: 0.0 Confirmed: 19.0",
            "China, Zhejiang-> Deaths: 0.0 Confirmed: 128.0"
           ],
           "type": "scattergeo"
          }
         ],
         "layout": {
          "title": {
           "text": "Corona Virus spreading in Asia, 2020-01-26",
           "x": 0.5,
           "xanchor": "center",
           "y": 0.98,
           "yanchor": "top"
          }
         }
        },
        {
         "data": [
          {
           "lat": [
            32,
            34.395342,
            48.9467562,
            39.906217,
            36.7014631,
            13.5066394,
            30.05518,
            46.603354,
            26.5450001,
            38.0000001,
            23.1357694,
            24,
            27,
            19.2000001,
            39.0000001,
            48.0000047,
            34.0000001,
            22.2793278,
            31.15172525,
            27.9995878,
            40.0796606,
            43.2443242,
            36.5748441,
            33.0000001,
            28,
            42.9995032,
            40.9975197,
            22.1757605,
            4.5693754,
            28.1083929,
            -31.8759835,
            37.0000001,
            50.000678,
            35.40709525,
            36,
            36.0000001,
            31.2322758,
            37,
            30.5000001,
            1.357107,
            36.5581914,
            7.5554942,
            23.9739374,
            14.8971921,
            39.1235635,
            -36.5986096,
            13.2904027,
            38.8948932,
            41.7574769,
            25,
            29.0000001
           ],
           "locationmode": "country names",
           "lon": [
            117,
            -111.7632755,
            11.4038717,
            116.3912757,
            -118.7559974,
            104.869423,
            107.8748712,
            1.8883335,
            117.842778,
            101.9999999,
            113.1982688,
            109,
            107,
            109.5999999,
            116,
            127.999992,
            113.9999999,
            114.1628131,
            112.87832224656043,
            112.009538,
            -89.4337288,
            114.3251664,
            139.2394179,
            119.9999999,
            116,
            125.9816054,
            122.9955469,
            113.5514142,
            102.2656823,
            84.0917139,
            147.2869493,
            105.9999999,
            -86.000977,
            95.95211573241954,
            109,
            118.9999999,
            121.4692071,
            112,
            102.4999999,
            103.8194992,
            127.9408564,
            80.7137847,
            120.9820179,
            100.83273,
            117.1980785,
            144.6780052,
            108.4265113,
            -77.0365529,
            87.16738423046897,
            102,
            119.9999999
           ],
           "marker": {
            "autocolorscale": false,
            "cmax": 350,
            "cmin": 0,
            "color": [
             0,
             0,
             0,
             1,
             0,
             0,
             0,
             0,
             0,
             0,
             0,
             0,
             0,
             1,
             1,
             1,
             1,
             0,
             100,
             0,
             0,
             0,
             0,
             0,
             0,
             0,
             0,
             0,
             0,
             0,
             0,
             0,
             0,
             0,
             0,
             1,
             1,
             0,
             0,
             0,
             0,
             0,
             0,
             0,
             0,
             0,
             0,
             0,
             0,
             0,
             0
            ],
            "colorbar": {
             "title": {
              "text": "Number of Deaths"
             }
            },
            "line": {
             "color": "rgba(0, 0, 0)",
             "width": 0.5
            },
            "opacity": 0.6,
            "reversescale": true,
            "size": [
             8.624880280998532,
             4,
             4,
             8.068134634212257,
             4.29268464756894,
             4,
             9.100954025134477,
             4.502144029037208,
             7.527631944695398,
             5.975859650018929,
             9.412516550145508,
             7.2897639830644705,
             5.256436683972135,
             6.6510061989273215,
             6.6510061989273215,
             6.524373654991745,
             9.670964397559343,
             5.160119477784612,
             21.694220002961224,
             8.50478980785497,
             4,
             5.4305300479524705,
             4.671033598060435,
             7.823581762327395,
             7.8741728314359305,
             4.94179852477375,
             6.389492891729259,
             4.94179852477375,
             4.671033598060435,
             4,
             4.671033598060435,
             5.0558871595781,
             4,
             4.94179852477375,
             6.731445075485936,
             8.228058805837552,
             7.719599661532381,
             6.032934011676862,
             8.29411684194189,
             4.815004806125491,
             4.671033598060435,
             4,
             4.815004806125491,
             5.160119477784612,
             6.194064213635992,
             4,
             4.29268464756894,
             4,
             4.815004806125491,
             6.34244448653463,
             9.743819909152371
            ]
           },
           "mode": "markers",
           "text": [
            "China, Anhui-> Deaths: 0.0 Confirmed: 106.0",
            "US, Arizona-> Deaths: 0.0 Confirmed: 1.0",
            "Germany, Bavaria-> Deaths: 0.0 Confirmed: 1.0",
            "China, Beijing-> Deaths: 1.0 Confirmed: 80.0",
            "US, California-> Deaths: 0.0 Confirmed: 2.0",
            "Cambodia, Cambodia-> Deaths: 0.0 Confirmed: 1.0",
            "China, Chongqing-> Deaths: 0.0 Confirmed: 132.0",
            "France, France-> Deaths: 0.0 Confirmed: 3.0",
            "China, Fujian-> Deaths: 0.0 Confirmed: 59.0",
            "China, Gansu-> Deaths: 0.0 Confirmed: 19.0",
            "China, Guangdong-> Deaths: 0.0 Confirmed: 151.0",
            "China, Guangxi-> Deaths: 0.0 Confirmed: 51.0",
            "China, Guizhou-> Deaths: 0.0 Confirmed: 9.0",
            "China, Hainan-> Deaths: 1.0 Confirmed: 33.0",
            "China, Hebei-> Deaths: 1.0 Confirmed: 33.0",
            "China, Heilongjiang-> Deaths: 1.0 Confirmed: 30.0",
            "China, Henan-> Deaths: 1.0 Confirmed: 168.0",
            "Hong Kong, Hong Kong-> Deaths: 0.0 Confirmed: 8.0",
            "China, Hubei-> Deaths: 100.0 Confirmed: 2714.0",
            "China, Hunan-> Deaths: 0.0 Confirmed: 100.0",
            "US, Illinois-> Deaths: 0.0 Confirmed: 1.0",
            "China, Inner Mongolia-> Deaths: 0.0 Confirmed: 11.0",
            "Japan, Japan-> Deaths: 0.0 Confirmed: 4.0",
            "China, Jiangsu-> Deaths: 0.0 Confirmed: 70.0",
            "China, Jiangxi-> Deaths: 0.0 Confirmed: 72.0",
            "China, Jilin-> Deaths: 0.0 Confirmed: 6.0",
            "China, Liaoning-> Deaths: 0.0 Confirmed: 27.0",
            "Macau, Macau-> Deaths: 0.0 Confirmed: 6.0",
            "Malaysia, Malaysia-> Deaths: 0.0 Confirmed: 4.0",
            "Nepal, Nepal-> Deaths: 0.0 Confirmed: 1.0",
            "Australia, New South Wales-> Deaths: 0.0 Confirmed: 4.0",
            "China, Ningxia-> Deaths: 0.0 Confirmed: 7.0",
            "Canada, Ontario-> Deaths: 0.0 Confirmed: 1.0",
            "China, Qinghai-> Deaths: 0.0 Confirmed: 6.0",
            "China, Shaanxi-> Deaths: 0.0 Confirmed: 35.0",
            "China, Shandong-> Deaths: 1.0 Confirmed: 87.0",
            "China, Shanghai-> Deaths: 1.0 Confirmed: 66.0",
            "China, Shanxi-> Deaths: 0.0 Confirmed: 20.0",
            "China, Sichuan-> Deaths: 0.0 Confirmed: 90.0",
            "Singapore, Singapore-> Deaths: 0.0 Confirmed: 5.0",
            "South Korea, South Korea-> Deaths: 0.0 Confirmed: 4.0",
            "Sri Lanka, Sri Lanka-> Deaths: 0.0 Confirmed: 1.0",
            "Taiwan, Taiwan-> Deaths: 0.0 Confirmed: 5.0",
            "Thailand, Thailand-> Deaths: 0.0 Confirmed: 8.0",
            "China, Tianjin-> Deaths: 0.0 Confirmed: 23.0",
            "Australia, Victoria-> Deaths: 0.0 Confirmed: 1.0",
            "Vietnam, Vietnam-> Deaths: 0.0 Confirmed: 2.0",
            "US, Washington-> Deaths: 0.0 Confirmed: 1.0",
            "China, Xinjiang-> Deaths: 0.0 Confirmed: 5.0",
            "China, Yunnan-> Deaths: 0.0 Confirmed: 26.0",
            "China, Zhejiang-> Deaths: 0.0 Confirmed: 173.0"
           ],
           "type": "scattergeo"
          }
         ],
         "layout": {
          "title": {
           "text": "Corona Virus spreading in Asia, 2020-01-27",
           "x": 0.5,
           "xanchor": "center",
           "y": 0.98,
           "yanchor": "top"
          }
         }
        },
        {
         "data": [
          {
           "lat": [
            32,
            34.395342,
            48.9467562,
            39.906217,
            55.001251,
            36.7014631,
            13.5066394,
            30.05518,
            46.603354,
            26.5450001,
            38.0000001,
            23.1357694,
            24,
            27,
            19.2000001,
            39.0000001,
            48.0000047,
            34.0000001,
            22.2793278,
            31.15172525,
            27.9995878,
            40.0796606,
            43.2443242,
            36.5748441,
            33.0000001,
            28,
            42.9995032,
            40.9975197,
            22.1757605,
            4.5693754,
            28.1083929,
            -31.8759835,
            37.0000001,
            50.000678,
            35.40709525,
            36,
            36.0000001,
            31.2322758,
            37,
            30.5000001,
            1.357107,
            36.5581914,
            7.5554942,
            23.9739374,
            14.8971921,
            39.1235635,
            -36.5986096,
            13.2904027,
            38.8948932,
            41.7574769,
            25,
            29.0000001
           ],
           "locationmode": "country names",
           "lon": [
            117,
            -111.7632755,
            11.4038717,
            116.3912757,
            -125.002441,
            -118.7559974,
            104.869423,
            107.8748712,
            1.8883335,
            117.842778,
            101.9999999,
            113.1982688,
            109,
            107,
            109.5999999,
            116,
            127.999992,
            113.9999999,
            114.1628131,
            112.87832224656043,
            112.009538,
            -89.4337288,
            114.3251664,
            139.2394179,
            119.9999999,
            116,
            125.9816054,
            122.9955469,
            113.5514142,
            102.2656823,
            84.0917139,
            147.2869493,
            105.9999999,
            -86.000977,
            95.95211573241954,
            109,
            118.9999999,
            121.4692071,
            112,
            102.4999999,
            103.8194992,
            127.9408564,
            80.7137847,
            120.9820179,
            100.83273,
            117.1980785,
            144.6780052,
            108.4265113,
            -77.0365529,
            87.16738423046897,
            102,
            119.9999999
           ],
           "marker": {
            "autocolorscale": false,
            "cmax": 350,
            "cmin": 0,
            "color": [
             0,
             0,
             0,
             1,
             0,
             0,
             0,
             0,
             0,
             0,
             0,
             0,
             0,
             0,
             1,
             1,
             1,
             2,
             0,
             125,
             0,
             0,
             0,
             0,
             0,
             0,
             0,
             0,
             0,
             0,
             0,
             0,
             0,
             0,
             0,
             0,
             0,
             1,
             0,
             0,
             0,
             0,
             0,
             0,
             0,
             0,
             0,
             0,
             0,
             0,
             0,
             0
            ],
            "colorbar": {
             "title": {
              "text": "Number of Deaths"
             }
            },
            "line": {
             "color": "rgba(0, 0, 0)",
             "width": 0.5
            },
            "opacity": 0.6,
            "reversescale": true,
            "size": [
             9.428212393159187,
             4,
             4.671033598060435,
             8.315827579752149,
             4,
             4.29268464756894,
             4,
             9.34907012690361,
             4.671033598060435,
             8.11469740720754,
             6.244810575561126,
             10.624801365006507,
             7.49905683093882,
             5.256436683972135,
             7.0270620082926145,
             7.194516815297205,
             6.809039298366404,
             10.19428866251348,
             5.160119477784612,
             23.657631556659094,
             10.384029697622363,
             4,
             5.792353285846804,
             5.0558871595781,
             8.484337161696507,
             8.683323885459039,
             5.256436683972135,
             6.770581510813514,
             5.0558871595781,
             5.0558871595781,
             4,
             4.671033598060435,
             5.510133141647044,
             4,
             4.94179852477375,
             7.440961897531936,
             8.90747631399984,
             8.068134634212257,
             6.389492891729259,
             8.663956502466613,
             5.0558871595781,
             4.671033598060435,
             4,
             5.160119477784612,
             5.657613768320726,
             6.294242446258631,
             4,
             4.29268464756894,
             4,
             5.585661160918501,
             7.06149737122402,
             11.227979980048302
            ]
           },
           "mode": "markers",
           "text": [
            "China, Anhui-> Deaths: 0.0 Confirmed: 152.0",
            "US, Arizona-> Deaths: 0.0 Confirmed: 1.0",
            "Germany, Bavaria-> Deaths: 0.0 Confirmed: 4.0",
            "China, Beijing-> Deaths: 1.0 Confirmed: 91.0",
            "Canada, British Columbia-> Deaths: 0.0 Confirmed: 1.0",
            "US, California-> Deaths: 0.0 Confirmed: 2.0",
            "Cambodia, Cambodia-> Deaths: 0.0 Confirmed: 1.0",
            "China, Chongqing-> Deaths: 0.0 Confirmed: 147.0",
            "France, France-> Deaths: 0.0 Confirmed: 4.0",
            "China, Fujian-> Deaths: 0.0 Confirmed: 82.0",
            "China, Gansu-> Deaths: 0.0 Confirmed: 24.0",
            "China, Guangdong-> Deaths: 0.0 Confirmed: 241.0",
            "China, Guangxi-> Deaths: 0.0 Confirmed: 58.0",
            "China, Guizhou-> Deaths: 0.0 Confirmed: 9.0",
            "China, Hainan-> Deaths: 1.0 Confirmed: 43.0",
            "China, Hebei-> Deaths: 1.0 Confirmed: 48.0",
            "China, Heilongjiang-> Deaths: 1.0 Confirmed: 37.0",
            "China, Henan-> Deaths: 2.0 Confirmed: 206.0",
            "Hong Kong, Hong Kong-> Deaths: 0.0 Confirmed: 8.0",
            "China, Hubei-> Deaths: 125.0 Confirmed: 3554.0",
            "China, Hunan-> Deaths: 0.0 Confirmed: 221.0",
            "US, Illinois-> Deaths: 0.0 Confirmed: 1.0",
            "China, Inner Mongolia-> Deaths: 0.0 Confirmed: 16.0",
            "Japan, Japan-> Deaths: 0.0 Confirmed: 7.0",
            "China, Jiangsu-> Deaths: 0.0 Confirmed: 99.0",
            "China, Jiangxi-> Deaths: 0.0 Confirmed: 109.0",
            "China, Jilin-> Deaths: 0.0 Confirmed: 9.0",
            "China, Liaoning-> Deaths: 0.0 Confirmed: 36.0",
            "Macau, Macau-> Deaths: 0.0 Confirmed: 7.0",
            "Malaysia, Malaysia-> Deaths: 0.0 Confirmed: 7.0",
            "Nepal, Nepal-> Deaths: 0.0 Confirmed: 1.0",
            "Australia, New South Wales-> Deaths: 0.0 Confirmed: 4.0",
            "China, Ningxia-> Deaths: 0.0 Confirmed: 12.0",
            "Canada, Ontario-> Deaths: 0.0 Confirmed: 1.0",
            "China, Qinghai-> Deaths: 0.0 Confirmed: 6.0",
            "China, Shaanxi-> Deaths: 0.0 Confirmed: 56.0",
            "China, Shandong-> Deaths: 0.0 Confirmed: 121.0",
            "China, Shanghai-> Deaths: 1.0 Confirmed: 80.0",
            "China, Shanxi-> Deaths: 0.0 Confirmed: 27.0",
            "China, Sichuan-> Deaths: 0.0 Confirmed: 108.0",
            "Singapore, Singapore-> Deaths: 0.0 Confirmed: 7.0",
            "South Korea, South Korea-> Deaths: 0.0 Confirmed: 4.0",
            "Sri Lanka, Sri Lanka-> Deaths: 0.0 Confirmed: 1.0",
            "Taiwan, Taiwan-> Deaths: 0.0 Confirmed: 8.0",
            "Thailand, Thailand-> Deaths: 0.0 Confirmed: 14.0",
            "China, Tianjin-> Deaths: 0.0 Confirmed: 25.0",
            "Australia, Victoria-> Deaths: 0.0 Confirmed: 1.0",
            "Vietnam, Vietnam-> Deaths: 0.0 Confirmed: 2.0",
            "US, Washington-> Deaths: 0.0 Confirmed: 1.0",
            "China, Xinjiang-> Deaths: 0.0 Confirmed: 13.0",
            "China, Yunnan-> Deaths: 0.0 Confirmed: 44.0",
            "China, Zhejiang-> Deaths: 0.0 Confirmed: 296.0"
           ],
           "type": "scattergeo"
          }
         ],
         "layout": {
          "title": {
           "text": "Corona Virus spreading in Asia, 2020-01-28",
           "x": 0.5,
           "xanchor": "center",
           "y": 0.98,
           "yanchor": "top"
          }
         }
        },
        {
         "data": [
          {
           "lat": [
            32,
            34.395342,
            48.9467562,
            39.906217,
            55.001251,
            36.7014631,
            13.5066394,
            30.05518,
            63.2467777,
            46.603354,
            26.5450001,
            38.0000001,
            23.1357694,
            24,
            27,
            19.2000001,
            39.0000001,
            48.0000047,
            34.0000001,
            22.2793278,
            31.15172525,
            27.9995878,
            40.0796606,
            43.2443242,
            36.5748441,
            33.0000001,
            28,
            42.9995032,
            40.9975197,
            22.1757605,
            4.5693754,
            28.1083929,
            -31.8759835,
            37.0000001,
            50.000678,
            35.40709525,
            -22.1646782,
            36,
            36.0000001,
            31.2322758,
            37,
            30.5000001,
            1.357107,
            36.5581914,
            7.5554942,
            23.9739374,
            14.8971921,
            39.1235635,
            31.894343149999997,
            24.0002488,
            -36.5986096,
            13.2904027,
            38.8948932,
            41.7574769,
            25,
            29.0000001
           ],
           "locationmode": "country names",
           "lon": [
            117,
            -111.7632755,
            11.4038717,
            116.3912757,
            -125.002441,
            -118.7559974,
            104.869423,
            107.8748712,
            25.9209164,
            1.8883335,
            117.842778,
            101.9999999,
            113.1982688,
            109,
            107,
            109.5999999,
            116,
            127.999992,
            113.9999999,
            114.1628131,
            112.87832224656043,
            112.009538,
            -89.4337288,
            114.3251664,
            139.2394179,
            119.9999999,
            116,
            125.9816054,
            122.9955469,
            113.5514142,
            102.2656823,
            84.0917139,
            147.2869493,
            105.9999999,
            -86.000977,
            95.95211573241954,
            144.5844903,
            109,
            118.9999999,
            121.4692071,
            112,
            102.4999999,
            103.8194992,
            127.9408564,
            80.7137847,
            120.9820179,
            100.83273,
            117.1980785,
            87.07813712706509,
            53.9994829,
            144.6780052,
            108.4265113,
            -77.0365529,
            87.16738423046897,
            102,
            119.9999999
           ],
           "marker": {
            "autocolorscale": false,
            "cmax": 350,
            "cmin": 0,
            "color": [
             0,
             0,
             0,
             1,
             0,
             0,
             0,
             0,
             0,
             0,
             0,
             0,
             0,
             0,
             0,
             1,
             1,
             1,
             2,
             0,
             162,
             0,
             0,
             0,
             0,
             0,
             0,
             0,
             0,
             0,
             0,
             0,
             0,
             0,
             0,
             0,
             0,
             0,
             0,
             1,
             0,
             1,
             0,
             0,
             0,
             0,
             0,
             0,
             0,
             0,
             0,
             0,
             0,
             0,
             0,
             0
            ],
            "colorbar": {
             "title": {
              "text": "Number of Deaths"
             }
            },
            "line": {
             "color": "rgba(0, 0, 0)",
             "width": 0.5
            },
            "opacity": 0.6,
            "reversescale": true,
            "size": [
             10.115957272708098,
             4,
             4.671033598060435,
             8.721725638409168,
             4,
             4.29268464756894,
             4,
             9.626593798247049,
             4,
             4.815004806125491,
             8.525114079844972,
             6.34244448653463,
             11.38001099657052,
             8.020833027836328,
             5.510133141647044,
             7.0270620082926145,
             7.692987434079096,
             7.0270620082926145,
             11.038995328023105,
             5.346228848142263,
             25.703179629243312,
             11.02827308350268,
             4,
             5.792353285846804,
             5.4305300479524705,
             9.049227150319336,
             9.581712296890988,
             5.657613768320726,
             6.88403547398714,
             5.0558871595781,
             5.0558871595781,
             4,
             4.671033598060435,
             5.510133141647044,
             4.29268464756894,
             4.94179852477375,
             4,
             7.440961897531936,
             9.316938772764521,
             8.525114079844972,
             6.731445075485936,
             9.268214233380256,
             5.346228848142263,
             4.671033598060435,
             4,
             5.160119477784612,
             5.657613768320726,
             6.389492891729259,
             4,
             4.671033598060435,
             4.29268464756894,
             4.29268464756894,
             4,
             5.657613768320726,
             7.411423718466154,
             12.43210883489381
            ]
           },
           "mode": "markers",
           "text": [
            "China, Anhui-> Deaths: 0.0 Confirmed: 200.0",
            "US, Arizona-> Deaths: 0.0 Confirmed: 1.0",
            "Germany, Bavaria-> Deaths: 0.0 Confirmed: 4.0",
            "China, Beijing-> Deaths: 1.0 Confirmed: 111.0",
            "Canada, British Columbia-> Deaths: 0.0 Confirmed: 1.0",
            "US, California-> Deaths: 0.0 Confirmed: 2.0",
            "Cambodia, Cambodia-> Deaths: 0.0 Confirmed: 1.0",
            "China, Chongqing-> Deaths: 0.0 Confirmed: 165.0",
            "Finland, Finland-> Deaths: 0.0 Confirmed: 1.0",
            "France, France-> Deaths: 0.0 Confirmed: 5.0",
            "China, Fujian-> Deaths: 0.0 Confirmed: 101.0",
            "China, Gansu-> Deaths: 0.0 Confirmed: 26.0",
            "China, Guangdong-> Deaths: 0.0 Confirmed: 311.0",
            "China, Guangxi-> Deaths: 0.0 Confirmed: 78.0",
            "China, Guizhou-> Deaths: 0.0 Confirmed: 12.0",
            "China, Hainan-> Deaths: 1.0 Confirmed: 43.0",
            "China, Hebei-> Deaths: 1.0 Confirmed: 65.0",
            "China, Heilongjiang-> Deaths: 1.0 Confirmed: 43.0",
            "China, Henan-> Deaths: 2.0 Confirmed: 278.0",
            "Hong Kong, Hong Kong-> Deaths: 0.0 Confirmed: 10.0",
            "China, Hubei-> Deaths: 162.0 Confirmed: 4586.0",
            "China, Hunan-> Deaths: 0.0 Confirmed: 277.0",
            "US, Illinois-> Deaths: 0.0 Confirmed: 1.0",
            "China, Inner Mongolia-> Deaths: 0.0 Confirmed: 16.0",
            "Japan, Japan-> Deaths: 0.0 Confirmed: 11.0",
            "China, Jiangsu-> Deaths: 0.0 Confirmed: 129.0",
            "China, Jiangxi-> Deaths: 0.0 Confirmed: 162.0",
            "China, Jilin-> Deaths: 0.0 Confirmed: 14.0",
            "China, Liaoning-> Deaths: 0.0 Confirmed: 39.0",
            "Macau, Macau-> Deaths: 0.0 Confirmed: 7.0",
            "Malaysia, Malaysia-> Deaths: 0.0 Confirmed: 7.0",
            "Nepal, Nepal-> Deaths: 0.0 Confirmed: 1.0",
            "Australia, New South Wales-> Deaths: 0.0 Confirmed: 4.0",
            "China, Ningxia-> Deaths: 0.0 Confirmed: 12.0",
            "Canada, Ontario-> Deaths: 0.0 Confirmed: 2.0",
            "China, Qinghai-> Deaths: 0.0 Confirmed: 6.0",
            "Australia, Queensland-> Deaths: 0.0 Confirmed: 1.0",
            "China, Shaanxi-> Deaths: 0.0 Confirmed: 56.0",
            "China, Shandong-> Deaths: 0.0 Confirmed: 145.0",
            "China, Shanghai-> Deaths: 1.0 Confirmed: 101.0",
            "China, Shanxi-> Deaths: 0.0 Confirmed: 35.0",
            "China, Sichuan-> Deaths: 1.0 Confirmed: 142.0",
            "Singapore, Singapore-> Deaths: 0.0 Confirmed: 10.0",
            "South Korea, South Korea-> Deaths: 0.0 Confirmed: 4.0",
            "Sri Lanka, Sri Lanka-> Deaths: 0.0 Confirmed: 1.0",
            "Taiwan, Taiwan-> Deaths: 0.0 Confirmed: 8.0",
            "Thailand, Thailand-> Deaths: 0.0 Confirmed: 14.0",
            "China, Tianjin-> Deaths: 0.0 Confirmed: 27.0",
            "China, Tibet-> Deaths: 0.0 Confirmed: 1.0",
            "United Arab Emirates, United Arab Emirates-> Deaths: 0.0 Confirmed: 4.0",
            "Australia, Victoria-> Deaths: 0.0 Confirmed: 2.0",
            "Vietnam, Vietnam-> Deaths: 0.0 Confirmed: 2.0",
            "US, Washington-> Deaths: 0.0 Confirmed: 1.0",
            "China, Xinjiang-> Deaths: 0.0 Confirmed: 14.0",
            "China, Yunnan-> Deaths: 0.0 Confirmed: 55.0",
            "China, Zhejiang-> Deaths: 0.0 Confirmed: 428.0"
           ],
           "type": "scattergeo"
          }
         ],
         "layout": {
          "title": {
           "text": "Corona Virus spreading in Asia, 2020-01-29",
           "x": 0.5,
           "xanchor": "center",
           "y": 0.98,
           "yanchor": "top"
          }
         }
        },
        {
         "data": [
          {
           "lat": [
            32,
            34.395342,
            48.9467562,
            39.906217,
            55.001251,
            36.7014631,
            13.5066394,
            30.05518,
            63.2467777,
            46.603354,
            26.5450001,
            38.0000001,
            23.1357694,
            24,
            27,
            19.2000001,
            39.0000001,
            48.0000047,
            34.0000001,
            22.2793278,
            31.15172525,
            27.9995878,
            40.0796606,
            22.3511148,
            43.2443242,
            42.6384261,
            36.5748441,
            33.0000001,
            28,
            42.9995032,
            40.9975197,
            22.1757605,
            4.5693754,
            28.1083929,
            -31.8759835,
            37.0000001,
            50.000678,
            12.7503486,
            35.40709525,
            -22.1646782,
            36,
            36.0000001,
            31.2322758,
            37,
            30.5000001,
            1.357107,
            36.5581914,
            7.5554942,
            23.9739374,
            14.8971921,
            39.1235635,
            31.894343149999997,
            24.0002488,
            -36.5986096,
            13.2904027,
            38.8948932,
            41.7574769,
            25,
            29.0000001
           ],
           "locationmode": "country names",
           "lon": [
            117,
            -111.7632755,
            11.4038717,
            116.3912757,
            -125.002441,
            -118.7559974,
            104.869423,
            107.8748712,
            25.9209164,
            1.8883335,
            117.842778,
            101.9999999,
            113.1982688,
            109,
            107,
            109.5999999,
            116,
            127.999992,
            113.9999999,
            114.1628131,
            112.87832224656043,
            112.009538,
            -89.4337288,
            78.6677428,
            114.3251664,
            12.674297,
            139.2394179,
            119.9999999,
            116,
            125.9816054,
            122.9955469,
            113.5514142,
            102.2656823,
            84.0917139,
            147.2869493,
            105.9999999,
            -86.000977,
            122.7312101,
            95.95211573241954,
            144.5844903,
            109,
            118.9999999,
            121.4692071,
            112,
            102.4999999,
            103.8194992,
            127.9408564,
            80.7137847,
            120.9820179,
            100.83273,
            117.1980785,
            87.07813712706509,
            53.9994829,
            144.6780052,
            108.4265113,
            -77.0365529,
            87.16738423046897,
            102,
            119.9999999
           ],
           "marker": {
            "autocolorscale": false,
            "cmax": 350,
            "cmin": 0,
            "color": [
             0,
             0,
             0,
             1,
             0,
             0,
             0,
             0,
             0,
             0,
             0,
             0,
             0,
             0,
             0,
             1,
             1,
             2,
             2,
             0,
             204,
             0,
             0,
             0,
             0,
             0,
             0,
             0,
             0,
             0,
             0,
             0,
             0,
             0,
             0,
             0,
             0,
             0,
             0,
             0,
             0,
             0,
             1,
             0,
             1,
             0,
             0,
             0,
             0,
             0,
             0,
             0,
             0,
             0,
             0,
             0,
             0,
             0,
             0
            ],
            "colorbar": {
             "title": {
              "text": "Number of Deaths"
             }
            },
            "line": {
             "color": "rgba(0, 0, 0)",
             "width": 0.5
            },
            "opacity": 0.6,
            "reversescale": true,
            "size": [
             10.577682845233985,
             4,
             4.671033598060435,
             8.90747631399984,
             4,
             4.29268464756894,
             4,
             10.19428866251348,
             4,
             4.815004806125491,
             8.525114079844972,
             6.480397821231865,
             12.138735961471609,
             8.228058805837552,
             5.726398632195241,
             7.258416635648482,
             8.11469740720754,
             7.527631944695398,
             11.773319580552005,
             5.510133141647044,
             27.775848127009525,
             11.58528755199164,
             4.29268464756894,
             4,
             6.032934011676862,
             4.29268464756894,
             5.4305300479524705,
             9.670964397559343,
             10.613068179138615,
             5.657613768320726,
             7.09544342612729,
             5.0558871595781,
             5.160119477784612,
             4,
             4.671033598060435,
             6.088238621134508,
             4.29268464756894,
             4,
             5.160119477784612,
             4.502144029037208,
             8.228058805837552,
             9.815361392350553,
             9.031816721613545,
             6.88403547398714,
             9.801155291402312,
             5.346228848142263,
             4.94179852477375,
             4,
             5.256436683972135,
             5.657613768320726,
             6.6096322232028495,
             4,
             4.671033598060435,
             4.29268464756894,
             4.29268464756894,
             4,
             5.855760766039176,
             7.9727614582939985,
             13.258918680359471
            ]
           },
           "mode": "markers",
           "text": [
            "China, Anhui-> Deaths: 0.0 Confirmed: 237.0",
            "US, Arizona-> Deaths: 0.0 Confirmed: 1.0",
            "Germany, Bavaria-> Deaths: 0.0 Confirmed: 4.0",
            "China, Beijing-> Deaths: 1.0 Confirmed: 121.0",
            "Canada, British Columbia-> Deaths: 0.0 Confirmed: 1.0",
            "US, California-> Deaths: 0.0 Confirmed: 2.0",
            "Cambodia, Cambodia-> Deaths: 0.0 Confirmed: 1.0",
            "China, Chongqing-> Deaths: 0.0 Confirmed: 206.0",
            "Finland, Finland-> Deaths: 0.0 Confirmed: 1.0",
            "France, France-> Deaths: 0.0 Confirmed: 5.0",
            "China, Fujian-> Deaths: 0.0 Confirmed: 101.0",
            "China, Gansu-> Deaths: 0.0 Confirmed: 29.0",
            "China, Guangdong-> Deaths: 0.0 Confirmed: 393.0",
            "China, Guangxi-> Deaths: 0.0 Confirmed: 87.0",
            "China, Guizhou-> Deaths: 0.0 Confirmed: 15.0",
            "China, Hainan-> Deaths: 1.0 Confirmed: 50.0",
            "China, Hebei-> Deaths: 1.0 Confirmed: 82.0",
            "China, Heilongjiang-> Deaths: 2.0 Confirmed: 59.0",
            "China, Henan-> Deaths: 2.0 Confirmed: 352.0",
            "Hong Kong, Hong Kong-> Deaths: 0.0 Confirmed: 12.0",
            "China, Hubei-> Deaths: 204.0 Confirmed: 5806.0",
            "China, Hunan-> Deaths: 0.0 Confirmed: 332.0",
            "US, Illinois-> Deaths: 0.0 Confirmed: 2.0",
            "India, India-> Deaths: 0.0 Confirmed: 1.0",
            "China, Inner Mongolia-> Deaths: 0.0 Confirmed: 20.0",
            "Italy, Italy-> Deaths: 0.0 Confirmed: 2.0",
            "Japan, Japan-> Deaths: 0.0 Confirmed: 11.0",
            "China, Jiangsu-> Deaths: 0.0 Confirmed: 168.0",
            "China, Jiangxi-> Deaths: 0.0 Confirmed: 240.0",
            "China, Jilin-> Deaths: 0.0 Confirmed: 14.0",
            "China, Liaoning-> Deaths: 0.0 Confirmed: 45.0",
            "Macau, Macau-> Deaths: 0.0 Confirmed: 7.0",
            "Malaysia, Malaysia-> Deaths: 0.0 Confirmed: 8.0",
            "Nepal, Nepal-> Deaths: 0.0 Confirmed: 1.0",
            "Australia, New South Wales-> Deaths: 0.0 Confirmed: 4.0",
            "China, Ningxia-> Deaths: 0.0 Confirmed: 21.0",
            "Canada, Ontario-> Deaths: 0.0 Confirmed: 2.0",
            "Philippines, Philippines-> Deaths: 0.0 Confirmed: 1.0",
            "China, Qinghai-> Deaths: 0.0 Confirmed: 8.0",
            "Australia, Queensland-> Deaths: 0.0 Confirmed: 3.0",
            "China, Shaanxi-> Deaths: 0.0 Confirmed: 87.0",
            "China, Shandong-> Deaths: 0.0 Confirmed: 178.0",
            "China, Shanghai-> Deaths: 1.0 Confirmed: 128.0",
            "China, Shanxi-> Deaths: 0.0 Confirmed: 39.0",
            "China, Sichuan-> Deaths: 1.0 Confirmed: 177.0",
            "Singapore, Singapore-> Deaths: 0.0 Confirmed: 10.0",
            "South Korea, South Korea-> Deaths: 0.0 Confirmed: 6.0",
            "Sri Lanka, Sri Lanka-> Deaths: 0.0 Confirmed: 1.0",
            "Taiwan, Taiwan-> Deaths: 0.0 Confirmed: 9.0",
            "Thailand, Thailand-> Deaths: 0.0 Confirmed: 14.0",
            "China, Tianjin-> Deaths: 0.0 Confirmed: 32.0",
            "China, Tibet-> Deaths: 0.0 Confirmed: 1.0",
            "United Arab Emirates, United Arab Emirates-> Deaths: 0.0 Confirmed: 4.0",
            "Australia, Victoria-> Deaths: 0.0 Confirmed: 2.0",
            "Vietnam, Vietnam-> Deaths: 0.0 Confirmed: 2.0",
            "US, Washington-> Deaths: 0.0 Confirmed: 1.0",
            "China, Xinjiang-> Deaths: 0.0 Confirmed: 17.0",
            "China, Yunnan-> Deaths: 0.0 Confirmed: 76.0",
            "China, Zhejiang-> Deaths: 0.0 Confirmed: 537.0"
           ],
           "type": "scattergeo"
          }
         ],
         "layout": {
          "title": {
           "text": "Corona Virus spreading in Asia, 2020-01-30",
           "x": 0.5,
           "xanchor": "center",
           "y": 0.98,
           "yanchor": "top"
          }
         }
        },
        {
         "data": [
          {
           "lat": [
            32,
            34.395342,
            48.9467562,
            39.906217,
            55.001251,
            36.7014631,
            13.5066394,
            30.05518,
            63.2467777,
            46.603354,
            26.5450001,
            38.0000001,
            23.1357694,
            24,
            27,
            19.2000001,
            39.0000001,
            48.0000047,
            34.0000001,
            22.2793278,
            31.15172525,
            27.9995878,
            40.0796606,
            22.3511148,
            43.2443242,
            42.6384261,
            36.5748441,
            33.0000001,
            28,
            42.9995032,
            40.9975197,
            22.1757605,
            4.5693754,
            28.1083929,
            -31.8759835,
            37.0000001,
            50.000678,
            12.7503486,
            35.40709525,
            -22.1646782,
            64.6863136,
            36,
            36.0000001,
            31.2322758,
            37,
            30.5000001,
            1.357107,
            36.5581914,
            39.3262345,
            7.5554942,
            59.6749712,
            23.9739374,
            14.8971921,
            39.1235635,
            31.894343149999997,
            54.7023545,
            24.0002488,
            -36.5986096,
            13.2904027,
            38.8948932,
            41.7574769,
            25,
            29.0000001
           ],
           "locationmode": "country names",
           "lon": [
            117,
            -111.7632755,
            11.4038717,
            116.3912757,
            -125.002441,
            -118.7559974,
            104.869423,
            107.8748712,
            25.9209164,
            1.8883335,
            117.842778,
            101.9999999,
            113.1982688,
            109,
            107,
            109.5999999,
            116,
            127.999992,
            113.9999999,
            114.1628131,
            112.87832224656043,
            112.009538,
            -89.4337288,
            78.6677428,
            114.3251664,
            12.674297,
            139.2394179,
            119.9999999,
            116,
            125.9816054,
            122.9955469,
            113.5514142,
            102.2656823,
            84.0917139,
            147.2869493,
            105.9999999,
            -86.000977,
            122.7312101,
            95.95211573241954,
            144.5844903,
            97.7453061,
            109,
            118.9999999,
            121.4692071,
            112,
            102.4999999,
            103.8194992,
            127.9408564,
            -4.8380649,
            80.7137847,
            14.5208584,
            120.9820179,
            100.83273,
            117.1980785,
            87.07813712706509,
            -3.2765753,
            53.9994829,
            144.6780052,
            108.4265113,
            -77.0365529,
            87.16738423046897,
            102,
            119.9999999
           ],
           "marker": {
            "autocolorscale": false,
            "cmax": 350,
            "cmin": 0,
            "color": [
             0,
             0,
             0,
             1,
             0,
             0,
             0,
             1,
             0,
             0,
             0,
             0,
             0,
             0,
             0,
             1,
             1,
             2,
             2,
             0,
             249,
             0,
             0,
             0,
             0,
             0,
             0,
             0,
             0,
             0,
             0,
             0,
             0,
             0,
             0,
             0,
             0,
             0,
             0,
             0,
             0,
             0,
             0,
             1,
             0,
             1,
             0,
             0,
             0,
             0,
             0,
             0,
             0,
             0,
             0,
             0,
             0,
             0,
             0,
             0,
             0,
             0,
             0
            ],
            "colorbar": {
             "title": {
              "text": "Number of Deaths"
             }
            },
            "line": {
             "color": "rgba(0, 0, 0)",
             "width": 0.5
            },
            "opacity": 0.6,
            "reversescale": true,
            "size": [
             10.577682845233985,
             4,
             5.0558871595781,
             9.21883716430103,
             4,
             4.502144029037208,
             4,
             10.589509130855859,
             4,
             4.94179852477375,
             8.889346789610265,
             6.731445075485936,
             12.497025161261432,
             8.250235297922899,
             6.480397821231865,
             7.49905683093882,
             8.422187491104461,
             7.527631944695398,
             11.773319580552005,
             5.585661160918501,
             29.76629323402198,
             11.58528755199164,
             4.29268464756894,
             4,
             6.032934011676862,
             4.29268464756894,
             5.855760766039176,
             9.670964397559343,
             10.613068179138615,
             5.657613768320726,
             7.555903716104263,
             5.0558871595781,
             5.160119477784612,
             4,
             4.671033598060435,
             6.088238621134508,
             4.29268464756894,
             4,
             5.160119477784612,
             4.502144029037208,
             4.29268464756894,
             8.228058805837552,
             9.899560321169895,
             9.443843353139162,
             7.161937009665921,
             9.801155291402312,
             5.792353285846804,
             5.4305300479524705,
             4,
             4,
             4,
             5.346228848142263,
             5.975859650018929,
             6.6096322232028495,
             4,
             4.29268464756894,
             4.671033598060435,
             4.29268464756894,
             4.29268464756894,
             4,
             5.855760766039176,
             8.137710912549311,
             13.258918680359471
            ]
           },
           "mode": "markers",
           "text": [
            "China, Anhui-> Deaths: 0.0 Confirmed: 237.0",
            "US, Arizona-> Deaths: 0.0 Confirmed: 1.0",
            "Germany, Bavaria-> Deaths: 0.0 Confirmed: 7.0",
            "China, Beijing-> Deaths: 1.0 Confirmed: 139.0",
            "Canada, British Columbia-> Deaths: 0.0 Confirmed: 1.0",
            "US, California-> Deaths: 0.0 Confirmed: 3.0",
            "Cambodia, Cambodia-> Deaths: 0.0 Confirmed: 1.0",
            "China, Chongqing-> Deaths: 1.0 Confirmed: 238.0",
            "Finland, Finland-> Deaths: 0.0 Confirmed: 1.0",
            "France, France-> Deaths: 0.0 Confirmed: 6.0",
            "China, Fujian-> Deaths: 0.0 Confirmed: 120.0",
            "China, Gansu-> Deaths: 0.0 Confirmed: 35.0",
            "China, Guangdong-> Deaths: 0.0 Confirmed: 436.0",
            "China, Guangxi-> Deaths: 0.0 Confirmed: 88.0",
            "China, Guizhou-> Deaths: 0.0 Confirmed: 29.0",
            "China, Hainan-> Deaths: 1.0 Confirmed: 58.0",
            "China, Hebei-> Deaths: 1.0 Confirmed: 96.0",
            "China, Heilongjiang-> Deaths: 2.0 Confirmed: 59.0",
            "China, Henan-> Deaths: 2.0 Confirmed: 352.0",
            "Hong Kong, Hong Kong-> Deaths: 0.0 Confirmed: 13.0",
            "China, Hubei-> Deaths: 249.0 Confirmed: 7153.0",
            "China, Hunan-> Deaths: 0.0 Confirmed: 332.0",
            "US, Illinois-> Deaths: 0.0 Confirmed: 2.0",
            "India, India-> Deaths: 0.0 Confirmed: 1.0",
            "China, Inner Mongolia-> Deaths: 0.0 Confirmed: 20.0",
            "Italy, Italy-> Deaths: 0.0 Confirmed: 2.0",
            "Japan, Japan-> Deaths: 0.0 Confirmed: 17.0",
            "China, Jiangsu-> Deaths: 0.0 Confirmed: 168.0",
            "China, Jiangxi-> Deaths: 0.0 Confirmed: 240.0",
            "China, Jilin-> Deaths: 0.0 Confirmed: 14.0",
            "China, Liaoning-> Deaths: 0.0 Confirmed: 60.0",
            "Macau, Macau-> Deaths: 0.0 Confirmed: 7.0",
            "Malaysia, Malaysia-> Deaths: 0.0 Confirmed: 8.0",
            "Nepal, Nepal-> Deaths: 0.0 Confirmed: 1.0",
            "Australia, New South Wales-> Deaths: 0.0 Confirmed: 4.0",
            "China, Ningxia-> Deaths: 0.0 Confirmed: 21.0",
            "Canada, Ontario-> Deaths: 0.0 Confirmed: 2.0",
            "Philippines, Philippines-> Deaths: 0.0 Confirmed: 1.0",
            "China, Qinghai-> Deaths: 0.0 Confirmed: 8.0",
            "Australia, Queensland-> Deaths: 0.0 Confirmed: 3.0",
            "Russia, Russia-> Deaths: 0.0 Confirmed: 2.0",
            "China, Shaanxi-> Deaths: 0.0 Confirmed: 87.0",
            "China, Shandong-> Deaths: 0.0 Confirmed: 184.0",
            "China, Shanghai-> Deaths: 1.0 Confirmed: 153.0",
            "China, Shanxi-> Deaths: 0.0 Confirmed: 47.0",
            "China, Sichuan-> Deaths: 1.0 Confirmed: 177.0",
            "Singapore, Singapore-> Deaths: 0.0 Confirmed: 16.0",
            "South Korea, South Korea-> Deaths: 0.0 Confirmed: 11.0",
            "Spain, Spain-> Deaths: 0.0 Confirmed: 1.0",
            "Sri Lanka, Sri Lanka-> Deaths: 0.0 Confirmed: 1.0",
            "Sweden, Sweden-> Deaths: 0.0 Confirmed: 1.0",
            "Taiwan, Taiwan-> Deaths: 0.0 Confirmed: 10.0",
            "Thailand, Thailand-> Deaths: 0.0 Confirmed: 19.0",
            "China, Tianjin-> Deaths: 0.0 Confirmed: 32.0",
            "China, Tibet-> Deaths: 0.0 Confirmed: 1.0",
            "UK, UK-> Deaths: 0.0 Confirmed: 2.0",
            "United Arab Emirates, United Arab Emirates-> Deaths: 0.0 Confirmed: 4.0",
            "Australia, Victoria-> Deaths: 0.0 Confirmed: 2.0",
            "Vietnam, Vietnam-> Deaths: 0.0 Confirmed: 2.0",
            "US, Washington-> Deaths: 0.0 Confirmed: 1.0",
            "China, Xinjiang-> Deaths: 0.0 Confirmed: 17.0",
            "China, Yunnan-> Deaths: 0.0 Confirmed: 83.0",
            "China, Zhejiang-> Deaths: 0.0 Confirmed: 537.0"
           ],
           "type": "scattergeo"
          }
         ],
         "layout": {
          "title": {
           "text": "Corona Virus spreading in Asia, 2020-01-31",
           "x": 0.5,
           "xanchor": "center",
           "y": 0.98,
           "yanchor": "top"
          }
         }
        },
        {
         "data": [
          {
           "lat": [
            32,
            39.906217,
            42.3602534,
            55.001251,
            13.5066394,
            41.8755616,
            30.05518,
            63.2467777,
            46.603354,
            26.5450001,
            38.0000001,
            23.1357694,
            24,
            27,
            19.2000001,
            39.0000001,
            48.0000047,
            34.0000001,
            22.2793278,
            31.15172525,
            27.9995878,
            22.3511148,
            43.2443242,
            42.6384261,
            36.5748441,
            33.0000001,
            28,
            42.9995032,
            40.9975197,
            34.0536909,
            22.1757605,
            4.5693754,
            28.1083929,
            -31.8759835,
            37.0000001,
            50.000678,
            29.7742659,
            12.7503486,
            35.40709525,
            -22.1646782,
            64.6863136,
            37.3541132,
            47.6038321,
            36,
            36.0000001,
            31.2322758,
            37,
            30.5000001,
            1.357107,
            -30.5343665,
            36.5581914,
            39.3262345,
            7.5554942,
            59.6749712,
            23.9739374,
            33.4255056,
            14.8971921,
            39.1235635,
            31.894343149999997,
            54.7023545,
            24.0002488,
            -36.5986096,
            13.2904027,
            41.7574769,
            25,
            29.0000001
           ],
           "locationmode": "country names",
           "lon": [
            117,
            116.3912757,
            -71.0582912,
            -125.002441,
            104.869423,
            -87.6244212,
            107.8748712,
            25.9209164,
            1.8883335,
            117.842778,
            101.9999999,
            113.1982688,
            109,
            107,
            109.5999999,
            116,
            127.999992,
            113.9999999,
            114.1628131,
            112.87832224656043,
            112.009538,
            78.6677428,
            114.3251664,
            12.674297,
            139.2394179,
            119.9999999,
            116,
            125.9816054,
            122.9955469,
            -118.2427666,
            113.5514142,
            102.2656823,
            84.0917139,
            147.2869493,
            105.9999999,
            -86.000977,
            -95.3341066,
            122.7312101,
            95.95211573241954,
            144.5844903,
            97.7453061,
            -121.9551744,
            -122.3300624,
            109,
            118.9999999,
            121.4692071,
            112,
            102.4999999,
            103.8194992,
            135.6301212,
            127.9408564,
            -4.8380649,
            80.7137847,
            14.5208584,
            120.9820179,
            -111.9400125,
            100.83273,
            117.1980785,
            87.07813712706509,
            -3.2765753,
            53.9994829,
            144.6780052,
            108.4265113,
            87.16738423046897,
            102,
            119.9999999
           ],
           "marker": {
            "autocolorscale": false,
            "cmax": 350,
            "cmin": 0,
            "color": [
             0,
             1,
             0,
             0,
             0,
             0,
             2,
             0,
             0,
             0,
             0,
             0,
             0,
             0,
             1,
             1,
             2,
             2,
             0,
             350,
             0,
             0,
             0,
             0,
             0,
             0,
             0,
             0,
             0,
             0,
             0,
             0,
             0,
             0,
             0,
             0,
             0,
             1,
             0,
             0,
             0,
             0,
             0,
             0,
             0,
             1,
             0,
             1,
             0,
             0,
             0,
             0,
             0,
             0,
             0,
             0,
             0,
             0,
             0,
             0,
             0,
             0,
             0,
             0,
             0,
             0
            ],
            "colorbar": {
             "title": {
              "text": "Number of Deaths"
             }
            },
            "line": {
             "color": "rgba(0, 0, 0)",
             "width": 0.5
            },
            "opacity": 0.6,
            "reversescale": true,
            "size": [
             12.266402734916461,
             9.995635501635093,
             4,
             4,
             4,
             4.29268464756894,
             11.26898714097422,
             4,
             4.94179852477375,
             9.536304383316704,
             7.2897639830644705,
             14.214642812282642,
             9.014320439199771,
             7.128917772316606,
             7.8489894617132165,
             8.759694167055606,
             8.401199567139276,
             13.460721531990252,
             5.726398632195241,
             34.577643875457504,
             13.144629578632946,
             4.29268464756894,
             6.389492891729259,
             4.29268464756894,
             6.032934011676862,
             10.96342212402689,
             12.121483265511438,
             6.567435936849419,
             7.823581762327395,
             4,
             5.160119477784612,
             5.160119477784612,
             4,
             4.671033598060435,
             6.435456517476041,
             4.502144029037208,
             4,
             4.29268464756894,
             5.4305300479524705,
             4.29268464756894,
             4.29268464756894,
             4.29268464756894,
             4,
             8.815861693894782,
             10.683012170568894,
             10.022677210900873,
             7.719599661532381,
             10.77461969731363,
             5.916861059582148,
             4.29268464756894,
             5.726398632195241,
             4,
             4,
             4,
             5.346228848142263,
             4,
             5.975859650018929,
             7.194516815297205,
             4,
             4.29268464756894,
             4.815004806125491,
             4.671033598060435,
             4.94179852477375,
             6.244810575561126,
             8.605167939821492,
             14.459414586845678
            ]
           },
           "mode": "markers",
           "text": [
            "China, Anhui-> Deaths: 0.0 Confirmed: 408.0",
            "China, Beijing-> Deaths: 1.0 Confirmed: 191.0",
            "US, Boston, MA-> Deaths: 0.0 Confirmed: 1.0",
            "Canada, British Columbia-> Deaths: 0.0 Confirmed: 1.0",
            "Cambodia, Cambodia-> Deaths: 0.0 Confirmed: 1.0",
            "US, Chicago, IL-> Deaths: 0.0 Confirmed: 2.0",
            "China, Chongqing-> Deaths: 2.0 Confirmed: 300.0",
            "Finland, Finland-> Deaths: 0.0 Confirmed: 1.0",
            "France, France-> Deaths: 0.0 Confirmed: 6.0",
            "China, Fujian-> Deaths: 0.0 Confirmed: 159.0",
            "China, Gansu-> Deaths: 0.0 Confirmed: 51.0",
            "China, Guangdong-> Deaths: 0.0 Confirmed: 683.0",
            "China, Guangxi-> Deaths: 0.0 Confirmed: 127.0",
            "China, Guizhou-> Deaths: 0.0 Confirmed: 46.0",
            "China, Hainan-> Deaths: 1.0 Confirmed: 71.0",
            "China, Hebei-> Deaths: 1.0 Confirmed: 113.0",
            "China, Heilongjiang-> Deaths: 2.0 Confirmed: 95.0",
            "China, Henan-> Deaths: 2.0 Confirmed: 566.0",
            "Hong Kong, Hong Kong-> Deaths: 0.0 Confirmed: 15.0",
            "China, Hubei-> Deaths: 350.0 Confirmed: 11177.0",
            "China, Hunan-> Deaths: 0.0 Confirmed: 521.0",
            "India, India-> Deaths: 0.0 Confirmed: 2.0",
            "China, Inner Mongolia-> Deaths: 0.0 Confirmed: 27.0",
            "Italy, Italy-> Deaths: 0.0 Confirmed: 2.0",
            "Japan, Japan-> Deaths: 0.0 Confirmed: 20.0",
            "China, Jiangsu-> Deaths: 0.0 Confirmed: 271.0",
            "China, Jiangxi-> Deaths: 0.0 Confirmed: 391.0",
            "China, Jilin-> Deaths: 0.0 Confirmed: 31.0",
            "China, Liaoning-> Deaths: 0.0 Confirmed: 70.0",
            "US, Los Angeles, CA-> Deaths: 0.0 Confirmed: 1.0",
            "Macau, Macau-> Deaths: 0.0 Confirmed: 8.0",
            "Malaysia, Malaysia-> Deaths: 0.0 Confirmed: 8.0",
            "Nepal, Nepal-> Deaths: 0.0 Confirmed: 1.0",
            "Australia, New South Wales-> Deaths: 0.0 Confirmed: 4.0",
            "China, Ningxia-> Deaths: 0.0 Confirmed: 28.0",
            "Canada, Ontario-> Deaths: 0.0 Confirmed: 3.0",
            "US, Orange, CA-> Deaths: 0.0 Confirmed: 1.0",
            "Philippines, Philippines-> Deaths: 1.0 Confirmed: 2.0",
            "China, Qinghai-> Deaths: 0.0 Confirmed: 11.0",
            "Australia, Queensland-> Deaths: 0.0 Confirmed: 2.0",
            "Russia, Russia-> Deaths: 0.0 Confirmed: 2.0",
            "US, Santa Clara, CA-> Deaths: 0.0 Confirmed: 2.0",
            "US, Seattle, WA-> Deaths: 0.0 Confirmed: 1.0",
            "China, Shaanxi-> Deaths: 0.0 Confirmed: 116.0",
            "China, Shandong-> Deaths: 0.0 Confirmed: 246.0",
            "China, Shanghai-> Deaths: 1.0 Confirmed: 193.0",
            "China, Shanxi-> Deaths: 0.0 Confirmed: 66.0",
            "China, Sichuan-> Deaths: 1.0 Confirmed: 254.0",
            "Singapore, Singapore-> Deaths: 0.0 Confirmed: 18.0",
            "Australia, South Australia-> Deaths: 0.0 Confirmed: 2.0",
            "South Korea, South Korea-> Deaths: 0.0 Confirmed: 15.0",
            "Spain, Spain-> Deaths: 0.0 Confirmed: 1.0",
            "Sri Lanka, Sri Lanka-> Deaths: 0.0 Confirmed: 1.0",
            "Sweden, Sweden-> Deaths: 0.0 Confirmed: 1.0",
            "Taiwan, Taiwan-> Deaths: 0.0 Confirmed: 10.0",
            "US, Tempe, AZ-> Deaths: 0.0 Confirmed: 1.0",
            "Thailand, Thailand-> Deaths: 0.0 Confirmed: 19.0",
            "China, Tianjin-> Deaths: 0.0 Confirmed: 48.0",
            "China, Tibet-> Deaths: 0.0 Confirmed: 1.0",
            "UK, UK-> Deaths: 0.0 Confirmed: 2.0",
            "United Arab Emirates, United Arab Emirates-> Deaths: 0.0 Confirmed: 5.0",
            "Australia, Victoria-> Deaths: 0.0 Confirmed: 4.0",
            "Vietnam, Vietnam-> Deaths: 0.0 Confirmed: 6.0",
            "China, Xinjiang-> Deaths: 0.0 Confirmed: 24.0",
            "China, Yunnan-> Deaths: 0.0 Confirmed: 105.0",
            "China, Zhejiang-> Deaths: 0.0 Confirmed: 724.0"
           ],
           "type": "scattergeo"
          }
         ],
         "layout": {
          "title": {
           "text": "Corona Virus spreading in Asia, 2020-02-02",
           "x": 0.5,
           "xanchor": "center",
           "y": 0.98,
           "yanchor": "top"
          }
         }
        }
       ],
       "layout": {
        "geo": {
         "countrycolor": "rgb(128, 128, 128)",
         "countrywidth": 1,
         "lakecolor": "rgb(219, 245, 255)",
         "landcolor": "rgb(252, 240, 220)",
         "oceancolor": "rgb(219, 245, 255)",
         "projection": {
          "type": "robinson"
         },
         "scope": "asia",
         "showcoastlines": true,
         "showcountries": true,
         "showlakes": true,
         "showland": true,
         "showocean": true,
         "showrivers": true
        },
        "template": {
         "data": {
          "bar": [
           {
            "error_x": {
             "color": "#2a3f5f"
            },
            "error_y": {
             "color": "#2a3f5f"
            },
            "marker": {
             "line": {
              "color": "#E5ECF6",
              "width": 0.5
             }
            },
            "type": "bar"
           }
          ],
          "barpolar": [
           {
            "marker": {
             "line": {
              "color": "#E5ECF6",
              "width": 0.5
             }
            },
            "type": "barpolar"
           }
          ],
          "carpet": [
           {
            "aaxis": {
             "endlinecolor": "#2a3f5f",
             "gridcolor": "white",
             "linecolor": "white",
             "minorgridcolor": "white",
             "startlinecolor": "#2a3f5f"
            },
            "baxis": {
             "endlinecolor": "#2a3f5f",
             "gridcolor": "white",
             "linecolor": "white",
             "minorgridcolor": "white",
             "startlinecolor": "#2a3f5f"
            },
            "type": "carpet"
           }
          ],
          "choropleth": [
           {
            "colorbar": {
             "outlinewidth": 0,
             "ticks": ""
            },
            "type": "choropleth"
           }
          ],
          "contour": [
           {
            "colorbar": {
             "outlinewidth": 0,
             "ticks": ""
            },
            "colorscale": [
             [
              0,
              "#0d0887"
             ],
             [
              0.1111111111111111,
              "#46039f"
             ],
             [
              0.2222222222222222,
              "#7201a8"
             ],
             [
              0.3333333333333333,
              "#9c179e"
             ],
             [
              0.4444444444444444,
              "#bd3786"
             ],
             [
              0.5555555555555556,
              "#d8576b"
             ],
             [
              0.6666666666666666,
              "#ed7953"
             ],
             [
              0.7777777777777778,
              "#fb9f3a"
             ],
             [
              0.8888888888888888,
              "#fdca26"
             ],
             [
              1,
              "#f0f921"
             ]
            ],
            "type": "contour"
           }
          ],
          "contourcarpet": [
           {
            "colorbar": {
             "outlinewidth": 0,
             "ticks": ""
            },
            "type": "contourcarpet"
           }
          ],
          "heatmap": [
           {
            "colorbar": {
             "outlinewidth": 0,
             "ticks": ""
            },
            "colorscale": [
             [
              0,
              "#0d0887"
             ],
             [
              0.1111111111111111,
              "#46039f"
             ],
             [
              0.2222222222222222,
              "#7201a8"
             ],
             [
              0.3333333333333333,
              "#9c179e"
             ],
             [
              0.4444444444444444,
              "#bd3786"
             ],
             [
              0.5555555555555556,
              "#d8576b"
             ],
             [
              0.6666666666666666,
              "#ed7953"
             ],
             [
              0.7777777777777778,
              "#fb9f3a"
             ],
             [
              0.8888888888888888,
              "#fdca26"
             ],
             [
              1,
              "#f0f921"
             ]
            ],
            "type": "heatmap"
           }
          ],
          "heatmapgl": [
           {
            "colorbar": {
             "outlinewidth": 0,
             "ticks": ""
            },
            "colorscale": [
             [
              0,
              "#0d0887"
             ],
             [
              0.1111111111111111,
              "#46039f"
             ],
             [
              0.2222222222222222,
              "#7201a8"
             ],
             [
              0.3333333333333333,
              "#9c179e"
             ],
             [
              0.4444444444444444,
              "#bd3786"
             ],
             [
              0.5555555555555556,
              "#d8576b"
             ],
             [
              0.6666666666666666,
              "#ed7953"
             ],
             [
              0.7777777777777778,
              "#fb9f3a"
             ],
             [
              0.8888888888888888,
              "#fdca26"
             ],
             [
              1,
              "#f0f921"
             ]
            ],
            "type": "heatmapgl"
           }
          ],
          "histogram": [
           {
            "marker": {
             "colorbar": {
              "outlinewidth": 0,
              "ticks": ""
             }
            },
            "type": "histogram"
           }
          ],
          "histogram2d": [
           {
            "colorbar": {
             "outlinewidth": 0,
             "ticks": ""
            },
            "colorscale": [
             [
              0,
              "#0d0887"
             ],
             [
              0.1111111111111111,
              "#46039f"
             ],
             [
              0.2222222222222222,
              "#7201a8"
             ],
             [
              0.3333333333333333,
              "#9c179e"
             ],
             [
              0.4444444444444444,
              "#bd3786"
             ],
             [
              0.5555555555555556,
              "#d8576b"
             ],
             [
              0.6666666666666666,
              "#ed7953"
             ],
             [
              0.7777777777777778,
              "#fb9f3a"
             ],
             [
              0.8888888888888888,
              "#fdca26"
             ],
             [
              1,
              "#f0f921"
             ]
            ],
            "type": "histogram2d"
           }
          ],
          "histogram2dcontour": [
           {
            "colorbar": {
             "outlinewidth": 0,
             "ticks": ""
            },
            "colorscale": [
             [
              0,
              "#0d0887"
             ],
             [
              0.1111111111111111,
              "#46039f"
             ],
             [
              0.2222222222222222,
              "#7201a8"
             ],
             [
              0.3333333333333333,
              "#9c179e"
             ],
             [
              0.4444444444444444,
              "#bd3786"
             ],
             [
              0.5555555555555556,
              "#d8576b"
             ],
             [
              0.6666666666666666,
              "#ed7953"
             ],
             [
              0.7777777777777778,
              "#fb9f3a"
             ],
             [
              0.8888888888888888,
              "#fdca26"
             ],
             [
              1,
              "#f0f921"
             ]
            ],
            "type": "histogram2dcontour"
           }
          ],
          "mesh3d": [
           {
            "colorbar": {
             "outlinewidth": 0,
             "ticks": ""
            },
            "type": "mesh3d"
           }
          ],
          "parcoords": [
           {
            "line": {
             "colorbar": {
              "outlinewidth": 0,
              "ticks": ""
             }
            },
            "type": "parcoords"
           }
          ],
          "pie": [
           {
            "automargin": true,
            "type": "pie"
           }
          ],
          "scatter": [
           {
            "marker": {
             "colorbar": {
              "outlinewidth": 0,
              "ticks": ""
             }
            },
            "type": "scatter"
           }
          ],
          "scatter3d": [
           {
            "line": {
             "colorbar": {
              "outlinewidth": 0,
              "ticks": ""
             }
            },
            "marker": {
             "colorbar": {
              "outlinewidth": 0,
              "ticks": ""
             }
            },
            "type": "scatter3d"
           }
          ],
          "scattercarpet": [
           {
            "marker": {
             "colorbar": {
              "outlinewidth": 0,
              "ticks": ""
             }
            },
            "type": "scattercarpet"
           }
          ],
          "scattergeo": [
           {
            "marker": {
             "colorbar": {
              "outlinewidth": 0,
              "ticks": ""
             }
            },
            "type": "scattergeo"
           }
          ],
          "scattergl": [
           {
            "marker": {
             "colorbar": {
              "outlinewidth": 0,
              "ticks": ""
             }
            },
            "type": "scattergl"
           }
          ],
          "scattermapbox": [
           {
            "marker": {
             "colorbar": {
              "outlinewidth": 0,
              "ticks": ""
             }
            },
            "type": "scattermapbox"
           }
          ],
          "scatterpolar": [
           {
            "marker": {
             "colorbar": {
              "outlinewidth": 0,
              "ticks": ""
             }
            },
            "type": "scatterpolar"
           }
          ],
          "scatterpolargl": [
           {
            "marker": {
             "colorbar": {
              "outlinewidth": 0,
              "ticks": ""
             }
            },
            "type": "scatterpolargl"
           }
          ],
          "scatterternary": [
           {
            "marker": {
             "colorbar": {
              "outlinewidth": 0,
              "ticks": ""
             }
            },
            "type": "scatterternary"
           }
          ],
          "surface": [
           {
            "colorbar": {
             "outlinewidth": 0,
             "ticks": ""
            },
            "colorscale": [
             [
              0,
              "#0d0887"
             ],
             [
              0.1111111111111111,
              "#46039f"
             ],
             [
              0.2222222222222222,
              "#7201a8"
             ],
             [
              0.3333333333333333,
              "#9c179e"
             ],
             [
              0.4444444444444444,
              "#bd3786"
             ],
             [
              0.5555555555555556,
              "#d8576b"
             ],
             [
              0.6666666666666666,
              "#ed7953"
             ],
             [
              0.7777777777777778,
              "#fb9f3a"
             ],
             [
              0.8888888888888888,
              "#fdca26"
             ],
             [
              1,
              "#f0f921"
             ]
            ],
            "type": "surface"
           }
          ],
          "table": [
           {
            "cells": {
             "fill": {
              "color": "#EBF0F8"
             },
             "line": {
              "color": "white"
             }
            },
            "header": {
             "fill": {
              "color": "#C8D4E3"
             },
             "line": {
              "color": "white"
             }
            },
            "type": "table"
           }
          ]
         },
         "layout": {
          "annotationdefaults": {
           "arrowcolor": "#2a3f5f",
           "arrowhead": 0,
           "arrowwidth": 1
          },
          "coloraxis": {
           "colorbar": {
            "outlinewidth": 0,
            "ticks": ""
           }
          },
          "colorscale": {
           "diverging": [
            [
             0,
             "#8e0152"
            ],
            [
             0.1,
             "#c51b7d"
            ],
            [
             0.2,
             "#de77ae"
            ],
            [
             0.3,
             "#f1b6da"
            ],
            [
             0.4,
             "#fde0ef"
            ],
            [
             0.5,
             "#f7f7f7"
            ],
            [
             0.6,
             "#e6f5d0"
            ],
            [
             0.7,
             "#b8e186"
            ],
            [
             0.8,
             "#7fbc41"
            ],
            [
             0.9,
             "#4d9221"
            ],
            [
             1,
             "#276419"
            ]
           ],
           "sequential": [
            [
             0,
             "#0d0887"
            ],
            [
             0.1111111111111111,
             "#46039f"
            ],
            [
             0.2222222222222222,
             "#7201a8"
            ],
            [
             0.3333333333333333,
             "#9c179e"
            ],
            [
             0.4444444444444444,
             "#bd3786"
            ],
            [
             0.5555555555555556,
             "#d8576b"
            ],
            [
             0.6666666666666666,
             "#ed7953"
            ],
            [
             0.7777777777777778,
             "#fb9f3a"
            ],
            [
             0.8888888888888888,
             "#fdca26"
            ],
            [
             1,
             "#f0f921"
            ]
           ],
           "sequentialminus": [
            [
             0,
             "#0d0887"
            ],
            [
             0.1111111111111111,
             "#46039f"
            ],
            [
             0.2222222222222222,
             "#7201a8"
            ],
            [
             0.3333333333333333,
             "#9c179e"
            ],
            [
             0.4444444444444444,
             "#bd3786"
            ],
            [
             0.5555555555555556,
             "#d8576b"
            ],
            [
             0.6666666666666666,
             "#ed7953"
            ],
            [
             0.7777777777777778,
             "#fb9f3a"
            ],
            [
             0.8888888888888888,
             "#fdca26"
            ],
            [
             1,
             "#f0f921"
            ]
           ]
          },
          "colorway": [
           "#636efa",
           "#EF553B",
           "#00cc96",
           "#ab63fa",
           "#FFA15A",
           "#19d3f3",
           "#FF6692",
           "#B6E880",
           "#FF97FF",
           "#FECB52"
          ],
          "font": {
           "color": "#2a3f5f"
          },
          "geo": {
           "bgcolor": "white",
           "lakecolor": "white",
           "landcolor": "#E5ECF6",
           "showlakes": true,
           "showland": true,
           "subunitcolor": "white"
          },
          "hoverlabel": {
           "align": "left"
          },
          "hovermode": "closest",
          "mapbox": {
           "style": "light"
          },
          "paper_bgcolor": "white",
          "plot_bgcolor": "#E5ECF6",
          "polar": {
           "angularaxis": {
            "gridcolor": "white",
            "linecolor": "white",
            "ticks": ""
           },
           "bgcolor": "#E5ECF6",
           "radialaxis": {
            "gridcolor": "white",
            "linecolor": "white",
            "ticks": ""
           }
          },
          "scene": {
           "xaxis": {
            "backgroundcolor": "#E5ECF6",
            "gridcolor": "white",
            "gridwidth": 2,
            "linecolor": "white",
            "showbackground": true,
            "ticks": "",
            "zerolinecolor": "white"
           },
           "yaxis": {
            "backgroundcolor": "#E5ECF6",
            "gridcolor": "white",
            "gridwidth": 2,
            "linecolor": "white",
            "showbackground": true,
            "ticks": "",
            "zerolinecolor": "white"
           },
           "zaxis": {
            "backgroundcolor": "#E5ECF6",
            "gridcolor": "white",
            "gridwidth": 2,
            "linecolor": "white",
            "showbackground": true,
            "ticks": "",
            "zerolinecolor": "white"
           }
          },
          "shapedefaults": {
           "line": {
            "color": "#2a3f5f"
           }
          },
          "ternary": {
           "aaxis": {
            "gridcolor": "white",
            "linecolor": "white",
            "ticks": ""
           },
           "baxis": {
            "gridcolor": "white",
            "linecolor": "white",
            "ticks": ""
           },
           "bgcolor": "#E5ECF6",
           "caxis": {
            "gridcolor": "white",
            "linecolor": "white",
            "ticks": ""
           }
          },
          "title": {
           "x": 0.05
          },
          "xaxis": {
           "automargin": true,
           "gridcolor": "white",
           "linecolor": "white",
           "ticks": "",
           "title": {
            "standoff": 15
           },
           "zerolinecolor": "white",
           "zerolinewidth": 2
          },
          "yaxis": {
           "automargin": true,
           "gridcolor": "white",
           "linecolor": "white",
           "ticks": "",
           "title": {
            "standoff": 15
           },
           "zerolinecolor": "white",
           "zerolinewidth": 2
          }
         }
        },
        "title": {
         "text": "Corona Virus spreading in Asia, 2020-01-22",
         "x": 0.5,
         "xanchor": "center",
         "y": 0.98,
         "yanchor": "top"
        },
        "updatemenus": [
         {
          "buttons": [
           {
            "args": [
             null
            ],
            "label": "Play",
            "method": "animate"
           }
          ],
          "type": "buttons"
         }
        ]
       }
      },
      "text/html": [
       "<div>\n",
       "        \n",
       "        \n",
       "            <div id=\"855aa6ba-2a16-4811-86e3-17857b678a38\" class=\"plotly-graph-div\" style=\"height:525px; width:100%;\"></div>\n",
       "            <script type=\"text/javascript\">\n",
       "                require([\"plotly\"], function(Plotly) {\n",
       "                    window.PLOTLYENV=window.PLOTLYENV || {};\n",
       "                    \n",
       "                if (document.getElementById(\"855aa6ba-2a16-4811-86e3-17857b678a38\")) {\n",
       "                    Plotly.newPlot(\n",
       "                        '855aa6ba-2a16-4811-86e3-17857b678a38',\n",
       "                        [{\"lat\": [32.0, 39.906217, 30.05518, 26.5450001, 23.1357694, 24.0, 27.0, 19.2000001, 39.0000001, 34.0000001, 31.15172525, 27.9995878, 36.5748441, 33.0000001, 28.0, 40.9975197, 22.1757605, 37.0000001, 36.0000001, 31.2322758, 37.0, 30.5000001, 36.5581914, 23.9739374, 14.8971921, 39.1235635, 38.8948932, 25.0, 29.0000001], \"locationmode\": \"country names\", \"lon\": [117.0, 116.3912757, 107.8748712, 117.842778, 113.1982688, 109.0, 107.0, 109.5999999, 116.0, 113.9999999, 112.87832224656043, 112.009538, 139.2394179, 119.9999999, 116.0, 122.9955469, 113.5514142, 105.9999999, 118.9999999, 121.4692071, 112.0, 102.4999999, 127.9408564, 120.9820179, 100.83273, 117.1980785, -77.0365529, 102.0, 119.9999999], \"marker\": {\"autocolorscale\": false, \"cmax\": 350.0, \"cmin\": 0, \"color\": [0.0, 0.0, 0.0, 0.0, 0.0, 0.0, 0.0, 0.0, 0.0, 0.0, 0.0, 0.0, 0.0, 0.0, 0.0, 0.0, 0.0, 0.0, 0.0, 0.0, 0.0, 0.0, 0.0, 0.0, 0.0, 0.0, 0.0, 0.0, 0.0], \"colorbar\": {\"title\": {\"text\": \"Number of Deaths\"}}, \"line\": {\"color\": \"rgba(0, 0, 0)\", \"width\": 0.5}, \"opacity\": 0.6, \"reversescale\": true, \"size\": [4.0, 5.657613768320726, 4.94179852477375, 4.0, 6.34244448653463, 4.29268464756894, 4.0, 4.671033598060435, 4.0, 4.815004806125491, 12.561195780665512, 4.671033598060435, 4.29268464756894, 4.0, 4.29268464756894, 4.29268464756894, 4.0, 4.0, 4.29268464756894, 5.256436683972135, 4.0, 4.815004806125491, 4.0, 4.0, 4.29268464756894, 4.671033598060435, 4.0, 4.0, 5.346228848142263]}, \"mode\": \"markers\", \"text\": [\"China, Anhui-> Deaths: 0.0 Confirmed: 1.0\", \"China, Beijing-> Deaths: 0.0 Confirmed: 14.0\", \"China, Chongqing-> Deaths: 0.0 Confirmed: 6.0\", \"China, Fujian-> Deaths: 0.0 Confirmed: 1.0\", \"China, Guangdong-> Deaths: 0.0 Confirmed: 26.0\", \"China, Guangxi-> Deaths: 0.0 Confirmed: 2.0\", \"China, Guizhou-> Deaths: 0.0 Confirmed: 1.0\", \"China, Hainan-> Deaths: 0.0 Confirmed: 4.0\", \"China, Hebei-> Deaths: 0.0 Confirmed: 1.0\", \"China, Henan-> Deaths: 0.0 Confirmed: 5.0\", \"China, Hubei-> Deaths: 0.0 Confirmed: 444.0\", \"China, Hunan-> Deaths: 0.0 Confirmed: 4.0\", \"Japan, Japan-> Deaths: 0.0 Confirmed: 2.0\", \"China, Jiangsu-> Deaths: 0.0 Confirmed: 1.0\", \"China, Jiangxi-> Deaths: 0.0 Confirmed: 2.0\", \"China, Liaoning-> Deaths: 0.0 Confirmed: 2.0\", \"China, Macau-> Deaths: 0.0 Confirmed: 1.0\", \"China, Ningxia-> Deaths: 0.0 Confirmed: 1.0\", \"China, Shandong-> Deaths: 0.0 Confirmed: 2.0\", \"China, Shanghai-> Deaths: 0.0 Confirmed: 9.0\", \"China, Shanxi-> Deaths: 0.0 Confirmed: 1.0\", \"China, Sichuan-> Deaths: 0.0 Confirmed: 5.0\", \"South Korea, South Korea-> Deaths: 0.0 Confirmed: 1.0\", \"China, Taiwan-> Deaths: 0.0 Confirmed: 1.0\", \"Thailand, Thailand-> Deaths: 0.0 Confirmed: 2.0\", \"China, Tianjin-> Deaths: 0.0 Confirmed: 4.0\", \"US, Washington-> Deaths: 0.0 Confirmed: 1.0\", \"China, Yunnan-> Deaths: 0.0 Confirmed: 1.0\", \"China, Zhejiang-> Deaths: 0.0 Confirmed: 10.0\"], \"type\": \"scattergeo\"}],\n",
       "                        {\"geo\": {\"countrycolor\": \"rgb(128, 128, 128)\", \"countrywidth\": 1, \"lakecolor\": \"rgb(219, 245, 255)\", \"landcolor\": \"rgb(252, 240, 220)\", \"oceancolor\": \"rgb(219, 245, 255)\", \"projection\": {\"type\": \"robinson\"}, \"scope\": \"asia\", \"showcoastlines\": true, \"showcountries\": true, \"showlakes\": true, \"showland\": true, \"showocean\": true, \"showrivers\": true}, \"template\": {\"data\": {\"bar\": [{\"error_x\": {\"color\": \"#2a3f5f\"}, \"error_y\": {\"color\": \"#2a3f5f\"}, \"marker\": {\"line\": {\"color\": \"#E5ECF6\", \"width\": 0.5}}, \"type\": \"bar\"}], \"barpolar\": [{\"marker\": {\"line\": {\"color\": \"#E5ECF6\", \"width\": 0.5}}, \"type\": \"barpolar\"}], \"carpet\": [{\"aaxis\": {\"endlinecolor\": \"#2a3f5f\", \"gridcolor\": \"white\", \"linecolor\": \"white\", \"minorgridcolor\": \"white\", \"startlinecolor\": \"#2a3f5f\"}, \"baxis\": {\"endlinecolor\": \"#2a3f5f\", \"gridcolor\": \"white\", \"linecolor\": \"white\", \"minorgridcolor\": \"white\", \"startlinecolor\": \"#2a3f5f\"}, \"type\": \"carpet\"}], \"choropleth\": [{\"colorbar\": {\"outlinewidth\": 0, \"ticks\": \"\"}, \"type\": \"choropleth\"}], \"contour\": [{\"colorbar\": {\"outlinewidth\": 0, \"ticks\": \"\"}, \"colorscale\": [[0.0, \"#0d0887\"], [0.1111111111111111, \"#46039f\"], [0.2222222222222222, \"#7201a8\"], [0.3333333333333333, \"#9c179e\"], [0.4444444444444444, \"#bd3786\"], [0.5555555555555556, \"#d8576b\"], [0.6666666666666666, \"#ed7953\"], [0.7777777777777778, \"#fb9f3a\"], [0.8888888888888888, \"#fdca26\"], [1.0, \"#f0f921\"]], \"type\": \"contour\"}], \"contourcarpet\": [{\"colorbar\": {\"outlinewidth\": 0, \"ticks\": \"\"}, \"type\": \"contourcarpet\"}], \"heatmap\": [{\"colorbar\": {\"outlinewidth\": 0, \"ticks\": \"\"}, \"colorscale\": [[0.0, \"#0d0887\"], [0.1111111111111111, \"#46039f\"], [0.2222222222222222, \"#7201a8\"], [0.3333333333333333, \"#9c179e\"], [0.4444444444444444, \"#bd3786\"], [0.5555555555555556, \"#d8576b\"], [0.6666666666666666, \"#ed7953\"], [0.7777777777777778, \"#fb9f3a\"], [0.8888888888888888, \"#fdca26\"], [1.0, \"#f0f921\"]], \"type\": \"heatmap\"}], \"heatmapgl\": [{\"colorbar\": {\"outlinewidth\": 0, \"ticks\": \"\"}, \"colorscale\": [[0.0, \"#0d0887\"], [0.1111111111111111, \"#46039f\"], [0.2222222222222222, \"#7201a8\"], [0.3333333333333333, \"#9c179e\"], [0.4444444444444444, \"#bd3786\"], [0.5555555555555556, \"#d8576b\"], [0.6666666666666666, \"#ed7953\"], [0.7777777777777778, \"#fb9f3a\"], [0.8888888888888888, \"#fdca26\"], [1.0, \"#f0f921\"]], \"type\": \"heatmapgl\"}], \"histogram\": [{\"marker\": {\"colorbar\": {\"outlinewidth\": 0, \"ticks\": \"\"}}, \"type\": \"histogram\"}], \"histogram2d\": [{\"colorbar\": {\"outlinewidth\": 0, \"ticks\": \"\"}, \"colorscale\": [[0.0, \"#0d0887\"], [0.1111111111111111, \"#46039f\"], [0.2222222222222222, \"#7201a8\"], [0.3333333333333333, \"#9c179e\"], [0.4444444444444444, \"#bd3786\"], [0.5555555555555556, \"#d8576b\"], [0.6666666666666666, \"#ed7953\"], [0.7777777777777778, \"#fb9f3a\"], [0.8888888888888888, \"#fdca26\"], [1.0, \"#f0f921\"]], \"type\": \"histogram2d\"}], \"histogram2dcontour\": [{\"colorbar\": {\"outlinewidth\": 0, \"ticks\": \"\"}, \"colorscale\": [[0.0, \"#0d0887\"], [0.1111111111111111, \"#46039f\"], [0.2222222222222222, \"#7201a8\"], [0.3333333333333333, \"#9c179e\"], [0.4444444444444444, \"#bd3786\"], [0.5555555555555556, \"#d8576b\"], [0.6666666666666666, \"#ed7953\"], [0.7777777777777778, \"#fb9f3a\"], [0.8888888888888888, \"#fdca26\"], [1.0, \"#f0f921\"]], \"type\": \"histogram2dcontour\"}], \"mesh3d\": [{\"colorbar\": {\"outlinewidth\": 0, \"ticks\": \"\"}, \"type\": \"mesh3d\"}], \"parcoords\": [{\"line\": {\"colorbar\": {\"outlinewidth\": 0, \"ticks\": \"\"}}, \"type\": \"parcoords\"}], \"pie\": [{\"automargin\": true, \"type\": \"pie\"}], \"scatter\": [{\"marker\": {\"colorbar\": {\"outlinewidth\": 0, \"ticks\": \"\"}}, \"type\": \"scatter\"}], \"scatter3d\": [{\"line\": {\"colorbar\": {\"outlinewidth\": 0, \"ticks\": \"\"}}, \"marker\": {\"colorbar\": {\"outlinewidth\": 0, \"ticks\": \"\"}}, \"type\": \"scatter3d\"}], \"scattercarpet\": [{\"marker\": {\"colorbar\": {\"outlinewidth\": 0, \"ticks\": \"\"}}, \"type\": \"scattercarpet\"}], \"scattergeo\": [{\"marker\": {\"colorbar\": {\"outlinewidth\": 0, \"ticks\": \"\"}}, \"type\": \"scattergeo\"}], \"scattergl\": [{\"marker\": {\"colorbar\": {\"outlinewidth\": 0, \"ticks\": \"\"}}, \"type\": \"scattergl\"}], \"scattermapbox\": [{\"marker\": {\"colorbar\": {\"outlinewidth\": 0, \"ticks\": \"\"}}, \"type\": \"scattermapbox\"}], \"scatterpolar\": [{\"marker\": {\"colorbar\": {\"outlinewidth\": 0, \"ticks\": \"\"}}, \"type\": \"scatterpolar\"}], \"scatterpolargl\": [{\"marker\": {\"colorbar\": {\"outlinewidth\": 0, \"ticks\": \"\"}}, \"type\": \"scatterpolargl\"}], \"scatterternary\": [{\"marker\": {\"colorbar\": {\"outlinewidth\": 0, \"ticks\": \"\"}}, \"type\": \"scatterternary\"}], \"surface\": [{\"colorbar\": {\"outlinewidth\": 0, \"ticks\": \"\"}, \"colorscale\": [[0.0, \"#0d0887\"], [0.1111111111111111, \"#46039f\"], [0.2222222222222222, \"#7201a8\"], [0.3333333333333333, \"#9c179e\"], [0.4444444444444444, \"#bd3786\"], [0.5555555555555556, \"#d8576b\"], [0.6666666666666666, \"#ed7953\"], [0.7777777777777778, \"#fb9f3a\"], [0.8888888888888888, \"#fdca26\"], [1.0, \"#f0f921\"]], \"type\": \"surface\"}], \"table\": [{\"cells\": {\"fill\": {\"color\": \"#EBF0F8\"}, \"line\": {\"color\": \"white\"}}, \"header\": {\"fill\": {\"color\": \"#C8D4E3\"}, \"line\": {\"color\": \"white\"}}, \"type\": \"table\"}]}, \"layout\": {\"annotationdefaults\": {\"arrowcolor\": \"#2a3f5f\", \"arrowhead\": 0, \"arrowwidth\": 1}, \"coloraxis\": {\"colorbar\": {\"outlinewidth\": 0, \"ticks\": \"\"}}, \"colorscale\": {\"diverging\": [[0, \"#8e0152\"], [0.1, \"#c51b7d\"], [0.2, \"#de77ae\"], [0.3, \"#f1b6da\"], [0.4, \"#fde0ef\"], [0.5, \"#f7f7f7\"], [0.6, \"#e6f5d0\"], [0.7, \"#b8e186\"], [0.8, \"#7fbc41\"], [0.9, \"#4d9221\"], [1, \"#276419\"]], \"sequential\": [[0.0, \"#0d0887\"], [0.1111111111111111, \"#46039f\"], [0.2222222222222222, \"#7201a8\"], [0.3333333333333333, \"#9c179e\"], [0.4444444444444444, \"#bd3786\"], [0.5555555555555556, \"#d8576b\"], [0.6666666666666666, \"#ed7953\"], [0.7777777777777778, \"#fb9f3a\"], [0.8888888888888888, \"#fdca26\"], [1.0, \"#f0f921\"]], \"sequentialminus\": [[0.0, \"#0d0887\"], [0.1111111111111111, \"#46039f\"], [0.2222222222222222, \"#7201a8\"], [0.3333333333333333, \"#9c179e\"], [0.4444444444444444, \"#bd3786\"], [0.5555555555555556, \"#d8576b\"], [0.6666666666666666, \"#ed7953\"], [0.7777777777777778, \"#fb9f3a\"], [0.8888888888888888, \"#fdca26\"], [1.0, \"#f0f921\"]]}, \"colorway\": [\"#636efa\", \"#EF553B\", \"#00cc96\", \"#ab63fa\", \"#FFA15A\", \"#19d3f3\", \"#FF6692\", \"#B6E880\", \"#FF97FF\", \"#FECB52\"], \"font\": {\"color\": \"#2a3f5f\"}, \"geo\": {\"bgcolor\": \"white\", \"lakecolor\": \"white\", \"landcolor\": \"#E5ECF6\", \"showlakes\": true, \"showland\": true, \"subunitcolor\": \"white\"}, \"hoverlabel\": {\"align\": \"left\"}, \"hovermode\": \"closest\", \"mapbox\": {\"style\": \"light\"}, \"paper_bgcolor\": \"white\", \"plot_bgcolor\": \"#E5ECF6\", \"polar\": {\"angularaxis\": {\"gridcolor\": \"white\", \"linecolor\": \"white\", \"ticks\": \"\"}, \"bgcolor\": \"#E5ECF6\", \"radialaxis\": {\"gridcolor\": \"white\", \"linecolor\": \"white\", \"ticks\": \"\"}}, \"scene\": {\"xaxis\": {\"backgroundcolor\": \"#E5ECF6\", \"gridcolor\": \"white\", \"gridwidth\": 2, \"linecolor\": \"white\", \"showbackground\": true, \"ticks\": \"\", \"zerolinecolor\": \"white\"}, \"yaxis\": {\"backgroundcolor\": \"#E5ECF6\", \"gridcolor\": \"white\", \"gridwidth\": 2, \"linecolor\": \"white\", \"showbackground\": true, \"ticks\": \"\", \"zerolinecolor\": \"white\"}, \"zaxis\": {\"backgroundcolor\": \"#E5ECF6\", \"gridcolor\": \"white\", \"gridwidth\": 2, \"linecolor\": \"white\", \"showbackground\": true, \"ticks\": \"\", \"zerolinecolor\": \"white\"}}, \"shapedefaults\": {\"line\": {\"color\": \"#2a3f5f\"}}, \"ternary\": {\"aaxis\": {\"gridcolor\": \"white\", \"linecolor\": \"white\", \"ticks\": \"\"}, \"baxis\": {\"gridcolor\": \"white\", \"linecolor\": \"white\", \"ticks\": \"\"}, \"bgcolor\": \"#E5ECF6\", \"caxis\": {\"gridcolor\": \"white\", \"linecolor\": \"white\", \"ticks\": \"\"}}, \"title\": {\"x\": 0.05}, \"xaxis\": {\"automargin\": true, \"gridcolor\": \"white\", \"linecolor\": \"white\", \"ticks\": \"\", \"title\": {\"standoff\": 15}, \"zerolinecolor\": \"white\", \"zerolinewidth\": 2}, \"yaxis\": {\"automargin\": true, \"gridcolor\": \"white\", \"linecolor\": \"white\", \"ticks\": \"\", \"title\": {\"standoff\": 15}, \"zerolinecolor\": \"white\", \"zerolinewidth\": 2}}}, \"title\": {\"text\": \"Corona Virus spreading in Asia, 2020-01-22\", \"x\": 0.5, \"xanchor\": \"center\", \"y\": 0.98, \"yanchor\": \"top\"}, \"updatemenus\": [{\"buttons\": [{\"args\": [null], \"label\": \"Play\", \"method\": \"animate\"}], \"type\": \"buttons\"}]},\n",
       "                        {\"responsive\": true}\n",
       "                    ).then(function(){\n",
       "                            Plotly.addFrames('855aa6ba-2a16-4811-86e3-17857b678a38', [{\"data\": [{\"lat\": [32.0, 39.906217, 30.05518, 26.5450001, 38.0000001, 23.1357694, 24.0, 27.0, 19.2000001, 39.0000001, 48.0000047, 34.0000001, 22.2793278, 31.15172525, 27.9995878, 36.5748441, 33.0000001, 28.0, 42.9995032, 40.9975197, 22.1757605, 37.0000001, 36.0, 36.0000001, 31.2322758, 37.0, 30.5000001, 1.357107, 36.5581914, 23.9739374, 14.8971921, 39.1235635, 13.2904027, 38.8948932, 41.7574769, 25.0, 29.0000001], \"locationmode\": \"country names\", \"lon\": [117.0, 116.3912757, 107.8748712, 117.842778, 101.9999999, 113.1982688, 109.0, 107.0, 109.5999999, 116.0, 127.999992, 113.9999999, 114.1628131, 112.87832224656043, 112.009538, 139.2394179, 119.9999999, 116.0, 125.9816054, 122.9955469, 113.5514142, 105.9999999, 109.0, 118.9999999, 121.4692071, 112.0, 102.4999999, 103.8194992, 127.9408564, 120.9820179, 100.83273, 117.1980785, 108.4265113, -77.0365529, 87.16738423046897, 102.0, 119.9999999], \"marker\": {\"autocolorscale\": false, \"cmax\": 350.0, \"cmin\": 0, \"color\": [0.0, 0.0, 0.0, 0.0, 0.0, 0.0, 0.0, 0.0, 0.0, 1.0, 0.0, 0.0, 0.0, 17.0, 0.0, 0.0, 0.0, 0.0, 0.0, 0.0, 0.0, 0.0, 0.0, 0.0, 0.0, 0.0, 0.0, 0.0, 0.0, 0.0, 0.0, 0.0, 0.0, 0.0, 0.0, 0.0, 0.0], \"colorbar\": {\"title\": {\"text\": \"Number of Deaths\"}}, \"line\": {\"color\": \"rgba(0, 0, 0)\", \"width\": 0.5}, \"opacity\": 0.6, \"reversescale\": true, \"size\": [5.256436683972135, 6.141908878443159, 5.256436683972135, 4.815004806125491, 4.29268464756894, 6.6096322232028495, 4.815004806125491, 4.502144029037208, 4.815004806125491, 4.0, 4.29268464756894, 4.815004806125491, 4.29268464756894, 12.561195780665512, 5.256436683972135, 4.0, 4.815004806125491, 5.0558871595781, 4.0, 4.502144029037208, 4.29268464756894, 4.0, 4.502144029037208, 4.94179852477375, 5.792353285846804, 4.0, 5.160119477784612, 4.0, 4.0, 4.0, 4.502144029037208, 4.671033598060435, 4.29268464756894, 4.0, 4.29268464756894, 4.29268464756894, 6.389492891729259]}, \"mode\": \"markers\", \"text\": [\"China, Anhui-> Deaths: 0.0 Confirmed: 9.0\", \"China, Beijing-> Deaths: 0.0 Confirmed: 22.0\", \"China, Chongqing-> Deaths: 0.0 Confirmed: 9.0\", \"China, Fujian-> Deaths: 0.0 Confirmed: 5.0\", \"China, Gansu-> Deaths: 0.0 Confirmed: 2.0\", \"China, Guangdong-> Deaths: 0.0 Confirmed: 32.0\", \"China, Guangxi-> Deaths: 0.0 Confirmed: 5.0\", \"China, Guizhou-> Deaths: 0.0 Confirmed: 3.0\", \"China, Hainan-> Deaths: 0.0 Confirmed: 5.0\", \"China, Hebei-> Deaths: 1.0 Confirmed: 1.0\", \"China, Heilongjiang-> Deaths: 0.0 Confirmed: 2.0\", \"China, Henan-> Deaths: 0.0 Confirmed: 5.0\", \"Hong Kong, Hong Kong-> Deaths: 0.0 Confirmed: 2.0\", \"China, Hubei-> Deaths: 17.0 Confirmed: 444.0\", \"China, Hunan-> Deaths: 0.0 Confirmed: 9.0\", \"Japan, Japan-> Deaths: 0.0 Confirmed: 1.0\", \"China, Jiangsu-> Deaths: 0.0 Confirmed: 5.0\", \"China, Jiangxi-> Deaths: 0.0 Confirmed: 7.0\", \"China, Jilin-> Deaths: 0.0 Confirmed: 1.0\", \"China, Liaoning-> Deaths: 0.0 Confirmed: 3.0\", \"Macau, Macau-> Deaths: 0.0 Confirmed: 2.0\", \"China, Ningxia-> Deaths: 0.0 Confirmed: 1.0\", \"China, Shaanxi-> Deaths: 0.0 Confirmed: 3.0\", \"China, Shandong-> Deaths: 0.0 Confirmed: 6.0\", \"China, Shanghai-> Deaths: 0.0 Confirmed: 16.0\", \"China, Shanxi-> Deaths: 0.0 Confirmed: 1.0\", \"China, Sichuan-> Deaths: 0.0 Confirmed: 8.0\", \"Singapore, Singapore-> Deaths: 0.0 Confirmed: 1.0\", \"South Korea, South Korea-> Deaths: 0.0 Confirmed: 1.0\", \"Taiwan, Taiwan-> Deaths: 0.0 Confirmed: 1.0\", \"Thailand, Thailand-> Deaths: 0.0 Confirmed: 3.0\", \"China, Tianjin-> Deaths: 0.0 Confirmed: 4.0\", \"Vietnam, Vietnam-> Deaths: 0.0 Confirmed: 2.0\", \"US, Washington-> Deaths: 0.0 Confirmed: 1.0\", \"China, Xinjiang-> Deaths: 0.0 Confirmed: 2.0\", \"China, Yunnan-> Deaths: 0.0 Confirmed: 2.0\", \"China, Zhejiang-> Deaths: 0.0 Confirmed: 27.0\"], \"type\": \"scattergeo\"}], \"layout\": {\"title\": {\"text\": \"Corona Virus spreading in Asia, 2020-01-23\", \"x\": 0.5, \"xanchor\": \"center\", \"y\": 0.98, \"yanchor\": \"top\"}}}, {\"data\": [{\"lat\": [32.0, 39.906217, 41.8755616, 30.05518, 46.603354, 26.5450001, 38.0000001, 23.1357694, 24.0, 27.0, 19.2000001, 39.0000001, 48.0000047, 34.0000001, 22.2793278, 31.15172525, 27.9995878, 43.2443242, 36.5748441, 33.0000001, 28.0, 42.9995032, 40.9975197, 22.1757605, 37.0000001, 36.0, 36.0000001, 31.2322758, 37.0, 30.5000001, 1.357107, 36.5581914, 23.9739374, 14.8971921, 39.1235635, 13.2904027, 38.8948932, 41.7574769, 25.0, 29.0000001], \"locationmode\": \"country names\", \"lon\": [117.0, 116.3912757, -87.6244212, 107.8748712, 1.8883335, 117.842778, 101.9999999, 113.1982688, 109.0, 107.0, 109.5999999, 116.0, 127.999992, 113.9999999, 114.1628131, 112.87832224656043, 112.009538, 114.3251664, 139.2394179, 119.9999999, 116.0, 125.9816054, 122.9955469, 113.5514142, 105.9999999, 109.0, 118.9999999, 121.4692071, 112.0, 102.4999999, 103.8194992, 127.9408564, 120.9820179, 100.83273, 117.1980785, 108.4265113, -77.0365529, 87.16738423046897, 102.0, 119.9999999], \"marker\": {\"autocolorscale\": false, \"cmax\": 350.0, \"cmin\": 0, \"color\": [0.0, 0.0, 0.0, 0.0, 0.0, 0.0, 0.0, 0.0, 0.0, 0.0, 0.0, 1.0, 1.0, 0.0, 0.0, 24.0, 0.0, 0.0, 0.0, 0.0, 0.0, 0.0, 0.0, 0.0, 0.0, 0.0, 0.0, 0.0, 0.0, 0.0, 0.0, 0.0, 0.0, 0.0, 0.0, 0.0, 0.0, 0.0, 0.0, 0.0], \"colorbar\": {\"title\": {\"text\": \"Number of Deaths\"}}, \"line\": {\"color\": \"rgba(0, 0, 0)\", \"width\": 0.5}, \"opacity\": 0.6, \"reversescale\": true, \"size\": [5.726398632195241, 6.770581510813514, 4.0, 6.389492891729259, 4.29268464756894, 5.346228848142263, 4.29268464756894, 7.3513166893231405, 6.194064213635992, 4.502144029037208, 5.160119477784612, 4.29268464756894, 4.671033598060435, 5.256436683972135, 4.29268464756894, 13.343235758122242, 6.244810575561126, 4.0, 4.29268464756894, 5.256436683972135, 5.916861059582148, 4.502144029037208, 4.671033598060435, 4.29268464756894, 4.29268464756894, 4.815004806125491, 5.726398632195241, 6.032934011676862, 4.0, 5.726398632195241, 4.502144029037208, 4.29268464756894, 4.502144029037208, 4.815004806125491, 5.160119477784612, 4.29268464756894, 4.0, 4.29268464756894, 4.815004806125491, 7.0270620082926145]}, \"mode\": \"markers\", \"text\": [\"China, Anhui-> Deaths: 0.0 Confirmed: 15.0\", \"China, Beijing-> Deaths: 0.0 Confirmed: 36.0\", \"US, Chicago-> Deaths: 0.0 Confirmed: 1.0\", \"China, Chongqing-> Deaths: 0.0 Confirmed: 27.0\", \"France, France-> Deaths: 0.0 Confirmed: 2.0\", \"China, Fujian-> Deaths: 0.0 Confirmed: 10.0\", \"China, Gansu-> Deaths: 0.0 Confirmed: 2.0\", \"China, Guangdong-> Deaths: 0.0 Confirmed: 53.0\", \"China, Guangxi-> Deaths: 0.0 Confirmed: 23.0\", \"China, Guizhou-> Deaths: 0.0 Confirmed: 3.0\", \"China, Hainan-> Deaths: 0.0 Confirmed: 8.0\", \"China, Hebei-> Deaths: 1.0 Confirmed: 2.0\", \"China, Heilongjiang-> Deaths: 1.0 Confirmed: 4.0\", \"China, Henan-> Deaths: 0.0 Confirmed: 9.0\", \"Hong Kong, Hong Kong-> Deaths: 0.0 Confirmed: 2.0\", \"China, Hubei-> Deaths: 24.0 Confirmed: 549.0\", \"China, Hunan-> Deaths: 0.0 Confirmed: 24.0\", \"China, Inner Mongolia-> Deaths: 0.0 Confirmed: 1.0\", \"Japan, Japan-> Deaths: 0.0 Confirmed: 2.0\", \"China, Jiangsu-> Deaths: 0.0 Confirmed: 9.0\", \"China, Jiangxi-> Deaths: 0.0 Confirmed: 18.0\", \"China, Jilin-> Deaths: 0.0 Confirmed: 3.0\", \"China, Liaoning-> Deaths: 0.0 Confirmed: 4.0\", \"Macau, Macau-> Deaths: 0.0 Confirmed: 2.0\", \"China, Ningxia-> Deaths: 0.0 Confirmed: 2.0\", \"China, Shaanxi-> Deaths: 0.0 Confirmed: 5.0\", \"China, Shandong-> Deaths: 0.0 Confirmed: 15.0\", \"China, Shanghai-> Deaths: 0.0 Confirmed: 20.0\", \"China, Shanxi-> Deaths: 0.0 Confirmed: 1.0\", \"China, Sichuan-> Deaths: 0.0 Confirmed: 15.0\", \"Singapore, Singapore-> Deaths: 0.0 Confirmed: 3.0\", \"South Korea, South Korea-> Deaths: 0.0 Confirmed: 2.0\", \"Taiwan, Taiwan-> Deaths: 0.0 Confirmed: 3.0\", \"Thailand, Thailand-> Deaths: 0.0 Confirmed: 5.0\", \"China, Tianjin-> Deaths: 0.0 Confirmed: 8.0\", \"Vietnam, Vietnam-> Deaths: 0.0 Confirmed: 2.0\", \"US, Washington-> Deaths: 0.0 Confirmed: 1.0\", \"China, Xinjiang-> Deaths: 0.0 Confirmed: 2.0\", \"China, Yunnan-> Deaths: 0.0 Confirmed: 5.0\", \"China, Zhejiang-> Deaths: 0.0 Confirmed: 43.0\"], \"type\": \"scattergeo\"}], \"layout\": {\"title\": {\"text\": \"Corona Virus spreading in Asia, 2020-01-24\", \"x\": 0.5, \"xanchor\": \"center\", \"y\": 0.98, \"yanchor\": \"top\"}}}, {\"data\": [{\"lat\": [32.0, 39.906217, 30.05518, 46.603354, 26.5450001, 38.0000001, 23.1357694, 24.0, 27.0, 19.2000001, 39.0000001, 48.0000047, 34.0000001, 22.2793278, 31.15172525, 27.9995878, 40.0796606, 43.2443242, 36.5748441, 33.0000001, 28.0, 42.9995032, 40.9975197, 22.1757605, 4.5693754, 28.1083929, 37.0000001, 35.40709525, 36.0, 36.0000001, 31.2322758, 37.0, 30.5000001, 1.357107, 36.5581914, 23.9739374, 14.8971921, 39.1235635, 13.2904027, 38.8948932, 41.7574769, 25.0, 29.0000001], \"locationmode\": \"country names\", \"lon\": [117.0, 116.3912757, 107.8748712, 1.8883335, 117.842778, 101.9999999, 113.1982688, 109.0, 107.0, 109.5999999, 116.0, 127.999992, 113.9999999, 114.1628131, 112.87832224656043, 112.009538, -89.4337288, 114.3251664, 139.2394179, 119.9999999, 116.0, 125.9816054, 122.9955469, 113.5514142, 102.2656823, 84.0917139, 105.9999999, 95.95211573241954, 109.0, 118.9999999, 121.4692071, 112.0, 102.4999999, 103.8194992, 127.9408564, 120.9820179, 100.83273, 117.1980785, 108.4265113, -77.0365529, 87.16738423046897, 102.0, 119.9999999], \"marker\": {\"autocolorscale\": false, \"cmax\": 350.0, \"cmin\": 0, \"color\": [0.0, 0.0, 0.0, 0.0, 1.0, 0.0, 0.0, 0.0, 0.0, 0.0, 1.0, 0.0, 1.0, 0.0, 52.0, 0.0, 0.0, 0.0, 0.0, 0.0, 0.0, 0.0, 0.0, 0.0, 0.0, 0.0, 0.0, 0.0, 0.0, 0.0, 1.0, 0.0, 0.0, 0.0, 0.0, 0.0, 0.0, 0.0, 0.0, 0.0, 0.0, 0.0, 0.0], \"colorbar\": {\"title\": {\"text\": \"Number of Deaths\"}}, \"line\": {\"color\": \"rgba(0, 0, 0)\", \"width\": 0.5}, \"opacity\": 0.6, \"reversescale\": true, \"size\": [7.555903716104263, 7.2897639830644705, 7.948426620848326, 4.502144029037208, 5.916861059582148, 5.0558871595781, 8.463754021408548, 6.6510061989273215, 4.815004806125491, 5.975859650018929, 5.585661160918501, 5.726398632195241, 8.137710912549311, 4.815004806125491, 16.16027876770024, 7.797944486874728, 4.0, 5.0558871595781, 4.29268464756894, 6.567435936849419, 6.770581510813514, 4.671033598060435, 5.975859650018929, 4.29268464756894, 4.502144029037208, 4.0, 4.671033598060435, 4.0, 5.726398632195241, 6.88403547398714, 6.920627233984357, 5.256436683972135, 7.06149737122402, 4.502144029037208, 4.502144029037208, 4.502144029037208, 5.0558871595781, 5.585661160918501, 4.29268464756894, 4.0, 4.671033598060435, 5.4305300479524705, 8.585337036651225]}, \"mode\": \"markers\", \"text\": [\"China, Anhui-> Deaths: 0.0 Confirmed: 60.0\", \"China, Beijing-> Deaths: 0.0 Confirmed: 51.0\", \"China, Chongqing-> Deaths: 0.0 Confirmed: 75.0\", \"France, France-> Deaths: 0.0 Confirmed: 3.0\", \"China, Fujian-> Deaths: 1.0 Confirmed: 18.0\", \"China, Gansu-> Deaths: 0.0 Confirmed: 7.0\", \"China, Guangdong-> Deaths: 0.0 Confirmed: 98.0\", \"China, Guangxi-> Deaths: 0.0 Confirmed: 33.0\", \"China, Guizhou-> Deaths: 0.0 Confirmed: 5.0\", \"China, Hainan-> Deaths: 0.0 Confirmed: 19.0\", \"China, Hebei-> Deaths: 1.0 Confirmed: 13.0\", \"China, Heilongjiang-> Deaths: 0.0 Confirmed: 15.0\", \"China, Henan-> Deaths: 1.0 Confirmed: 83.0\", \"Hong Kong, Hong Kong-> Deaths: 0.0 Confirmed: 5.0\", \"China, Hubei-> Deaths: 52.0 Confirmed: 1052.0\", \"China, Hunan-> Deaths: 0.0 Confirmed: 69.0\", \"US, Illinois-> Deaths: 0.0 Confirmed: 1.0\", \"China, Inner Mongolia-> Deaths: 0.0 Confirmed: 7.0\", \"Japan, Japan-> Deaths: 0.0 Confirmed: 2.0\", \"China, Jiangsu-> Deaths: 0.0 Confirmed: 31.0\", \"China, Jiangxi-> Deaths: 0.0 Confirmed: 36.0\", \"China, Jilin-> Deaths: 0.0 Confirmed: 4.0\", \"China, Liaoning-> Deaths: 0.0 Confirmed: 19.0\", \"Macau, Macau-> Deaths: 0.0 Confirmed: 2.0\", \"Malaysia, Malaysia-> Deaths: 0.0 Confirmed: 3.0\", \"Nepal, Nepal-> Deaths: 0.0 Confirmed: 1.0\", \"China, Ningxia-> Deaths: 0.0 Confirmed: 4.0\", \"China, Qinghai-> Deaths: 0.0 Confirmed: 1.0\", \"China, Shaanxi-> Deaths: 0.0 Confirmed: 15.0\", \"China, Shandong-> Deaths: 0.0 Confirmed: 39.0\", \"China, Shanghai-> Deaths: 1.0 Confirmed: 40.0\", \"China, Shanxi-> Deaths: 0.0 Confirmed: 9.0\", \"China, Sichuan-> Deaths: 0.0 Confirmed: 44.0\", \"Singapore, Singapore-> Deaths: 0.0 Confirmed: 3.0\", \"South Korea, South Korea-> Deaths: 0.0 Confirmed: 3.0\", \"Taiwan, Taiwan-> Deaths: 0.0 Confirmed: 3.0\", \"Thailand, Thailand-> Deaths: 0.0 Confirmed: 7.0\", \"China, Tianjin-> Deaths: 0.0 Confirmed: 13.0\", \"Vietnam, Vietnam-> Deaths: 0.0 Confirmed: 2.0\", \"US, Washington-> Deaths: 0.0 Confirmed: 1.0\", \"China, Xinjiang-> Deaths: 0.0 Confirmed: 4.0\", \"China, Yunnan-> Deaths: 0.0 Confirmed: 11.0\", \"China, Zhejiang-> Deaths: 0.0 Confirmed: 104.0\"], \"type\": \"scattergeo\"}], \"layout\": {\"title\": {\"text\": \"Corona Virus spreading in Asia, 2020-01-25\", \"x\": 0.5, \"xanchor\": \"center\", \"y\": 0.98, \"yanchor\": \"top\"}}}, {\"data\": [{\"lat\": [32.0, 34.395342, 39.906217, 36.7014631, 30.05518, 46.603354, 26.5450001, 38.0000001, 23.1357694, 24.0, 27.0, 19.2000001, 39.0000001, 48.0000047, 34.0000001, 22.2793278, 31.15172525, 27.9995878, 40.0796606, 43.2443242, 36.5748441, 33.0000001, 28.0, 42.9995032, 40.9975197, 22.1757605, 4.5693754, 28.1083929, 37.0000001, 50.000678, 35.40709525, 36.0, 36.0000001, 31.2322758, 37.0, 30.5000001, 1.357107, 36.5581914, 23.9739374, 14.8971921, 39.1235635, 13.2904027, 38.8948932, 41.7574769, 25.0, 29.0000001], \"locationmode\": \"country names\", \"lon\": [117.0, -111.7632755, 116.3912757, -118.7559974, 107.8748712, 1.8883335, 117.842778, 101.9999999, 113.1982688, 109.0, 107.0, 109.5999999, 116.0, 127.999992, 113.9999999, 114.1628131, 112.87832224656043, 112.009538, -89.4337288, 114.3251664, 139.2394179, 119.9999999, 116.0, 125.9816054, 122.9955469, 113.5514142, 102.2656823, 84.0917139, 105.9999999, -86.000977, 95.95211573241954, 109.0, 118.9999999, 121.4692071, 112.0, 102.4999999, 103.8194992, 127.9408564, 120.9820179, 100.83273, 117.1980785, 108.4265113, -77.0365529, 87.16738423046897, 102.0, 119.9999999], \"marker\": {\"autocolorscale\": false, \"cmax\": 350.0, \"cmin\": 0, \"color\": [0.0, 0.0, 0.0, 0.0, 0.0, 0.0, 0.0, 0.0, 0.0, 0.0, 0.0, 0.0, 1.0, 1.0, 1.0, 0.0, 76.0, 0.0, 0.0, 0.0, 0.0, 0.0, 0.0, 0.0, 0.0, 0.0, 0.0, 0.0, 0.0, 0.0, 0.0, 0.0, 0.0, 1.0, 0.0, 0.0, 0.0, 0.0, 0.0, 0.0, 0.0, 0.0, 0.0, 0.0, 0.0, 0.0], \"colorbar\": {\"title\": {\"text\": \"Number of Deaths\"}}, \"line\": {\"color\": \"rgba(0, 0, 0)\", \"width\": 0.5}, \"opacity\": 0.6, \"reversescale\": true, \"size\": [7.823581762327395, 4.0, 7.7720721880742705, 4.29268464756894, 8.702579714782685, 4.502144029037208, 6.731445075485936, 5.657613768320726, 9.333039092007414, 7.128917772316606, 5.0558871595781, 6.141908878443159, 5.916861059582148, 6.088238621134508, 9.031816721613545, 5.160119477784612, 17.718164978409675, 8.50478980785497, 4.0, 5.4305300479524705, 4.671033598060435, 7.161937009665921, 7.194516815297205, 4.94179852477375, 6.194064213635992, 4.94179852477375, 4.671033598060435, 4.0, 4.671033598060435, 4.0, 4.671033598060435, 6.141908878443159, 7.638979204979299, 7.3513166893231405, 5.585661160918501, 7.797944486874728, 4.671033598060435, 4.502144029037208, 4.671033598060435, 5.160119477784612, 5.657613768320726, 4.29268464756894, 4.0, 4.815004806125491, 5.975859650018929, 9.031816721613545]}, \"mode\": \"markers\", \"text\": [\"China, Anhui-> Deaths: 0.0 Confirmed: 70.0\", \"US, Arizona-> Deaths: 0.0 Confirmed: 1.0\", \"China, Beijing-> Deaths: 0.0 Confirmed: 68.0\", \"US, California-> Deaths: 0.0 Confirmed: 2.0\", \"China, Chongqing-> Deaths: 0.0 Confirmed: 110.0\", \"France, France-> Deaths: 0.0 Confirmed: 3.0\", \"China, Fujian-> Deaths: 0.0 Confirmed: 35.0\", \"China, Gansu-> Deaths: 0.0 Confirmed: 14.0\", \"China, Guangdong-> Deaths: 0.0 Confirmed: 146.0\", \"China, Guangxi-> Deaths: 0.0 Confirmed: 46.0\", \"China, Guizhou-> Deaths: 0.0 Confirmed: 7.0\", \"China, Hainan-> Deaths: 0.0 Confirmed: 22.0\", \"China, Hebei-> Deaths: 1.0 Confirmed: 18.0\", \"China, Heilongjiang-> Deaths: 1.0 Confirmed: 21.0\", \"China, Henan-> Deaths: 1.0 Confirmed: 128.0\", \"Hong Kong, Hong Kong-> Deaths: 0.0 Confirmed: 8.0\", \"China, Hubei-> Deaths: 76.0 Confirmed: 1423.0\", \"China, Hunan-> Deaths: 0.0 Confirmed: 100.0\", \"US, Illinois-> Deaths: 0.0 Confirmed: 1.0\", \"China, Inner Mongolia-> Deaths: 0.0 Confirmed: 11.0\", \"Japan, Japan-> Deaths: 0.0 Confirmed: 4.0\", \"China, Jiangsu-> Deaths: 0.0 Confirmed: 47.0\", \"China, Jiangxi-> Deaths: 0.0 Confirmed: 48.0\", \"China, Jilin-> Deaths: 0.0 Confirmed: 6.0\", \"China, Liaoning-> Deaths: 0.0 Confirmed: 23.0\", \"Macau, Macau-> Deaths: 0.0 Confirmed: 6.0\", \"Malaysia, Malaysia-> Deaths: 0.0 Confirmed: 4.0\", \"Nepal, Nepal-> Deaths: 0.0 Confirmed: 1.0\", \"China, Ningxia-> Deaths: 0.0 Confirmed: 4.0\", \"Canada, Ontario-> Deaths: 0.0 Confirmed: 1.0\", \"China, Qinghai-> Deaths: 0.0 Confirmed: 4.0\", \"China, Shaanxi-> Deaths: 0.0 Confirmed: 22.0\", \"China, Shandong-> Deaths: 0.0 Confirmed: 63.0\", \"China, Shanghai-> Deaths: 1.0 Confirmed: 53.0\", \"China, Shanxi-> Deaths: 0.0 Confirmed: 13.0\", \"China, Sichuan-> Deaths: 0.0 Confirmed: 69.0\", \"Singapore, Singapore-> Deaths: 0.0 Confirmed: 4.0\", \"South Korea, South Korea-> Deaths: 0.0 Confirmed: 3.0\", \"Taiwan, Taiwan-> Deaths: 0.0 Confirmed: 4.0\", \"Thailand, Thailand-> Deaths: 0.0 Confirmed: 8.0\", \"China, Tianjin-> Deaths: 0.0 Confirmed: 14.0\", \"Vietnam, Vietnam-> Deaths: 0.0 Confirmed: 2.0\", \"US, Washington-> Deaths: 0.0 Confirmed: 1.0\", \"China, Xinjiang-> Deaths: 0.0 Confirmed: 5.0\", \"China, Yunnan-> Deaths: 0.0 Confirmed: 19.0\", \"China, Zhejiang-> Deaths: 0.0 Confirmed: 128.0\"], \"type\": \"scattergeo\"}], \"layout\": {\"title\": {\"text\": \"Corona Virus spreading in Asia, 2020-01-26\", \"x\": 0.5, \"xanchor\": \"center\", \"y\": 0.98, \"yanchor\": \"top\"}}}, {\"data\": [{\"lat\": [32.0, 34.395342, 48.9467562, 39.906217, 36.7014631, 13.5066394, 30.05518, 46.603354, 26.5450001, 38.0000001, 23.1357694, 24.0, 27.0, 19.2000001, 39.0000001, 48.0000047, 34.0000001, 22.2793278, 31.15172525, 27.9995878, 40.0796606, 43.2443242, 36.5748441, 33.0000001, 28.0, 42.9995032, 40.9975197, 22.1757605, 4.5693754, 28.1083929, -31.8759835, 37.0000001, 50.000678, 35.40709525, 36.0, 36.0000001, 31.2322758, 37.0, 30.5000001, 1.357107, 36.5581914, 7.5554942, 23.9739374, 14.8971921, 39.1235635, -36.5986096, 13.2904027, 38.8948932, 41.7574769, 25.0, 29.0000001], \"locationmode\": \"country names\", \"lon\": [117.0, -111.7632755, 11.4038717, 116.3912757, -118.7559974, 104.869423, 107.8748712, 1.8883335, 117.842778, 101.9999999, 113.1982688, 109.0, 107.0, 109.5999999, 116.0, 127.999992, 113.9999999, 114.1628131, 112.87832224656043, 112.009538, -89.4337288, 114.3251664, 139.2394179, 119.9999999, 116.0, 125.9816054, 122.9955469, 113.5514142, 102.2656823, 84.0917139, 147.2869493, 105.9999999, -86.000977, 95.95211573241954, 109.0, 118.9999999, 121.4692071, 112.0, 102.4999999, 103.8194992, 127.9408564, 80.7137847, 120.9820179, 100.83273, 117.1980785, 144.6780052, 108.4265113, -77.0365529, 87.16738423046897, 102.0, 119.9999999], \"marker\": {\"autocolorscale\": false, \"cmax\": 350.0, \"cmin\": 0, \"color\": [0.0, 0.0, 0.0, 1.0, 0.0, 0.0, 0.0, 0.0, 0.0, 0.0, 0.0, 0.0, 0.0, 1.0, 1.0, 1.0, 1.0, 0.0, 100.0, 0.0, 0.0, 0.0, 0.0, 0.0, 0.0, 0.0, 0.0, 0.0, 0.0, 0.0, 0.0, 0.0, 0.0, 0.0, 0.0, 1.0, 1.0, 0.0, 0.0, 0.0, 0.0, 0.0, 0.0, 0.0, 0.0, 0.0, 0.0, 0.0, 0.0, 0.0, 0.0], \"colorbar\": {\"title\": {\"text\": \"Number of Deaths\"}}, \"line\": {\"color\": \"rgba(0, 0, 0)\", \"width\": 0.5}, \"opacity\": 0.6, \"reversescale\": true, \"size\": [8.624880280998532, 4.0, 4.0, 8.068134634212257, 4.29268464756894, 4.0, 9.100954025134477, 4.502144029037208, 7.527631944695398, 5.975859650018929, 9.412516550145508, 7.2897639830644705, 5.256436683972135, 6.6510061989273215, 6.6510061989273215, 6.524373654991745, 9.670964397559343, 5.160119477784612, 21.694220002961224, 8.50478980785497, 4.0, 5.4305300479524705, 4.671033598060435, 7.823581762327395, 7.8741728314359305, 4.94179852477375, 6.389492891729259, 4.94179852477375, 4.671033598060435, 4.0, 4.671033598060435, 5.0558871595781, 4.0, 4.94179852477375, 6.731445075485936, 8.228058805837552, 7.719599661532381, 6.032934011676862, 8.29411684194189, 4.815004806125491, 4.671033598060435, 4.0, 4.815004806125491, 5.160119477784612, 6.194064213635992, 4.0, 4.29268464756894, 4.0, 4.815004806125491, 6.34244448653463, 9.743819909152371]}, \"mode\": \"markers\", \"text\": [\"China, Anhui-> Deaths: 0.0 Confirmed: 106.0\", \"US, Arizona-> Deaths: 0.0 Confirmed: 1.0\", \"Germany, Bavaria-> Deaths: 0.0 Confirmed: 1.0\", \"China, Beijing-> Deaths: 1.0 Confirmed: 80.0\", \"US, California-> Deaths: 0.0 Confirmed: 2.0\", \"Cambodia, Cambodia-> Deaths: 0.0 Confirmed: 1.0\", \"China, Chongqing-> Deaths: 0.0 Confirmed: 132.0\", \"France, France-> Deaths: 0.0 Confirmed: 3.0\", \"China, Fujian-> Deaths: 0.0 Confirmed: 59.0\", \"China, Gansu-> Deaths: 0.0 Confirmed: 19.0\", \"China, Guangdong-> Deaths: 0.0 Confirmed: 151.0\", \"China, Guangxi-> Deaths: 0.0 Confirmed: 51.0\", \"China, Guizhou-> Deaths: 0.0 Confirmed: 9.0\", \"China, Hainan-> Deaths: 1.0 Confirmed: 33.0\", \"China, Hebei-> Deaths: 1.0 Confirmed: 33.0\", \"China, Heilongjiang-> Deaths: 1.0 Confirmed: 30.0\", \"China, Henan-> Deaths: 1.0 Confirmed: 168.0\", \"Hong Kong, Hong Kong-> Deaths: 0.0 Confirmed: 8.0\", \"China, Hubei-> Deaths: 100.0 Confirmed: 2714.0\", \"China, Hunan-> Deaths: 0.0 Confirmed: 100.0\", \"US, Illinois-> Deaths: 0.0 Confirmed: 1.0\", \"China, Inner Mongolia-> Deaths: 0.0 Confirmed: 11.0\", \"Japan, Japan-> Deaths: 0.0 Confirmed: 4.0\", \"China, Jiangsu-> Deaths: 0.0 Confirmed: 70.0\", \"China, Jiangxi-> Deaths: 0.0 Confirmed: 72.0\", \"China, Jilin-> Deaths: 0.0 Confirmed: 6.0\", \"China, Liaoning-> Deaths: 0.0 Confirmed: 27.0\", \"Macau, Macau-> Deaths: 0.0 Confirmed: 6.0\", \"Malaysia, Malaysia-> Deaths: 0.0 Confirmed: 4.0\", \"Nepal, Nepal-> Deaths: 0.0 Confirmed: 1.0\", \"Australia, New South Wales-> Deaths: 0.0 Confirmed: 4.0\", \"China, Ningxia-> Deaths: 0.0 Confirmed: 7.0\", \"Canada, Ontario-> Deaths: 0.0 Confirmed: 1.0\", \"China, Qinghai-> Deaths: 0.0 Confirmed: 6.0\", \"China, Shaanxi-> Deaths: 0.0 Confirmed: 35.0\", \"China, Shandong-> Deaths: 1.0 Confirmed: 87.0\", \"China, Shanghai-> Deaths: 1.0 Confirmed: 66.0\", \"China, Shanxi-> Deaths: 0.0 Confirmed: 20.0\", \"China, Sichuan-> Deaths: 0.0 Confirmed: 90.0\", \"Singapore, Singapore-> Deaths: 0.0 Confirmed: 5.0\", \"South Korea, South Korea-> Deaths: 0.0 Confirmed: 4.0\", \"Sri Lanka, Sri Lanka-> Deaths: 0.0 Confirmed: 1.0\", \"Taiwan, Taiwan-> Deaths: 0.0 Confirmed: 5.0\", \"Thailand, Thailand-> Deaths: 0.0 Confirmed: 8.0\", \"China, Tianjin-> Deaths: 0.0 Confirmed: 23.0\", \"Australia, Victoria-> Deaths: 0.0 Confirmed: 1.0\", \"Vietnam, Vietnam-> Deaths: 0.0 Confirmed: 2.0\", \"US, Washington-> Deaths: 0.0 Confirmed: 1.0\", \"China, Xinjiang-> Deaths: 0.0 Confirmed: 5.0\", \"China, Yunnan-> Deaths: 0.0 Confirmed: 26.0\", \"China, Zhejiang-> Deaths: 0.0 Confirmed: 173.0\"], \"type\": \"scattergeo\"}], \"layout\": {\"title\": {\"text\": \"Corona Virus spreading in Asia, 2020-01-27\", \"x\": 0.5, \"xanchor\": \"center\", \"y\": 0.98, \"yanchor\": \"top\"}}}, {\"data\": [{\"lat\": [32.0, 34.395342, 48.9467562, 39.906217, 55.001251, 36.7014631, 13.5066394, 30.05518, 46.603354, 26.5450001, 38.0000001, 23.1357694, 24.0, 27.0, 19.2000001, 39.0000001, 48.0000047, 34.0000001, 22.2793278, 31.15172525, 27.9995878, 40.0796606, 43.2443242, 36.5748441, 33.0000001, 28.0, 42.9995032, 40.9975197, 22.1757605, 4.5693754, 28.1083929, -31.8759835, 37.0000001, 50.000678, 35.40709525, 36.0, 36.0000001, 31.2322758, 37.0, 30.5000001, 1.357107, 36.5581914, 7.5554942, 23.9739374, 14.8971921, 39.1235635, -36.5986096, 13.2904027, 38.8948932, 41.7574769, 25.0, 29.0000001], \"locationmode\": \"country names\", \"lon\": [117.0, -111.7632755, 11.4038717, 116.3912757, -125.002441, -118.7559974, 104.869423, 107.8748712, 1.8883335, 117.842778, 101.9999999, 113.1982688, 109.0, 107.0, 109.5999999, 116.0, 127.999992, 113.9999999, 114.1628131, 112.87832224656043, 112.009538, -89.4337288, 114.3251664, 139.2394179, 119.9999999, 116.0, 125.9816054, 122.9955469, 113.5514142, 102.2656823, 84.0917139, 147.2869493, 105.9999999, -86.000977, 95.95211573241954, 109.0, 118.9999999, 121.4692071, 112.0, 102.4999999, 103.8194992, 127.9408564, 80.7137847, 120.9820179, 100.83273, 117.1980785, 144.6780052, 108.4265113, -77.0365529, 87.16738423046897, 102.0, 119.9999999], \"marker\": {\"autocolorscale\": false, \"cmax\": 350.0, \"cmin\": 0, \"color\": [0.0, 0.0, 0.0, 1.0, 0.0, 0.0, 0.0, 0.0, 0.0, 0.0, 0.0, 0.0, 0.0, 0.0, 1.0, 1.0, 1.0, 2.0, 0.0, 125.0, 0.0, 0.0, 0.0, 0.0, 0.0, 0.0, 0.0, 0.0, 0.0, 0.0, 0.0, 0.0, 0.0, 0.0, 0.0, 0.0, 0.0, 1.0, 0.0, 0.0, 0.0, 0.0, 0.0, 0.0, 0.0, 0.0, 0.0, 0.0, 0.0, 0.0, 0.0, 0.0], \"colorbar\": {\"title\": {\"text\": \"Number of Deaths\"}}, \"line\": {\"color\": \"rgba(0, 0, 0)\", \"width\": 0.5}, \"opacity\": 0.6, \"reversescale\": true, \"size\": [9.428212393159187, 4.0, 4.671033598060435, 8.315827579752149, 4.0, 4.29268464756894, 4.0, 9.34907012690361, 4.671033598060435, 8.11469740720754, 6.244810575561126, 10.624801365006507, 7.49905683093882, 5.256436683972135, 7.0270620082926145, 7.194516815297205, 6.809039298366404, 10.19428866251348, 5.160119477784612, 23.657631556659094, 10.384029697622363, 4.0, 5.792353285846804, 5.0558871595781, 8.484337161696507, 8.683323885459039, 5.256436683972135, 6.770581510813514, 5.0558871595781, 5.0558871595781, 4.0, 4.671033598060435, 5.510133141647044, 4.0, 4.94179852477375, 7.440961897531936, 8.90747631399984, 8.068134634212257, 6.389492891729259, 8.663956502466613, 5.0558871595781, 4.671033598060435, 4.0, 5.160119477784612, 5.657613768320726, 6.294242446258631, 4.0, 4.29268464756894, 4.0, 5.585661160918501, 7.06149737122402, 11.227979980048302]}, \"mode\": \"markers\", \"text\": [\"China, Anhui-> Deaths: 0.0 Confirmed: 152.0\", \"US, Arizona-> Deaths: 0.0 Confirmed: 1.0\", \"Germany, Bavaria-> Deaths: 0.0 Confirmed: 4.0\", \"China, Beijing-> Deaths: 1.0 Confirmed: 91.0\", \"Canada, British Columbia-> Deaths: 0.0 Confirmed: 1.0\", \"US, California-> Deaths: 0.0 Confirmed: 2.0\", \"Cambodia, Cambodia-> Deaths: 0.0 Confirmed: 1.0\", \"China, Chongqing-> Deaths: 0.0 Confirmed: 147.0\", \"France, France-> Deaths: 0.0 Confirmed: 4.0\", \"China, Fujian-> Deaths: 0.0 Confirmed: 82.0\", \"China, Gansu-> Deaths: 0.0 Confirmed: 24.0\", \"China, Guangdong-> Deaths: 0.0 Confirmed: 241.0\", \"China, Guangxi-> Deaths: 0.0 Confirmed: 58.0\", \"China, Guizhou-> Deaths: 0.0 Confirmed: 9.0\", \"China, Hainan-> Deaths: 1.0 Confirmed: 43.0\", \"China, Hebei-> Deaths: 1.0 Confirmed: 48.0\", \"China, Heilongjiang-> Deaths: 1.0 Confirmed: 37.0\", \"China, Henan-> Deaths: 2.0 Confirmed: 206.0\", \"Hong Kong, Hong Kong-> Deaths: 0.0 Confirmed: 8.0\", \"China, Hubei-> Deaths: 125.0 Confirmed: 3554.0\", \"China, Hunan-> Deaths: 0.0 Confirmed: 221.0\", \"US, Illinois-> Deaths: 0.0 Confirmed: 1.0\", \"China, Inner Mongolia-> Deaths: 0.0 Confirmed: 16.0\", \"Japan, Japan-> Deaths: 0.0 Confirmed: 7.0\", \"China, Jiangsu-> Deaths: 0.0 Confirmed: 99.0\", \"China, Jiangxi-> Deaths: 0.0 Confirmed: 109.0\", \"China, Jilin-> Deaths: 0.0 Confirmed: 9.0\", \"China, Liaoning-> Deaths: 0.0 Confirmed: 36.0\", \"Macau, Macau-> Deaths: 0.0 Confirmed: 7.0\", \"Malaysia, Malaysia-> Deaths: 0.0 Confirmed: 7.0\", \"Nepal, Nepal-> Deaths: 0.0 Confirmed: 1.0\", \"Australia, New South Wales-> Deaths: 0.0 Confirmed: 4.0\", \"China, Ningxia-> Deaths: 0.0 Confirmed: 12.0\", \"Canada, Ontario-> Deaths: 0.0 Confirmed: 1.0\", \"China, Qinghai-> Deaths: 0.0 Confirmed: 6.0\", \"China, Shaanxi-> Deaths: 0.0 Confirmed: 56.0\", \"China, Shandong-> Deaths: 0.0 Confirmed: 121.0\", \"China, Shanghai-> Deaths: 1.0 Confirmed: 80.0\", \"China, Shanxi-> Deaths: 0.0 Confirmed: 27.0\", \"China, Sichuan-> Deaths: 0.0 Confirmed: 108.0\", \"Singapore, Singapore-> Deaths: 0.0 Confirmed: 7.0\", \"South Korea, South Korea-> Deaths: 0.0 Confirmed: 4.0\", \"Sri Lanka, Sri Lanka-> Deaths: 0.0 Confirmed: 1.0\", \"Taiwan, Taiwan-> Deaths: 0.0 Confirmed: 8.0\", \"Thailand, Thailand-> Deaths: 0.0 Confirmed: 14.0\", \"China, Tianjin-> Deaths: 0.0 Confirmed: 25.0\", \"Australia, Victoria-> Deaths: 0.0 Confirmed: 1.0\", \"Vietnam, Vietnam-> Deaths: 0.0 Confirmed: 2.0\", \"US, Washington-> Deaths: 0.0 Confirmed: 1.0\", \"China, Xinjiang-> Deaths: 0.0 Confirmed: 13.0\", \"China, Yunnan-> Deaths: 0.0 Confirmed: 44.0\", \"China, Zhejiang-> Deaths: 0.0 Confirmed: 296.0\"], \"type\": \"scattergeo\"}], \"layout\": {\"title\": {\"text\": \"Corona Virus spreading in Asia, 2020-01-28\", \"x\": 0.5, \"xanchor\": \"center\", \"y\": 0.98, \"yanchor\": \"top\"}}}, {\"data\": [{\"lat\": [32.0, 34.395342, 48.9467562, 39.906217, 55.001251, 36.7014631, 13.5066394, 30.05518, 63.2467777, 46.603354, 26.5450001, 38.0000001, 23.1357694, 24.0, 27.0, 19.2000001, 39.0000001, 48.0000047, 34.0000001, 22.2793278, 31.15172525, 27.9995878, 40.0796606, 43.2443242, 36.5748441, 33.0000001, 28.0, 42.9995032, 40.9975197, 22.1757605, 4.5693754, 28.1083929, -31.8759835, 37.0000001, 50.000678, 35.40709525, -22.1646782, 36.0, 36.0000001, 31.2322758, 37.0, 30.5000001, 1.357107, 36.5581914, 7.5554942, 23.9739374, 14.8971921, 39.1235635, 31.894343149999997, 24.0002488, -36.5986096, 13.2904027, 38.8948932, 41.7574769, 25.0, 29.0000001], \"locationmode\": \"country names\", \"lon\": [117.0, -111.7632755, 11.4038717, 116.3912757, -125.002441, -118.7559974, 104.869423, 107.8748712, 25.9209164, 1.8883335, 117.842778, 101.9999999, 113.1982688, 109.0, 107.0, 109.5999999, 116.0, 127.999992, 113.9999999, 114.1628131, 112.87832224656043, 112.009538, -89.4337288, 114.3251664, 139.2394179, 119.9999999, 116.0, 125.9816054, 122.9955469, 113.5514142, 102.2656823, 84.0917139, 147.2869493, 105.9999999, -86.000977, 95.95211573241954, 144.5844903, 109.0, 118.9999999, 121.4692071, 112.0, 102.4999999, 103.8194992, 127.9408564, 80.7137847, 120.9820179, 100.83273, 117.1980785, 87.07813712706509, 53.9994829, 144.6780052, 108.4265113, -77.0365529, 87.16738423046897, 102.0, 119.9999999], \"marker\": {\"autocolorscale\": false, \"cmax\": 350.0, \"cmin\": 0, \"color\": [0.0, 0.0, 0.0, 1.0, 0.0, 0.0, 0.0, 0.0, 0.0, 0.0, 0.0, 0.0, 0.0, 0.0, 0.0, 1.0, 1.0, 1.0, 2.0, 0.0, 162.0, 0.0, 0.0, 0.0, 0.0, 0.0, 0.0, 0.0, 0.0, 0.0, 0.0, 0.0, 0.0, 0.0, 0.0, 0.0, 0.0, 0.0, 0.0, 1.0, 0.0, 1.0, 0.0, 0.0, 0.0, 0.0, 0.0, 0.0, 0.0, 0.0, 0.0, 0.0, 0.0, 0.0, 0.0, 0.0], \"colorbar\": {\"title\": {\"text\": \"Number of Deaths\"}}, \"line\": {\"color\": \"rgba(0, 0, 0)\", \"width\": 0.5}, \"opacity\": 0.6, \"reversescale\": true, \"size\": [10.115957272708098, 4.0, 4.671033598060435, 8.721725638409168, 4.0, 4.29268464756894, 4.0, 9.626593798247049, 4.0, 4.815004806125491, 8.525114079844972, 6.34244448653463, 11.38001099657052, 8.020833027836328, 5.510133141647044, 7.0270620082926145, 7.692987434079096, 7.0270620082926145, 11.038995328023105, 5.346228848142263, 25.703179629243312, 11.02827308350268, 4.0, 5.792353285846804, 5.4305300479524705, 9.049227150319336, 9.581712296890988, 5.657613768320726, 6.88403547398714, 5.0558871595781, 5.0558871595781, 4.0, 4.671033598060435, 5.510133141647044, 4.29268464756894, 4.94179852477375, 4.0, 7.440961897531936, 9.316938772764521, 8.525114079844972, 6.731445075485936, 9.268214233380256, 5.346228848142263, 4.671033598060435, 4.0, 5.160119477784612, 5.657613768320726, 6.389492891729259, 4.0, 4.671033598060435, 4.29268464756894, 4.29268464756894, 4.0, 5.657613768320726, 7.411423718466154, 12.43210883489381]}, \"mode\": \"markers\", \"text\": [\"China, Anhui-> Deaths: 0.0 Confirmed: 200.0\", \"US, Arizona-> Deaths: 0.0 Confirmed: 1.0\", \"Germany, Bavaria-> Deaths: 0.0 Confirmed: 4.0\", \"China, Beijing-> Deaths: 1.0 Confirmed: 111.0\", \"Canada, British Columbia-> Deaths: 0.0 Confirmed: 1.0\", \"US, California-> Deaths: 0.0 Confirmed: 2.0\", \"Cambodia, Cambodia-> Deaths: 0.0 Confirmed: 1.0\", \"China, Chongqing-> Deaths: 0.0 Confirmed: 165.0\", \"Finland, Finland-> Deaths: 0.0 Confirmed: 1.0\", \"France, France-> Deaths: 0.0 Confirmed: 5.0\", \"China, Fujian-> Deaths: 0.0 Confirmed: 101.0\", \"China, Gansu-> Deaths: 0.0 Confirmed: 26.0\", \"China, Guangdong-> Deaths: 0.0 Confirmed: 311.0\", \"China, Guangxi-> Deaths: 0.0 Confirmed: 78.0\", \"China, Guizhou-> Deaths: 0.0 Confirmed: 12.0\", \"China, Hainan-> Deaths: 1.0 Confirmed: 43.0\", \"China, Hebei-> Deaths: 1.0 Confirmed: 65.0\", \"China, Heilongjiang-> Deaths: 1.0 Confirmed: 43.0\", \"China, Henan-> Deaths: 2.0 Confirmed: 278.0\", \"Hong Kong, Hong Kong-> Deaths: 0.0 Confirmed: 10.0\", \"China, Hubei-> Deaths: 162.0 Confirmed: 4586.0\", \"China, Hunan-> Deaths: 0.0 Confirmed: 277.0\", \"US, Illinois-> Deaths: 0.0 Confirmed: 1.0\", \"China, Inner Mongolia-> Deaths: 0.0 Confirmed: 16.0\", \"Japan, Japan-> Deaths: 0.0 Confirmed: 11.0\", \"China, Jiangsu-> Deaths: 0.0 Confirmed: 129.0\", \"China, Jiangxi-> Deaths: 0.0 Confirmed: 162.0\", \"China, Jilin-> Deaths: 0.0 Confirmed: 14.0\", \"China, Liaoning-> Deaths: 0.0 Confirmed: 39.0\", \"Macau, Macau-> Deaths: 0.0 Confirmed: 7.0\", \"Malaysia, Malaysia-> Deaths: 0.0 Confirmed: 7.0\", \"Nepal, Nepal-> Deaths: 0.0 Confirmed: 1.0\", \"Australia, New South Wales-> Deaths: 0.0 Confirmed: 4.0\", \"China, Ningxia-> Deaths: 0.0 Confirmed: 12.0\", \"Canada, Ontario-> Deaths: 0.0 Confirmed: 2.0\", \"China, Qinghai-> Deaths: 0.0 Confirmed: 6.0\", \"Australia, Queensland-> Deaths: 0.0 Confirmed: 1.0\", \"China, Shaanxi-> Deaths: 0.0 Confirmed: 56.0\", \"China, Shandong-> Deaths: 0.0 Confirmed: 145.0\", \"China, Shanghai-> Deaths: 1.0 Confirmed: 101.0\", \"China, Shanxi-> Deaths: 0.0 Confirmed: 35.0\", \"China, Sichuan-> Deaths: 1.0 Confirmed: 142.0\", \"Singapore, Singapore-> Deaths: 0.0 Confirmed: 10.0\", \"South Korea, South Korea-> Deaths: 0.0 Confirmed: 4.0\", \"Sri Lanka, Sri Lanka-> Deaths: 0.0 Confirmed: 1.0\", \"Taiwan, Taiwan-> Deaths: 0.0 Confirmed: 8.0\", \"Thailand, Thailand-> Deaths: 0.0 Confirmed: 14.0\", \"China, Tianjin-> Deaths: 0.0 Confirmed: 27.0\", \"China, Tibet-> Deaths: 0.0 Confirmed: 1.0\", \"United Arab Emirates, United Arab Emirates-> Deaths: 0.0 Confirmed: 4.0\", \"Australia, Victoria-> Deaths: 0.0 Confirmed: 2.0\", \"Vietnam, Vietnam-> Deaths: 0.0 Confirmed: 2.0\", \"US, Washington-> Deaths: 0.0 Confirmed: 1.0\", \"China, Xinjiang-> Deaths: 0.0 Confirmed: 14.0\", \"China, Yunnan-> Deaths: 0.0 Confirmed: 55.0\", \"China, Zhejiang-> Deaths: 0.0 Confirmed: 428.0\"], \"type\": \"scattergeo\"}], \"layout\": {\"title\": {\"text\": \"Corona Virus spreading in Asia, 2020-01-29\", \"x\": 0.5, \"xanchor\": \"center\", \"y\": 0.98, \"yanchor\": \"top\"}}}, {\"data\": [{\"lat\": [32.0, 34.395342, 48.9467562, 39.906217, 55.001251, 36.7014631, 13.5066394, 30.05518, 63.2467777, 46.603354, 26.5450001, 38.0000001, 23.1357694, 24.0, 27.0, 19.2000001, 39.0000001, 48.0000047, 34.0000001, 22.2793278, 31.15172525, 27.9995878, 40.0796606, 22.3511148, 43.2443242, 42.6384261, 36.5748441, 33.0000001, 28.0, 42.9995032, 40.9975197, 22.1757605, 4.5693754, 28.1083929, -31.8759835, 37.0000001, 50.000678, 12.7503486, 35.40709525, -22.1646782, 36.0, 36.0000001, 31.2322758, 37.0, 30.5000001, 1.357107, 36.5581914, 7.5554942, 23.9739374, 14.8971921, 39.1235635, 31.894343149999997, 24.0002488, -36.5986096, 13.2904027, 38.8948932, 41.7574769, 25.0, 29.0000001], \"locationmode\": \"country names\", \"lon\": [117.0, -111.7632755, 11.4038717, 116.3912757, -125.002441, -118.7559974, 104.869423, 107.8748712, 25.9209164, 1.8883335, 117.842778, 101.9999999, 113.1982688, 109.0, 107.0, 109.5999999, 116.0, 127.999992, 113.9999999, 114.1628131, 112.87832224656043, 112.009538, -89.4337288, 78.6677428, 114.3251664, 12.674297, 139.2394179, 119.9999999, 116.0, 125.9816054, 122.9955469, 113.5514142, 102.2656823, 84.0917139, 147.2869493, 105.9999999, -86.000977, 122.7312101, 95.95211573241954, 144.5844903, 109.0, 118.9999999, 121.4692071, 112.0, 102.4999999, 103.8194992, 127.9408564, 80.7137847, 120.9820179, 100.83273, 117.1980785, 87.07813712706509, 53.9994829, 144.6780052, 108.4265113, -77.0365529, 87.16738423046897, 102.0, 119.9999999], \"marker\": {\"autocolorscale\": false, \"cmax\": 350.0, \"cmin\": 0, \"color\": [0.0, 0.0, 0.0, 1.0, 0.0, 0.0, 0.0, 0.0, 0.0, 0.0, 0.0, 0.0, 0.0, 0.0, 0.0, 1.0, 1.0, 2.0, 2.0, 0.0, 204.0, 0.0, 0.0, 0.0, 0.0, 0.0, 0.0, 0.0, 0.0, 0.0, 0.0, 0.0, 0.0, 0.0, 0.0, 0.0, 0.0, 0.0, 0.0, 0.0, 0.0, 0.0, 1.0, 0.0, 1.0, 0.0, 0.0, 0.0, 0.0, 0.0, 0.0, 0.0, 0.0, 0.0, 0.0, 0.0, 0.0, 0.0, 0.0], \"colorbar\": {\"title\": {\"text\": \"Number of Deaths\"}}, \"line\": {\"color\": \"rgba(0, 0, 0)\", \"width\": 0.5}, \"opacity\": 0.6, \"reversescale\": true, \"size\": [10.577682845233985, 4.0, 4.671033598060435, 8.90747631399984, 4.0, 4.29268464756894, 4.0, 10.19428866251348, 4.0, 4.815004806125491, 8.525114079844972, 6.480397821231865, 12.138735961471609, 8.228058805837552, 5.726398632195241, 7.258416635648482, 8.11469740720754, 7.527631944695398, 11.773319580552005, 5.510133141647044, 27.775848127009525, 11.58528755199164, 4.29268464756894, 4.0, 6.032934011676862, 4.29268464756894, 5.4305300479524705, 9.670964397559343, 10.613068179138615, 5.657613768320726, 7.09544342612729, 5.0558871595781, 5.160119477784612, 4.0, 4.671033598060435, 6.088238621134508, 4.29268464756894, 4.0, 5.160119477784612, 4.502144029037208, 8.228058805837552, 9.815361392350553, 9.031816721613545, 6.88403547398714, 9.801155291402312, 5.346228848142263, 4.94179852477375, 4.0, 5.256436683972135, 5.657613768320726, 6.6096322232028495, 4.0, 4.671033598060435, 4.29268464756894, 4.29268464756894, 4.0, 5.855760766039176, 7.9727614582939985, 13.258918680359471]}, \"mode\": \"markers\", \"text\": [\"China, Anhui-> Deaths: 0.0 Confirmed: 237.0\", \"US, Arizona-> Deaths: 0.0 Confirmed: 1.0\", \"Germany, Bavaria-> Deaths: 0.0 Confirmed: 4.0\", \"China, Beijing-> Deaths: 1.0 Confirmed: 121.0\", \"Canada, British Columbia-> Deaths: 0.0 Confirmed: 1.0\", \"US, California-> Deaths: 0.0 Confirmed: 2.0\", \"Cambodia, Cambodia-> Deaths: 0.0 Confirmed: 1.0\", \"China, Chongqing-> Deaths: 0.0 Confirmed: 206.0\", \"Finland, Finland-> Deaths: 0.0 Confirmed: 1.0\", \"France, France-> Deaths: 0.0 Confirmed: 5.0\", \"China, Fujian-> Deaths: 0.0 Confirmed: 101.0\", \"China, Gansu-> Deaths: 0.0 Confirmed: 29.0\", \"China, Guangdong-> Deaths: 0.0 Confirmed: 393.0\", \"China, Guangxi-> Deaths: 0.0 Confirmed: 87.0\", \"China, Guizhou-> Deaths: 0.0 Confirmed: 15.0\", \"China, Hainan-> Deaths: 1.0 Confirmed: 50.0\", \"China, Hebei-> Deaths: 1.0 Confirmed: 82.0\", \"China, Heilongjiang-> Deaths: 2.0 Confirmed: 59.0\", \"China, Henan-> Deaths: 2.0 Confirmed: 352.0\", \"Hong Kong, Hong Kong-> Deaths: 0.0 Confirmed: 12.0\", \"China, Hubei-> Deaths: 204.0 Confirmed: 5806.0\", \"China, Hunan-> Deaths: 0.0 Confirmed: 332.0\", \"US, Illinois-> Deaths: 0.0 Confirmed: 2.0\", \"India, India-> Deaths: 0.0 Confirmed: 1.0\", \"China, Inner Mongolia-> Deaths: 0.0 Confirmed: 20.0\", \"Italy, Italy-> Deaths: 0.0 Confirmed: 2.0\", \"Japan, Japan-> Deaths: 0.0 Confirmed: 11.0\", \"China, Jiangsu-> Deaths: 0.0 Confirmed: 168.0\", \"China, Jiangxi-> Deaths: 0.0 Confirmed: 240.0\", \"China, Jilin-> Deaths: 0.0 Confirmed: 14.0\", \"China, Liaoning-> Deaths: 0.0 Confirmed: 45.0\", \"Macau, Macau-> Deaths: 0.0 Confirmed: 7.0\", \"Malaysia, Malaysia-> Deaths: 0.0 Confirmed: 8.0\", \"Nepal, Nepal-> Deaths: 0.0 Confirmed: 1.0\", \"Australia, New South Wales-> Deaths: 0.0 Confirmed: 4.0\", \"China, Ningxia-> Deaths: 0.0 Confirmed: 21.0\", \"Canada, Ontario-> Deaths: 0.0 Confirmed: 2.0\", \"Philippines, Philippines-> Deaths: 0.0 Confirmed: 1.0\", \"China, Qinghai-> Deaths: 0.0 Confirmed: 8.0\", \"Australia, Queensland-> Deaths: 0.0 Confirmed: 3.0\", \"China, Shaanxi-> Deaths: 0.0 Confirmed: 87.0\", \"China, Shandong-> Deaths: 0.0 Confirmed: 178.0\", \"China, Shanghai-> Deaths: 1.0 Confirmed: 128.0\", \"China, Shanxi-> Deaths: 0.0 Confirmed: 39.0\", \"China, Sichuan-> Deaths: 1.0 Confirmed: 177.0\", \"Singapore, Singapore-> Deaths: 0.0 Confirmed: 10.0\", \"South Korea, South Korea-> Deaths: 0.0 Confirmed: 6.0\", \"Sri Lanka, Sri Lanka-> Deaths: 0.0 Confirmed: 1.0\", \"Taiwan, Taiwan-> Deaths: 0.0 Confirmed: 9.0\", \"Thailand, Thailand-> Deaths: 0.0 Confirmed: 14.0\", \"China, Tianjin-> Deaths: 0.0 Confirmed: 32.0\", \"China, Tibet-> Deaths: 0.0 Confirmed: 1.0\", \"United Arab Emirates, United Arab Emirates-> Deaths: 0.0 Confirmed: 4.0\", \"Australia, Victoria-> Deaths: 0.0 Confirmed: 2.0\", \"Vietnam, Vietnam-> Deaths: 0.0 Confirmed: 2.0\", \"US, Washington-> Deaths: 0.0 Confirmed: 1.0\", \"China, Xinjiang-> Deaths: 0.0 Confirmed: 17.0\", \"China, Yunnan-> Deaths: 0.0 Confirmed: 76.0\", \"China, Zhejiang-> Deaths: 0.0 Confirmed: 537.0\"], \"type\": \"scattergeo\"}], \"layout\": {\"title\": {\"text\": \"Corona Virus spreading in Asia, 2020-01-30\", \"x\": 0.5, \"xanchor\": \"center\", \"y\": 0.98, \"yanchor\": \"top\"}}}, {\"data\": [{\"lat\": [32.0, 34.395342, 48.9467562, 39.906217, 55.001251, 36.7014631, 13.5066394, 30.05518, 63.2467777, 46.603354, 26.5450001, 38.0000001, 23.1357694, 24.0, 27.0, 19.2000001, 39.0000001, 48.0000047, 34.0000001, 22.2793278, 31.15172525, 27.9995878, 40.0796606, 22.3511148, 43.2443242, 42.6384261, 36.5748441, 33.0000001, 28.0, 42.9995032, 40.9975197, 22.1757605, 4.5693754, 28.1083929, -31.8759835, 37.0000001, 50.000678, 12.7503486, 35.40709525, -22.1646782, 64.6863136, 36.0, 36.0000001, 31.2322758, 37.0, 30.5000001, 1.357107, 36.5581914, 39.3262345, 7.5554942, 59.6749712, 23.9739374, 14.8971921, 39.1235635, 31.894343149999997, 54.7023545, 24.0002488, -36.5986096, 13.2904027, 38.8948932, 41.7574769, 25.0, 29.0000001], \"locationmode\": \"country names\", \"lon\": [117.0, -111.7632755, 11.4038717, 116.3912757, -125.002441, -118.7559974, 104.869423, 107.8748712, 25.9209164, 1.8883335, 117.842778, 101.9999999, 113.1982688, 109.0, 107.0, 109.5999999, 116.0, 127.999992, 113.9999999, 114.1628131, 112.87832224656043, 112.009538, -89.4337288, 78.6677428, 114.3251664, 12.674297, 139.2394179, 119.9999999, 116.0, 125.9816054, 122.9955469, 113.5514142, 102.2656823, 84.0917139, 147.2869493, 105.9999999, -86.000977, 122.7312101, 95.95211573241954, 144.5844903, 97.7453061, 109.0, 118.9999999, 121.4692071, 112.0, 102.4999999, 103.8194992, 127.9408564, -4.8380649, 80.7137847, 14.5208584, 120.9820179, 100.83273, 117.1980785, 87.07813712706509, -3.2765753, 53.9994829, 144.6780052, 108.4265113, -77.0365529, 87.16738423046897, 102.0, 119.9999999], \"marker\": {\"autocolorscale\": false, \"cmax\": 350.0, \"cmin\": 0, \"color\": [0.0, 0.0, 0.0, 1.0, 0.0, 0.0, 0.0, 1.0, 0.0, 0.0, 0.0, 0.0, 0.0, 0.0, 0.0, 1.0, 1.0, 2.0, 2.0, 0.0, 249.0, 0.0, 0.0, 0.0, 0.0, 0.0, 0.0, 0.0, 0.0, 0.0, 0.0, 0.0, 0.0, 0.0, 0.0, 0.0, 0.0, 0.0, 0.0, 0.0, 0.0, 0.0, 0.0, 1.0, 0.0, 1.0, 0.0, 0.0, 0.0, 0.0, 0.0, 0.0, 0.0, 0.0, 0.0, 0.0, 0.0, 0.0, 0.0, 0.0, 0.0, 0.0, 0.0], \"colorbar\": {\"title\": {\"text\": \"Number of Deaths\"}}, \"line\": {\"color\": \"rgba(0, 0, 0)\", \"width\": 0.5}, \"opacity\": 0.6, \"reversescale\": true, \"size\": [10.577682845233985, 4.0, 5.0558871595781, 9.21883716430103, 4.0, 4.502144029037208, 4.0, 10.589509130855859, 4.0, 4.94179852477375, 8.889346789610265, 6.731445075485936, 12.497025161261432, 8.250235297922899, 6.480397821231865, 7.49905683093882, 8.422187491104461, 7.527631944695398, 11.773319580552005, 5.585661160918501, 29.76629323402198, 11.58528755199164, 4.29268464756894, 4.0, 6.032934011676862, 4.29268464756894, 5.855760766039176, 9.670964397559343, 10.613068179138615, 5.657613768320726, 7.555903716104263, 5.0558871595781, 5.160119477784612, 4.0, 4.671033598060435, 6.088238621134508, 4.29268464756894, 4.0, 5.160119477784612, 4.502144029037208, 4.29268464756894, 8.228058805837552, 9.899560321169895, 9.443843353139162, 7.161937009665921, 9.801155291402312, 5.792353285846804, 5.4305300479524705, 4.0, 4.0, 4.0, 5.346228848142263, 5.975859650018929, 6.6096322232028495, 4.0, 4.29268464756894, 4.671033598060435, 4.29268464756894, 4.29268464756894, 4.0, 5.855760766039176, 8.137710912549311, 13.258918680359471]}, \"mode\": \"markers\", \"text\": [\"China, Anhui-> Deaths: 0.0 Confirmed: 237.0\", \"US, Arizona-> Deaths: 0.0 Confirmed: 1.0\", \"Germany, Bavaria-> Deaths: 0.0 Confirmed: 7.0\", \"China, Beijing-> Deaths: 1.0 Confirmed: 139.0\", \"Canada, British Columbia-> Deaths: 0.0 Confirmed: 1.0\", \"US, California-> Deaths: 0.0 Confirmed: 3.0\", \"Cambodia, Cambodia-> Deaths: 0.0 Confirmed: 1.0\", \"China, Chongqing-> Deaths: 1.0 Confirmed: 238.0\", \"Finland, Finland-> Deaths: 0.0 Confirmed: 1.0\", \"France, France-> Deaths: 0.0 Confirmed: 6.0\", \"China, Fujian-> Deaths: 0.0 Confirmed: 120.0\", \"China, Gansu-> Deaths: 0.0 Confirmed: 35.0\", \"China, Guangdong-> Deaths: 0.0 Confirmed: 436.0\", \"China, Guangxi-> Deaths: 0.0 Confirmed: 88.0\", \"China, Guizhou-> Deaths: 0.0 Confirmed: 29.0\", \"China, Hainan-> Deaths: 1.0 Confirmed: 58.0\", \"China, Hebei-> Deaths: 1.0 Confirmed: 96.0\", \"China, Heilongjiang-> Deaths: 2.0 Confirmed: 59.0\", \"China, Henan-> Deaths: 2.0 Confirmed: 352.0\", \"Hong Kong, Hong Kong-> Deaths: 0.0 Confirmed: 13.0\", \"China, Hubei-> Deaths: 249.0 Confirmed: 7153.0\", \"China, Hunan-> Deaths: 0.0 Confirmed: 332.0\", \"US, Illinois-> Deaths: 0.0 Confirmed: 2.0\", \"India, India-> Deaths: 0.0 Confirmed: 1.0\", \"China, Inner Mongolia-> Deaths: 0.0 Confirmed: 20.0\", \"Italy, Italy-> Deaths: 0.0 Confirmed: 2.0\", \"Japan, Japan-> Deaths: 0.0 Confirmed: 17.0\", \"China, Jiangsu-> Deaths: 0.0 Confirmed: 168.0\", \"China, Jiangxi-> Deaths: 0.0 Confirmed: 240.0\", \"China, Jilin-> Deaths: 0.0 Confirmed: 14.0\", \"China, Liaoning-> Deaths: 0.0 Confirmed: 60.0\", \"Macau, Macau-> Deaths: 0.0 Confirmed: 7.0\", \"Malaysia, Malaysia-> Deaths: 0.0 Confirmed: 8.0\", \"Nepal, Nepal-> Deaths: 0.0 Confirmed: 1.0\", \"Australia, New South Wales-> Deaths: 0.0 Confirmed: 4.0\", \"China, Ningxia-> Deaths: 0.0 Confirmed: 21.0\", \"Canada, Ontario-> Deaths: 0.0 Confirmed: 2.0\", \"Philippines, Philippines-> Deaths: 0.0 Confirmed: 1.0\", \"China, Qinghai-> Deaths: 0.0 Confirmed: 8.0\", \"Australia, Queensland-> Deaths: 0.0 Confirmed: 3.0\", \"Russia, Russia-> Deaths: 0.0 Confirmed: 2.0\", \"China, Shaanxi-> Deaths: 0.0 Confirmed: 87.0\", \"China, Shandong-> Deaths: 0.0 Confirmed: 184.0\", \"China, Shanghai-> Deaths: 1.0 Confirmed: 153.0\", \"China, Shanxi-> Deaths: 0.0 Confirmed: 47.0\", \"China, Sichuan-> Deaths: 1.0 Confirmed: 177.0\", \"Singapore, Singapore-> Deaths: 0.0 Confirmed: 16.0\", \"South Korea, South Korea-> Deaths: 0.0 Confirmed: 11.0\", \"Spain, Spain-> Deaths: 0.0 Confirmed: 1.0\", \"Sri Lanka, Sri Lanka-> Deaths: 0.0 Confirmed: 1.0\", \"Sweden, Sweden-> Deaths: 0.0 Confirmed: 1.0\", \"Taiwan, Taiwan-> Deaths: 0.0 Confirmed: 10.0\", \"Thailand, Thailand-> Deaths: 0.0 Confirmed: 19.0\", \"China, Tianjin-> Deaths: 0.0 Confirmed: 32.0\", \"China, Tibet-> Deaths: 0.0 Confirmed: 1.0\", \"UK, UK-> Deaths: 0.0 Confirmed: 2.0\", \"United Arab Emirates, United Arab Emirates-> Deaths: 0.0 Confirmed: 4.0\", \"Australia, Victoria-> Deaths: 0.0 Confirmed: 2.0\", \"Vietnam, Vietnam-> Deaths: 0.0 Confirmed: 2.0\", \"US, Washington-> Deaths: 0.0 Confirmed: 1.0\", \"China, Xinjiang-> Deaths: 0.0 Confirmed: 17.0\", \"China, Yunnan-> Deaths: 0.0 Confirmed: 83.0\", \"China, Zhejiang-> Deaths: 0.0 Confirmed: 537.0\"], \"type\": \"scattergeo\"}], \"layout\": {\"title\": {\"text\": \"Corona Virus spreading in Asia, 2020-01-31\", \"x\": 0.5, \"xanchor\": \"center\", \"y\": 0.98, \"yanchor\": \"top\"}}}, {\"data\": [{\"lat\": [32.0, 39.906217, 42.3602534, 55.001251, 13.5066394, 41.8755616, 30.05518, 63.2467777, 46.603354, 26.5450001, 38.0000001, 23.1357694, 24.0, 27.0, 19.2000001, 39.0000001, 48.0000047, 34.0000001, 22.2793278, 31.15172525, 27.9995878, 22.3511148, 43.2443242, 42.6384261, 36.5748441, 33.0000001, 28.0, 42.9995032, 40.9975197, 34.0536909, 22.1757605, 4.5693754, 28.1083929, -31.8759835, 37.0000001, 50.000678, 29.7742659, 12.7503486, 35.40709525, -22.1646782, 64.6863136, 37.3541132, 47.6038321, 36.0, 36.0000001, 31.2322758, 37.0, 30.5000001, 1.357107, -30.5343665, 36.5581914, 39.3262345, 7.5554942, 59.6749712, 23.9739374, 33.4255056, 14.8971921, 39.1235635, 31.894343149999997, 54.7023545, 24.0002488, -36.5986096, 13.2904027, 41.7574769, 25.0, 29.0000001], \"locationmode\": \"country names\", \"lon\": [117.0, 116.3912757, -71.0582912, -125.002441, 104.869423, -87.6244212, 107.8748712, 25.9209164, 1.8883335, 117.842778, 101.9999999, 113.1982688, 109.0, 107.0, 109.5999999, 116.0, 127.999992, 113.9999999, 114.1628131, 112.87832224656043, 112.009538, 78.6677428, 114.3251664, 12.674297, 139.2394179, 119.9999999, 116.0, 125.9816054, 122.9955469, -118.2427666, 113.5514142, 102.2656823, 84.0917139, 147.2869493, 105.9999999, -86.000977, -95.3341066, 122.7312101, 95.95211573241954, 144.5844903, 97.7453061, -121.9551744, -122.3300624, 109.0, 118.9999999, 121.4692071, 112.0, 102.4999999, 103.8194992, 135.6301212, 127.9408564, -4.8380649, 80.7137847, 14.5208584, 120.9820179, -111.9400125, 100.83273, 117.1980785, 87.07813712706509, -3.2765753, 53.9994829, 144.6780052, 108.4265113, 87.16738423046897, 102.0, 119.9999999], \"marker\": {\"autocolorscale\": false, \"cmax\": 350.0, \"cmin\": 0, \"color\": [0.0, 1.0, 0.0, 0.0, 0.0, 0.0, 2.0, 0.0, 0.0, 0.0, 0.0, 0.0, 0.0, 0.0, 1.0, 1.0, 2.0, 2.0, 0.0, 350.0, 0.0, 0.0, 0.0, 0.0, 0.0, 0.0, 0.0, 0.0, 0.0, 0.0, 0.0, 0.0, 0.0, 0.0, 0.0, 0.0, 0.0, 1.0, 0.0, 0.0, 0.0, 0.0, 0.0, 0.0, 0.0, 1.0, 0.0, 1.0, 0.0, 0.0, 0.0, 0.0, 0.0, 0.0, 0.0, 0.0, 0.0, 0.0, 0.0, 0.0, 0.0, 0.0, 0.0, 0.0, 0.0, 0.0], \"colorbar\": {\"title\": {\"text\": \"Number of Deaths\"}}, \"line\": {\"color\": \"rgba(0, 0, 0)\", \"width\": 0.5}, \"opacity\": 0.6, \"reversescale\": true, \"size\": [12.266402734916461, 9.995635501635093, 4.0, 4.0, 4.0, 4.29268464756894, 11.26898714097422, 4.0, 4.94179852477375, 9.536304383316704, 7.2897639830644705, 14.214642812282642, 9.014320439199771, 7.128917772316606, 7.8489894617132165, 8.759694167055606, 8.401199567139276, 13.460721531990252, 5.726398632195241, 34.577643875457504, 13.144629578632946, 4.29268464756894, 6.389492891729259, 4.29268464756894, 6.032934011676862, 10.96342212402689, 12.121483265511438, 6.567435936849419, 7.823581762327395, 4.0, 5.160119477784612, 5.160119477784612, 4.0, 4.671033598060435, 6.435456517476041, 4.502144029037208, 4.0, 4.29268464756894, 5.4305300479524705, 4.29268464756894, 4.29268464756894, 4.29268464756894, 4.0, 8.815861693894782, 10.683012170568894, 10.022677210900873, 7.719599661532381, 10.77461969731363, 5.916861059582148, 4.29268464756894, 5.726398632195241, 4.0, 4.0, 4.0, 5.346228848142263, 4.0, 5.975859650018929, 7.194516815297205, 4.0, 4.29268464756894, 4.815004806125491, 4.671033598060435, 4.94179852477375, 6.244810575561126, 8.605167939821492, 14.459414586845678]}, \"mode\": \"markers\", \"text\": [\"China, Anhui-> Deaths: 0.0 Confirmed: 408.0\", \"China, Beijing-> Deaths: 1.0 Confirmed: 191.0\", \"US, Boston, MA-> Deaths: 0.0 Confirmed: 1.0\", \"Canada, British Columbia-> Deaths: 0.0 Confirmed: 1.0\", \"Cambodia, Cambodia-> Deaths: 0.0 Confirmed: 1.0\", \"US, Chicago, IL-> Deaths: 0.0 Confirmed: 2.0\", \"China, Chongqing-> Deaths: 2.0 Confirmed: 300.0\", \"Finland, Finland-> Deaths: 0.0 Confirmed: 1.0\", \"France, France-> Deaths: 0.0 Confirmed: 6.0\", \"China, Fujian-> Deaths: 0.0 Confirmed: 159.0\", \"China, Gansu-> Deaths: 0.0 Confirmed: 51.0\", \"China, Guangdong-> Deaths: 0.0 Confirmed: 683.0\", \"China, Guangxi-> Deaths: 0.0 Confirmed: 127.0\", \"China, Guizhou-> Deaths: 0.0 Confirmed: 46.0\", \"China, Hainan-> Deaths: 1.0 Confirmed: 71.0\", \"China, Hebei-> Deaths: 1.0 Confirmed: 113.0\", \"China, Heilongjiang-> Deaths: 2.0 Confirmed: 95.0\", \"China, Henan-> Deaths: 2.0 Confirmed: 566.0\", \"Hong Kong, Hong Kong-> Deaths: 0.0 Confirmed: 15.0\", \"China, Hubei-> Deaths: 350.0 Confirmed: 11177.0\", \"China, Hunan-> Deaths: 0.0 Confirmed: 521.0\", \"India, India-> Deaths: 0.0 Confirmed: 2.0\", \"China, Inner Mongolia-> Deaths: 0.0 Confirmed: 27.0\", \"Italy, Italy-> Deaths: 0.0 Confirmed: 2.0\", \"Japan, Japan-> Deaths: 0.0 Confirmed: 20.0\", \"China, Jiangsu-> Deaths: 0.0 Confirmed: 271.0\", \"China, Jiangxi-> Deaths: 0.0 Confirmed: 391.0\", \"China, Jilin-> Deaths: 0.0 Confirmed: 31.0\", \"China, Liaoning-> Deaths: 0.0 Confirmed: 70.0\", \"US, Los Angeles, CA-> Deaths: 0.0 Confirmed: 1.0\", \"Macau, Macau-> Deaths: 0.0 Confirmed: 8.0\", \"Malaysia, Malaysia-> Deaths: 0.0 Confirmed: 8.0\", \"Nepal, Nepal-> Deaths: 0.0 Confirmed: 1.0\", \"Australia, New South Wales-> Deaths: 0.0 Confirmed: 4.0\", \"China, Ningxia-> Deaths: 0.0 Confirmed: 28.0\", \"Canada, Ontario-> Deaths: 0.0 Confirmed: 3.0\", \"US, Orange, CA-> Deaths: 0.0 Confirmed: 1.0\", \"Philippines, Philippines-> Deaths: 1.0 Confirmed: 2.0\", \"China, Qinghai-> Deaths: 0.0 Confirmed: 11.0\", \"Australia, Queensland-> Deaths: 0.0 Confirmed: 2.0\", \"Russia, Russia-> Deaths: 0.0 Confirmed: 2.0\", \"US, Santa Clara, CA-> Deaths: 0.0 Confirmed: 2.0\", \"US, Seattle, WA-> Deaths: 0.0 Confirmed: 1.0\", \"China, Shaanxi-> Deaths: 0.0 Confirmed: 116.0\", \"China, Shandong-> Deaths: 0.0 Confirmed: 246.0\", \"China, Shanghai-> Deaths: 1.0 Confirmed: 193.0\", \"China, Shanxi-> Deaths: 0.0 Confirmed: 66.0\", \"China, Sichuan-> Deaths: 1.0 Confirmed: 254.0\", \"Singapore, Singapore-> Deaths: 0.0 Confirmed: 18.0\", \"Australia, South Australia-> Deaths: 0.0 Confirmed: 2.0\", \"South Korea, South Korea-> Deaths: 0.0 Confirmed: 15.0\", \"Spain, Spain-> Deaths: 0.0 Confirmed: 1.0\", \"Sri Lanka, Sri Lanka-> Deaths: 0.0 Confirmed: 1.0\", \"Sweden, Sweden-> Deaths: 0.0 Confirmed: 1.0\", \"Taiwan, Taiwan-> Deaths: 0.0 Confirmed: 10.0\", \"US, Tempe, AZ-> Deaths: 0.0 Confirmed: 1.0\", \"Thailand, Thailand-> Deaths: 0.0 Confirmed: 19.0\", \"China, Tianjin-> Deaths: 0.0 Confirmed: 48.0\", \"China, Tibet-> Deaths: 0.0 Confirmed: 1.0\", \"UK, UK-> Deaths: 0.0 Confirmed: 2.0\", \"United Arab Emirates, United Arab Emirates-> Deaths: 0.0 Confirmed: 5.0\", \"Australia, Victoria-> Deaths: 0.0 Confirmed: 4.0\", \"Vietnam, Vietnam-> Deaths: 0.0 Confirmed: 6.0\", \"China, Xinjiang-> Deaths: 0.0 Confirmed: 24.0\", \"China, Yunnan-> Deaths: 0.0 Confirmed: 105.0\", \"China, Zhejiang-> Deaths: 0.0 Confirmed: 724.0\"], \"type\": \"scattergeo\"}], \"layout\": {\"title\": {\"text\": \"Corona Virus spreading in Asia, 2020-02-02\", \"x\": 0.5, \"xanchor\": \"center\", \"y\": 0.98, \"yanchor\": \"top\"}}}]);\n",
       "                        }).then(function(){\n",
       "                            \n",
       "var gd = document.getElementById('855aa6ba-2a16-4811-86e3-17857b678a38');\n",
       "var x = new MutationObserver(function (mutations, observer) {{\n",
       "        var display = window.getComputedStyle(gd).display;\n",
       "        if (!display || display === 'none') {{\n",
       "            console.log([gd, 'removed!']);\n",
       "            Plotly.purge(gd);\n",
       "            observer.disconnect();\n",
       "        }}\n",
       "}});\n",
       "\n",
       "// Listen for the removal of the full notebook cells\n",
       "var notebookContainer = gd.closest('#notebook-container');\n",
       "if (notebookContainer) {{\n",
       "    x.observe(notebookContainer, {childList: true});\n",
       "}}\n",
       "\n",
       "// Listen for the clearing of the current output cell\n",
       "var outputEl = gd.closest('.output');\n",
       "if (outputEl) {{\n",
       "    x.observe(outputEl, {childList: true});\n",
       "}}\n",
       "\n",
       "                        })\n",
       "                };\n",
       "                });\n",
       "            </script>\n",
       "        </div>"
      ]
     },
     "metadata": {},
     "output_type": "display_data"
    }
   ],
   "source": [
    "dates = np.sort(df['Date'].unique())\n",
    "data = [go.Scattergeo(\n",
    "            locationmode='country names',\n",
    "            lon = df.loc[df['Date']==dt, 'lon'],\n",
    "            lat = df.loc[df['Date']==dt, 'lat'],\n",
    "            text = df.loc[df['Date']==dt, 'Country'] + ', ' + df.loc[df['Date']==dt, 'PS'] +   '-> Deaths: ' + df.loc[df['Date']==dt, 'Deaths'].astype(str) + ' Confirmed: ' + df.loc[df['Date']==dt,'Confirmed'].astype(str),\n",
    "            mode = 'markers',\n",
    "            marker = dict(\n",
    "                size = (df.loc[df['Date']==dt,'Confirmed'])**(1/2.7)+3,\n",
    "                opacity = 0.6,\n",
    "                reversescale = True,\n",
    "                autocolorscale = False,\n",
    "                line = dict(\n",
    "                    width=0.5,\n",
    "                    color='rgba(0, 0, 0)'\n",
    "                        ),\n",
    "                #colorscale='rdgy', #'jet',rdylbu, 'oryel', \n",
    "                cmin=0,\n",
    "                color=df.loc[df['Date']==dt,'Deaths'],\n",
    "                cmax=df['Deaths'].max(),\n",
    "                colorbar_title=\"Number of Deaths\"\n",
    "            )) \n",
    "        for dt in dates]\n",
    "\n",
    "\n",
    "fig = go.Figure(\n",
    "    data=data[0],\n",
    "    layout=go.Layout(\n",
    "        title = {'text': f'Corona Virus spreading in Asia, {dates[0]}',\n",
    "                                'y':0.98,\n",
    "                                'x':0.5,\n",
    "                                'xanchor': 'center',\n",
    "                                'yanchor': 'top'},\n",
    "        geo = dict(\n",
    "            scope='asia',\n",
    "            projection_type='robinson',\n",
    "            showland = True,\n",
    "            landcolor = \"rgb(252, 240, 220)\",\n",
    "            showcountries=True,\n",
    "            showocean=True,\n",
    "            oceancolor=\"rgb(219, 245, 255)\",\n",
    "            countrycolor = \"rgb(128, 128, 128)\",\n",
    "            lakecolor =\"rgb(219, 245, 255)\",\n",
    "            showrivers=True,\n",
    "            showlakes=True,\n",
    "            showcoastlines=True,\n",
    "            countrywidth = 1,\n",
    "            \n",
    "            ),\n",
    "     updatemenus=[dict(\n",
    "            type=\"buttons\",\n",
    "            buttons=[dict(label=\"Play\",\n",
    "                          method=\"animate\",\n",
    "                          args=[None])])]),\n",
    "    \n",
    "    frames=[go.Frame(data=dt, \n",
    "                     layout=go.Layout(\n",
    "                          title={'text': f'Corona Virus spreading in Asia, {date}',\n",
    "                                'y':0.98,\n",
    "                                'x':0.5,\n",
    "                                'xanchor': 'center',\n",
    "                                'yanchor': 'top'}\n",
    "                           ))\n",
    "            for dt,date in zip(data[1:],dates[1:])])\n",
    "\n",
    "fig.show()"
   ]
  },
  {
   "cell_type": "code",
   "execution_count": null,
   "metadata": {
    "_kg_hide-input": true
   },
   "outputs": [],
   "source": [
    "dates = np.sort(df['Date'].unique())\n",
    "data = [go.Scattergeo(\n",
    "            locationmode='country names',\n",
    "            lon = df.loc[df['Date']==dt, 'lon'],\n",
    "            lat = df.loc[df['Date']==dt, 'lat'],\n",
    "            text = df.loc[df['Date']==dt, 'Country'] + ', ' + df.loc[df['Date']==dt, 'PS'] +   '-> Deaths: ' + df.loc[df['Date']==dt, 'Deaths'].astype(str) + ' Confirmed: ' + df.loc[df['Date']==dt,'Confirmed'].astype(str),\n",
    "            mode = 'markers',\n",
    "            marker = dict(\n",
    "                size = (df.loc[df['Date']==dt,'Confirmed'])**(1/2.7)+3,\n",
    "                opacity = 0.6,\n",
    "                reversescale = True,\n",
    "                autocolorscale = False,\n",
    "                line = dict(\n",
    "                    width=0.5,\n",
    "                    color='rgba(0, 0, 0)'\n",
    "                        ),\n",
    "                #colorscale='rdgy', #'jet',rdylbu, 'oryel', \n",
    "                cmin=0,\n",
    "                color=df.loc[df['Date']==dt,'Deaths'],\n",
    "                cmax=df['Deaths'].max(),\n",
    "                colorbar_title=\"Number of Deaths\"\n",
    "            )) \n",
    "        for dt in dates]\n",
    "\n",
    "\n",
    "fig = go.Figure(\n",
    "    data=data[0],\n",
    "    layout=go.Layout(\n",
    "        title = {'text': f'Corona Virus, {dates[0]}',\n",
    "                                'y':0.98,\n",
    "                                'x':0.5,\n",
    "                                'xanchor': 'center',\n",
    "                                'yanchor': 'top'},\n",
    "        geo = dict(\n",
    "            scope='world',\n",
    "            projection_type='robinson',\n",
    "            showland = True,\n",
    "            landcolor = \"rgb(252, 240, 220)\",\n",
    "            showcountries=True,\n",
    "            showocean=True,\n",
    "            oceancolor=\"rgb(219, 245, 255)\",\n",
    "            countrycolor = \"rgb(128, 128, 128)\",\n",
    "            lakecolor =\"rgb(219, 245, 255)\",\n",
    "            showrivers=True,\n",
    "            showlakes=True,\n",
    "            showcoastlines=True,\n",
    "            countrywidth = 1,\n",
    "            \n",
    "            ),\n",
    "     updatemenus=[dict(\n",
    "            type=\"buttons\",\n",
    "            buttons=[dict(label=\"Play\",\n",
    "                          method=\"animate\",\n",
    "                          args=[None])])]),\n",
    "    \n",
    "    frames=[go.Frame(data=dt, \n",
    "                     layout=go.Layout(\n",
    "                          title={'text': f'Corona Virus, {date}',\n",
    "                                'y':0.98,\n",
    "                                'x':0.5,\n",
    "                                'xanchor': 'center',\n",
    "                                'yanchor': 'top'}\n",
    "                           ))\n",
    "            for dt,date in zip(data[1:],dates[1:])])\n",
    "\n",
    "fig.show()"
   ]
  },
  {
   "cell_type": "markdown",
   "metadata": {},
   "source": [
    "Lastly, let's see how number of confirmed, deaths and recovered evolve over time, in China and the rest of the world.\n",
    "\n",
    "**Take care**, y-scales are very different!"
   ]
  },
  {
   "cell_type": "code",
   "execution_count": 12,
   "metadata": {
    "_kg_hide-input": true
   },
   "outputs": [
    {
     "data": {
      "text/html": [
       "        <script type=\"text/javascript\">\n",
       "        window.PlotlyConfig = {MathJaxConfig: 'local'};\n",
       "        if (window.MathJax) {MathJax.Hub.Config({SVG: {font: \"STIX-Web\"}});}\n",
       "        if (typeof require !== 'undefined') {\n",
       "        require.undef(\"plotly\");\n",
       "        requirejs.config({\n",
       "            paths: {\n",
       "                'plotly': ['https://cdn.plot.ly/plotly-latest.min']\n",
       "            }\n",
       "        });\n",
       "        require(['plotly'], function(Plotly) {\n",
       "            window._Plotly = Plotly;\n",
       "        });\n",
       "        }\n",
       "        </script>\n",
       "        "
      ]
     },
     "metadata": {},
     "output_type": "display_data"
    },
    {
     "data": {
      "application/vnd.plotly.v1+json": {
       "config": {
        "plotlyServerURL": "https://plot.ly"
       },
       "data": [
        {
         "legendgroup": "21",
         "name": "Hubei, Confirmed",
         "type": "scatter",
         "x": [
          "2020-01-22",
          "2020-01-23",
          "2020-01-24",
          "2020-01-25",
          "2020-01-26",
          "2020-01-27",
          "2020-01-28",
          "2020-01-29",
          "2020-01-30",
          "2020-01-31",
          "2020-02-02"
         ],
         "xaxis": "x",
         "y": [
          444
         ],
         "yaxis": "y"
        },
        {
         "legendgroup": "21",
         "name": "Rest of China, Confirmed",
         "type": "scatter",
         "x": [
          "2020-01-22",
          "2020-01-23",
          "2020-01-24",
          "2020-01-25",
          "2020-01-26",
          "2020-01-27",
          "2020-01-28",
          "2020-01-29",
          "2020-01-30",
          "2020-01-31",
          "2020-02-02"
         ],
         "xaxis": "x",
         "y": [
          105
         ],
         "yaxis": "y"
        },
        {
         "legendgroup": "22",
         "name": "Rest of the World, Confirmed",
         "type": "scatter",
         "x": [
          "2020-01-22",
          "2020-01-23",
          "2020-01-24",
          "2020-01-25",
          "2020-01-26",
          "2020-01-27",
          "2020-01-28",
          "2020-01-29",
          "2020-01-30",
          "2020-01-31",
          "2020-02-02"
         ],
         "xaxis": "x2",
         "y": [
          6
         ],
         "yaxis": "y2"
        },
        {
         "legendgroup": "31",
         "name": "China, Deaths",
         "type": "scatter",
         "x": [
          "2020-01-22",
          "2020-01-23",
          "2020-01-24",
          "2020-01-25",
          "2020-01-26",
          "2020-01-27",
          "2020-01-28",
          "2020-01-29",
          "2020-01-30",
          "2020-01-31",
          "2020-02-02"
         ],
         "xaxis": "x3",
         "y": [
          0
         ],
         "yaxis": "y3"
        },
        {
         "legendgroup": "31",
         "name": "China, Recovered",
         "type": "scatter",
         "x": [
          "2020-01-22",
          "2020-01-23",
          "2020-01-24",
          "2020-01-25",
          "2020-01-26",
          "2020-01-27",
          "2020-01-28",
          "2020-01-29",
          "2020-01-30",
          "2020-01-31",
          "2020-02-02"
         ],
         "xaxis": "x3",
         "y": [
          0
         ],
         "yaxis": "y3"
        },
        {
         "legendgroup": "32",
         "name": "Rest of World, Deaths",
         "type": "scatter",
         "x": [
          "2020-01-22",
          "2020-01-23",
          "2020-01-24",
          "2020-01-25",
          "2020-01-26",
          "2020-01-27",
          "2020-01-28",
          "2020-01-29",
          "2020-01-30",
          "2020-01-31",
          "2020-02-02"
         ],
         "xaxis": "x4",
         "y": [
          0
         ],
         "yaxis": "y4"
        },
        {
         "legendgroup": "32",
         "name": "Rest of World, Recovered",
         "type": "scatter",
         "x": [
          "2020-01-22",
          "2020-01-23",
          "2020-01-24",
          "2020-01-25",
          "2020-01-26",
          "2020-01-27",
          "2020-01-28",
          "2020-01-29",
          "2020-01-30",
          "2020-01-31",
          "2020-02-02"
         ],
         "xaxis": "x4",
         "y": [
          0
         ],
         "yaxis": "y4"
        }
       ],
       "frames": [
        {
         "data": [
          {
           "legendgroup": "21",
           "name": "Hubei, Confirmed",
           "type": "scatter",
           "x": [
            "2020-01-22",
            "2020-01-23",
            "2020-01-24",
            "2020-01-25",
            "2020-01-26",
            "2020-01-27",
            "2020-01-28",
            "2020-01-29",
            "2020-01-30",
            "2020-01-31",
            "2020-02-02"
           ],
           "y": [
            444
           ]
          },
          {
           "legendgroup": "21",
           "name": "Rest of China, Confirmed",
           "type": "scatter",
           "x": [
            "2020-01-22",
            "2020-01-23",
            "2020-01-24",
            "2020-01-25",
            "2020-01-26",
            "2020-01-27",
            "2020-01-28",
            "2020-01-29",
            "2020-01-30",
            "2020-01-31",
            "2020-02-02"
           ],
           "y": [
            105
           ]
          },
          {
           "legendgroup": "22",
           "name": "Rest of the World, Confirmed",
           "type": "scatter",
           "x": [
            "2020-01-22",
            "2020-01-23",
            "2020-01-24",
            "2020-01-25",
            "2020-01-26",
            "2020-01-27",
            "2020-01-28",
            "2020-01-29",
            "2020-01-30",
            "2020-01-31",
            "2020-02-02"
           ],
           "y": [
            6
           ]
          },
          {
           "legendgroup": "31",
           "name": "China, Deaths",
           "type": "scatter",
           "x": [
            "2020-01-22",
            "2020-01-23",
            "2020-01-24",
            "2020-01-25",
            "2020-01-26",
            "2020-01-27",
            "2020-01-28",
            "2020-01-29",
            "2020-01-30",
            "2020-01-31",
            "2020-02-02"
           ],
           "y": [
            0
           ]
          },
          {
           "legendgroup": "31",
           "name": "China, Recovered",
           "type": "scatter",
           "x": [
            "2020-01-22",
            "2020-01-23",
            "2020-01-24",
            "2020-01-25",
            "2020-01-26",
            "2020-01-27",
            "2020-01-28",
            "2020-01-29",
            "2020-01-30",
            "2020-01-31",
            "2020-02-02"
           ],
           "y": [
            0
           ]
          },
          {
           "legendgroup": "32",
           "name": "Rest of World, Deaths",
           "type": "scatter",
           "x": [
            "2020-01-22",
            "2020-01-23",
            "2020-01-24",
            "2020-01-25",
            "2020-01-26",
            "2020-01-27",
            "2020-01-28",
            "2020-01-29",
            "2020-01-30",
            "2020-01-31",
            "2020-02-02"
           ],
           "y": [
            0
           ]
          },
          {
           "legendgroup": "32",
           "name": "Rest of World, Recovered",
           "type": "scatter",
           "x": [
            "2020-01-22",
            "2020-01-23",
            "2020-01-24",
            "2020-01-25",
            "2020-01-26",
            "2020-01-27",
            "2020-01-28",
            "2020-01-29",
            "2020-01-30",
            "2020-01-31",
            "2020-02-02"
           ],
           "y": [
            0
           ]
          }
         ],
         "name": "2020-01-22",
         "traces": [
          0,
          1,
          2,
          3,
          4,
          5,
          6,
          7
         ]
        },
        {
         "data": [
          {
           "legendgroup": "21",
           "name": "Hubei, Confirmed",
           "type": "scatter",
           "x": [
            "2020-01-22",
            "2020-01-23",
            "2020-01-24",
            "2020-01-25",
            "2020-01-26",
            "2020-01-27",
            "2020-01-28",
            "2020-01-29",
            "2020-01-30",
            "2020-01-31",
            "2020-02-02"
           ],
           "y": [
            444,
            444
           ]
          },
          {
           "legendgroup": "21",
           "name": "Rest of China, Confirmed",
           "type": "scatter",
           "x": [
            "2020-01-22",
            "2020-01-23",
            "2020-01-24",
            "2020-01-25",
            "2020-01-26",
            "2020-01-27",
            "2020-01-28",
            "2020-01-29",
            "2020-01-30",
            "2020-01-31",
            "2020-02-02"
           ],
           "y": [
            105,
            195
           ]
          },
          {
           "legendgroup": "22",
           "name": "Rest of the World, Confirmed",
           "type": "scatter",
           "x": [
            "2020-01-22",
            "2020-01-23",
            "2020-01-24",
            "2020-01-25",
            "2020-01-26",
            "2020-01-27",
            "2020-01-28",
            "2020-01-29",
            "2020-01-30",
            "2020-01-31",
            "2020-02-02"
           ],
           "y": [
            6,
            14
           ]
          },
          {
           "legendgroup": "31",
           "name": "China, Deaths",
           "type": "scatter",
           "x": [
            "2020-01-22",
            "2020-01-23",
            "2020-01-24",
            "2020-01-25",
            "2020-01-26",
            "2020-01-27",
            "2020-01-28",
            "2020-01-29",
            "2020-01-30",
            "2020-01-31",
            "2020-02-02"
           ],
           "y": [
            0,
            18
           ]
          },
          {
           "legendgroup": "31",
           "name": "China, Recovered",
           "type": "scatter",
           "x": [
            "2020-01-22",
            "2020-01-23",
            "2020-01-24",
            "2020-01-25",
            "2020-01-26",
            "2020-01-27",
            "2020-01-28",
            "2020-01-29",
            "2020-01-30",
            "2020-01-31",
            "2020-02-02"
           ],
           "y": [
            0,
            30
           ]
          },
          {
           "legendgroup": "32",
           "name": "Rest of World, Deaths",
           "type": "scatter",
           "x": [
            "2020-01-22",
            "2020-01-23",
            "2020-01-24",
            "2020-01-25",
            "2020-01-26",
            "2020-01-27",
            "2020-01-28",
            "2020-01-29",
            "2020-01-30",
            "2020-01-31",
            "2020-02-02"
           ],
           "y": [
            0,
            0
           ]
          },
          {
           "legendgroup": "32",
           "name": "Rest of World, Recovered",
           "type": "scatter",
           "x": [
            "2020-01-22",
            "2020-01-23",
            "2020-01-24",
            "2020-01-25",
            "2020-01-26",
            "2020-01-27",
            "2020-01-28",
            "2020-01-29",
            "2020-01-30",
            "2020-01-31",
            "2020-02-02"
           ],
           "y": [
            0,
            0
           ]
          }
         ],
         "name": "2020-01-23",
         "traces": [
          0,
          1,
          2,
          3,
          4,
          5,
          6,
          7
         ]
        },
        {
         "data": [
          {
           "legendgroup": "21",
           "name": "Hubei, Confirmed",
           "type": "scatter",
           "x": [
            "2020-01-22",
            "2020-01-23",
            "2020-01-24",
            "2020-01-25",
            "2020-01-26",
            "2020-01-27",
            "2020-01-28",
            "2020-01-29",
            "2020-01-30",
            "2020-01-31",
            "2020-02-02"
           ],
           "y": [
            444,
            444,
            549
           ]
          },
          {
           "legendgroup": "21",
           "name": "Rest of China, Confirmed",
           "type": "scatter",
           "x": [
            "2020-01-22",
            "2020-01-23",
            "2020-01-24",
            "2020-01-25",
            "2020-01-26",
            "2020-01-27",
            "2020-01-28",
            "2020-01-29",
            "2020-01-30",
            "2020-01-31",
            "2020-02-02"
           ],
           "y": [
            105,
            195,
            367
           ]
          },
          {
           "legendgroup": "22",
           "name": "Rest of the World, Confirmed",
           "type": "scatter",
           "x": [
            "2020-01-22",
            "2020-01-23",
            "2020-01-24",
            "2020-01-25",
            "2020-01-26",
            "2020-01-27",
            "2020-01-28",
            "2020-01-29",
            "2020-01-30",
            "2020-01-31",
            "2020-02-02"
           ],
           "y": [
            6,
            14,
            25
           ]
          },
          {
           "legendgroup": "31",
           "name": "China, Deaths",
           "type": "scatter",
           "x": [
            "2020-01-22",
            "2020-01-23",
            "2020-01-24",
            "2020-01-25",
            "2020-01-26",
            "2020-01-27",
            "2020-01-28",
            "2020-01-29",
            "2020-01-30",
            "2020-01-31",
            "2020-02-02"
           ],
           "y": [
            0,
            18,
            26
           ]
          },
          {
           "legendgroup": "31",
           "name": "China, Recovered",
           "type": "scatter",
           "x": [
            "2020-01-22",
            "2020-01-23",
            "2020-01-24",
            "2020-01-25",
            "2020-01-26",
            "2020-01-27",
            "2020-01-28",
            "2020-01-29",
            "2020-01-30",
            "2020-01-31",
            "2020-02-02"
           ],
           "y": [
            0,
            30,
            36
           ]
          },
          {
           "legendgroup": "32",
           "name": "Rest of World, Deaths",
           "type": "scatter",
           "x": [
            "2020-01-22",
            "2020-01-23",
            "2020-01-24",
            "2020-01-25",
            "2020-01-26",
            "2020-01-27",
            "2020-01-28",
            "2020-01-29",
            "2020-01-30",
            "2020-01-31",
            "2020-02-02"
           ],
           "y": [
            0,
            0,
            0
           ]
          },
          {
           "legendgroup": "32",
           "name": "Rest of World, Recovered",
           "type": "scatter",
           "x": [
            "2020-01-22",
            "2020-01-23",
            "2020-01-24",
            "2020-01-25",
            "2020-01-26",
            "2020-01-27",
            "2020-01-28",
            "2020-01-29",
            "2020-01-30",
            "2020-01-31",
            "2020-02-02"
           ],
           "y": [
            0,
            0,
            0
           ]
          }
         ],
         "name": "2020-01-24",
         "traces": [
          0,
          1,
          2,
          3,
          4,
          5,
          6,
          7
         ]
        },
        {
         "data": [
          {
           "legendgroup": "21",
           "name": "Hubei, Confirmed",
           "type": "scatter",
           "x": [
            "2020-01-22",
            "2020-01-23",
            "2020-01-24",
            "2020-01-25",
            "2020-01-26",
            "2020-01-27",
            "2020-01-28",
            "2020-01-29",
            "2020-01-30",
            "2020-01-31",
            "2020-02-02"
           ],
           "y": [
            444,
            444,
            549,
            1052
           ]
          },
          {
           "legendgroup": "21",
           "name": "Rest of China, Confirmed",
           "type": "scatter",
           "x": [
            "2020-01-22",
            "2020-01-23",
            "2020-01-24",
            "2020-01-25",
            "2020-01-26",
            "2020-01-27",
            "2020-01-28",
            "2020-01-29",
            "2020-01-30",
            "2020-01-31",
            "2020-02-02"
           ],
           "y": [
            105,
            195,
            367,
            927
           ]
          },
          {
           "legendgroup": "22",
           "name": "Rest of the World, Confirmed",
           "type": "scatter",
           "x": [
            "2020-01-22",
            "2020-01-23",
            "2020-01-24",
            "2020-01-25",
            "2020-01-26",
            "2020-01-27",
            "2020-01-28",
            "2020-01-29",
            "2020-01-30",
            "2020-01-31",
            "2020-02-02"
           ],
           "y": [
            6,
            14,
            25,
            36
           ]
          },
          {
           "legendgroup": "31",
           "name": "China, Deaths",
           "type": "scatter",
           "x": [
            "2020-01-22",
            "2020-01-23",
            "2020-01-24",
            "2020-01-25",
            "2020-01-26",
            "2020-01-27",
            "2020-01-28",
            "2020-01-29",
            "2020-01-30",
            "2020-01-31",
            "2020-02-02"
           ],
           "y": [
            0,
            18,
            26,
            56
           ]
          },
          {
           "legendgroup": "31",
           "name": "China, Recovered",
           "type": "scatter",
           "x": [
            "2020-01-22",
            "2020-01-23",
            "2020-01-24",
            "2020-01-25",
            "2020-01-26",
            "2020-01-27",
            "2020-01-28",
            "2020-01-29",
            "2020-01-30",
            "2020-01-31",
            "2020-02-02"
           ],
           "y": [
            0,
            30,
            36,
            49
           ]
          },
          {
           "legendgroup": "32",
           "name": "Rest of World, Deaths",
           "type": "scatter",
           "x": [
            "2020-01-22",
            "2020-01-23",
            "2020-01-24",
            "2020-01-25",
            "2020-01-26",
            "2020-01-27",
            "2020-01-28",
            "2020-01-29",
            "2020-01-30",
            "2020-01-31",
            "2020-02-02"
           ],
           "y": [
            0,
            0,
            0,
            0
           ]
          },
          {
           "legendgroup": "32",
           "name": "Rest of World, Recovered",
           "type": "scatter",
           "x": [
            "2020-01-22",
            "2020-01-23",
            "2020-01-24",
            "2020-01-25",
            "2020-01-26",
            "2020-01-27",
            "2020-01-28",
            "2020-01-29",
            "2020-01-30",
            "2020-01-31",
            "2020-02-02"
           ],
           "y": [
            0,
            0,
            0,
            0
           ]
          }
         ],
         "name": "2020-01-25",
         "traces": [
          0,
          1,
          2,
          3,
          4,
          5,
          6,
          7
         ]
        },
        {
         "data": [
          {
           "legendgroup": "21",
           "name": "Hubei, Confirmed",
           "type": "scatter",
           "x": [
            "2020-01-22",
            "2020-01-23",
            "2020-01-24",
            "2020-01-25",
            "2020-01-26",
            "2020-01-27",
            "2020-01-28",
            "2020-01-29",
            "2020-01-30",
            "2020-01-31",
            "2020-02-02"
           ],
           "y": [
            444,
            444,
            549,
            1052,
            1423
           ]
          },
          {
           "legendgroup": "21",
           "name": "Rest of China, Confirmed",
           "type": "scatter",
           "x": [
            "2020-01-22",
            "2020-01-23",
            "2020-01-24",
            "2020-01-25",
            "2020-01-26",
            "2020-01-27",
            "2020-01-28",
            "2020-01-29",
            "2020-01-30",
            "2020-01-31",
            "2020-02-02"
           ],
           "y": [
            105,
            195,
            367,
            927,
            1314
           ]
          },
          {
           "legendgroup": "22",
           "name": "Rest of the World, Confirmed",
           "type": "scatter",
           "x": [
            "2020-01-22",
            "2020-01-23",
            "2020-01-24",
            "2020-01-25",
            "2020-01-26",
            "2020-01-27",
            "2020-01-28",
            "2020-01-29",
            "2020-01-30",
            "2020-01-31",
            "2020-02-02"
           ],
           "y": [
            6,
            14,
            25,
            36,
            53
           ]
          },
          {
           "legendgroup": "31",
           "name": "China, Deaths",
           "type": "scatter",
           "x": [
            "2020-01-22",
            "2020-01-23",
            "2020-01-24",
            "2020-01-25",
            "2020-01-26",
            "2020-01-27",
            "2020-01-28",
            "2020-01-29",
            "2020-01-30",
            "2020-01-31",
            "2020-02-02"
           ],
           "y": [
            0,
            18,
            26,
            56,
            80
           ]
          },
          {
           "legendgroup": "31",
           "name": "China, Recovered",
           "type": "scatter",
           "x": [
            "2020-01-22",
            "2020-01-23",
            "2020-01-24",
            "2020-01-25",
            "2020-01-26",
            "2020-01-27",
            "2020-01-28",
            "2020-01-29",
            "2020-01-30",
            "2020-01-31",
            "2020-02-02"
           ],
           "y": [
            0,
            30,
            36,
            49,
            51
           ]
          },
          {
           "legendgroup": "32",
           "name": "Rest of World, Deaths",
           "type": "scatter",
           "x": [
            "2020-01-22",
            "2020-01-23",
            "2020-01-24",
            "2020-01-25",
            "2020-01-26",
            "2020-01-27",
            "2020-01-28",
            "2020-01-29",
            "2020-01-30",
            "2020-01-31",
            "2020-02-02"
           ],
           "y": [
            0,
            0,
            0,
            0,
            0
           ]
          },
          {
           "legendgroup": "32",
           "name": "Rest of World, Recovered",
           "type": "scatter",
           "x": [
            "2020-01-22",
            "2020-01-23",
            "2020-01-24",
            "2020-01-25",
            "2020-01-26",
            "2020-01-27",
            "2020-01-28",
            "2020-01-29",
            "2020-01-30",
            "2020-01-31",
            "2020-02-02"
           ],
           "y": [
            0,
            0,
            0,
            0,
            3
           ]
          }
         ],
         "name": "2020-01-26",
         "traces": [
          0,
          1,
          2,
          3,
          4,
          5,
          6,
          7
         ]
        },
        {
         "data": [
          {
           "legendgroup": "21",
           "name": "Hubei, Confirmed",
           "type": "scatter",
           "x": [
            "2020-01-22",
            "2020-01-23",
            "2020-01-24",
            "2020-01-25",
            "2020-01-26",
            "2020-01-27",
            "2020-01-28",
            "2020-01-29",
            "2020-01-30",
            "2020-01-31",
            "2020-02-02"
           ],
           "y": [
            444,
            444,
            549,
            1052,
            1423,
            2714
           ]
          },
          {
           "legendgroup": "21",
           "name": "Rest of China, Confirmed",
           "type": "scatter",
           "x": [
            "2020-01-22",
            "2020-01-23",
            "2020-01-24",
            "2020-01-25",
            "2020-01-26",
            "2020-01-27",
            "2020-01-28",
            "2020-01-29",
            "2020-01-30",
            "2020-01-31",
            "2020-02-02"
           ],
           "y": [
            105,
            195,
            367,
            927,
            1314,
            1695
           ]
          },
          {
           "legendgroup": "22",
           "name": "Rest of the World, Confirmed",
           "type": "scatter",
           "x": [
            "2020-01-22",
            "2020-01-23",
            "2020-01-24",
            "2020-01-25",
            "2020-01-26",
            "2020-01-27",
            "2020-01-28",
            "2020-01-29",
            "2020-01-30",
            "2020-01-31",
            "2020-02-02"
           ],
           "y": [
            6,
            14,
            25,
            36,
            53,
            64
           ]
          },
          {
           "legendgroup": "31",
           "name": "China, Deaths",
           "type": "scatter",
           "x": [
            "2020-01-22",
            "2020-01-23",
            "2020-01-24",
            "2020-01-25",
            "2020-01-26",
            "2020-01-27",
            "2020-01-28",
            "2020-01-29",
            "2020-01-30",
            "2020-01-31",
            "2020-02-02"
           ],
           "y": [
            0,
            18,
            26,
            56,
            80,
            107
           ]
          },
          {
           "legendgroup": "31",
           "name": "China, Recovered",
           "type": "scatter",
           "x": [
            "2020-01-22",
            "2020-01-23",
            "2020-01-24",
            "2020-01-25",
            "2020-01-26",
            "2020-01-27",
            "2020-01-28",
            "2020-01-29",
            "2020-01-30",
            "2020-01-31",
            "2020-02-02"
           ],
           "y": [
            0,
            30,
            36,
            49,
            51,
            60
           ]
          },
          {
           "legendgroup": "32",
           "name": "Rest of World, Deaths",
           "type": "scatter",
           "x": [
            "2020-01-22",
            "2020-01-23",
            "2020-01-24",
            "2020-01-25",
            "2020-01-26",
            "2020-01-27",
            "2020-01-28",
            "2020-01-29",
            "2020-01-30",
            "2020-01-31",
            "2020-02-02"
           ],
           "y": [
            0,
            0,
            0,
            0,
            0,
            0
           ]
          },
          {
           "legendgroup": "32",
           "name": "Rest of World, Recovered",
           "type": "scatter",
           "x": [
            "2020-01-22",
            "2020-01-23",
            "2020-01-24",
            "2020-01-25",
            "2020-01-26",
            "2020-01-27",
            "2020-01-28",
            "2020-01-29",
            "2020-01-30",
            "2020-01-31",
            "2020-02-02"
           ],
           "y": [
            0,
            0,
            0,
            0,
            3,
            3
           ]
          }
         ],
         "name": "2020-01-27",
         "traces": [
          0,
          1,
          2,
          3,
          4,
          5,
          6,
          7
         ]
        },
        {
         "data": [
          {
           "legendgroup": "21",
           "name": "Hubei, Confirmed",
           "type": "scatter",
           "x": [
            "2020-01-22",
            "2020-01-23",
            "2020-01-24",
            "2020-01-25",
            "2020-01-26",
            "2020-01-27",
            "2020-01-28",
            "2020-01-29",
            "2020-01-30",
            "2020-01-31",
            "2020-02-02"
           ],
           "y": [
            444,
            444,
            549,
            1052,
            1423,
            2714,
            3554
           ]
          },
          {
           "legendgroup": "21",
           "name": "Rest of China, Confirmed",
           "type": "scatter",
           "x": [
            "2020-01-22",
            "2020-01-23",
            "2020-01-24",
            "2020-01-25",
            "2020-01-26",
            "2020-01-27",
            "2020-01-28",
            "2020-01-29",
            "2020-01-30",
            "2020-01-31",
            "2020-02-02"
           ],
           "y": [
            105,
            195,
            367,
            927,
            1314,
            1695,
            2416
           ]
          },
          {
           "legendgroup": "22",
           "name": "Rest of the World, Confirmed",
           "type": "scatter",
           "x": [
            "2020-01-22",
            "2020-01-23",
            "2020-01-24",
            "2020-01-25",
            "2020-01-26",
            "2020-01-27",
            "2020-01-28",
            "2020-01-29",
            "2020-01-30",
            "2020-01-31",
            "2020-02-02"
           ],
           "y": [
            6,
            14,
            25,
            36,
            53,
            64,
            87
           ]
          },
          {
           "legendgroup": "31",
           "name": "China, Deaths",
           "type": "scatter",
           "x": [
            "2020-01-22",
            "2020-01-23",
            "2020-01-24",
            "2020-01-25",
            "2020-01-26",
            "2020-01-27",
            "2020-01-28",
            "2020-01-29",
            "2020-01-30",
            "2020-01-31",
            "2020-02-02"
           ],
           "y": [
            0,
            18,
            26,
            56,
            80,
            107,
            132
           ]
          },
          {
           "legendgroup": "31",
           "name": "China, Recovered",
           "type": "scatter",
           "x": [
            "2020-01-22",
            "2020-01-23",
            "2020-01-24",
            "2020-01-25",
            "2020-01-26",
            "2020-01-27",
            "2020-01-28",
            "2020-01-29",
            "2020-01-30",
            "2020-01-31",
            "2020-02-02"
           ],
           "y": [
            0,
            30,
            36,
            49,
            51,
            60,
            104
           ]
          },
          {
           "legendgroup": "32",
           "name": "Rest of World, Deaths",
           "type": "scatter",
           "x": [
            "2020-01-22",
            "2020-01-23",
            "2020-01-24",
            "2020-01-25",
            "2020-01-26",
            "2020-01-27",
            "2020-01-28",
            "2020-01-29",
            "2020-01-30",
            "2020-01-31",
            "2020-02-02"
           ],
           "y": [
            0,
            0,
            0,
            0,
            0,
            0,
            0
           ]
          },
          {
           "legendgroup": "32",
           "name": "Rest of World, Recovered",
           "type": "scatter",
           "x": [
            "2020-01-22",
            "2020-01-23",
            "2020-01-24",
            "2020-01-25",
            "2020-01-26",
            "2020-01-27",
            "2020-01-28",
            "2020-01-29",
            "2020-01-30",
            "2020-01-31",
            "2020-02-02"
           ],
           "y": [
            0,
            0,
            0,
            0,
            3,
            3,
            6
           ]
          }
         ],
         "name": "2020-01-28",
         "traces": [
          0,
          1,
          2,
          3,
          4,
          5,
          6,
          7
         ]
        },
        {
         "data": [
          {
           "legendgroup": "21",
           "name": "Hubei, Confirmed",
           "type": "scatter",
           "x": [
            "2020-01-22",
            "2020-01-23",
            "2020-01-24",
            "2020-01-25",
            "2020-01-26",
            "2020-01-27",
            "2020-01-28",
            "2020-01-29",
            "2020-01-30",
            "2020-01-31",
            "2020-02-02"
           ],
           "y": [
            444,
            444,
            549,
            1052,
            1423,
            2714,
            3554,
            4586
           ]
          },
          {
           "legendgroup": "21",
           "name": "Rest of China, Confirmed",
           "type": "scatter",
           "x": [
            "2020-01-22",
            "2020-01-23",
            "2020-01-24",
            "2020-01-25",
            "2020-01-26",
            "2020-01-27",
            "2020-01-28",
            "2020-01-29",
            "2020-01-30",
            "2020-01-31",
            "2020-02-02"
           ],
           "y": [
            105,
            195,
            367,
            927,
            1314,
            1695,
            2416,
            3092
           ]
          },
          {
           "legendgroup": "22",
           "name": "Rest of the World, Confirmed",
           "type": "scatter",
           "x": [
            "2020-01-22",
            "2020-01-23",
            "2020-01-24",
            "2020-01-25",
            "2020-01-26",
            "2020-01-27",
            "2020-01-28",
            "2020-01-29",
            "2020-01-30",
            "2020-01-31",
            "2020-02-02"
           ],
           "y": [
            6,
            14,
            25,
            36,
            53,
            64,
            87,
            105
           ]
          },
          {
           "legendgroup": "31",
           "name": "China, Deaths",
           "type": "scatter",
           "x": [
            "2020-01-22",
            "2020-01-23",
            "2020-01-24",
            "2020-01-25",
            "2020-01-26",
            "2020-01-27",
            "2020-01-28",
            "2020-01-29",
            "2020-01-30",
            "2020-01-31",
            "2020-02-02"
           ],
           "y": [
            0,
            18,
            26,
            56,
            80,
            107,
            132,
            170
           ]
          },
          {
           "legendgroup": "31",
           "name": "China, Recovered",
           "type": "scatter",
           "x": [
            "2020-01-22",
            "2020-01-23",
            "2020-01-24",
            "2020-01-25",
            "2020-01-26",
            "2020-01-27",
            "2020-01-28",
            "2020-01-29",
            "2020-01-30",
            "2020-01-31",
            "2020-02-02"
           ],
           "y": [
            0,
            30,
            36,
            49,
            51,
            60,
            104,
            127
           ]
          },
          {
           "legendgroup": "32",
           "name": "Rest of World, Deaths",
           "type": "scatter",
           "x": [
            "2020-01-22",
            "2020-01-23",
            "2020-01-24",
            "2020-01-25",
            "2020-01-26",
            "2020-01-27",
            "2020-01-28",
            "2020-01-29",
            "2020-01-30",
            "2020-01-31",
            "2020-02-02"
           ],
           "y": [
            0,
            0,
            0,
            0,
            0,
            0,
            0,
            0
           ]
          },
          {
           "legendgroup": "32",
           "name": "Rest of World, Recovered",
           "type": "scatter",
           "x": [
            "2020-01-22",
            "2020-01-23",
            "2020-01-24",
            "2020-01-25",
            "2020-01-26",
            "2020-01-27",
            "2020-01-28",
            "2020-01-29",
            "2020-01-30",
            "2020-01-31",
            "2020-02-02"
           ],
           "y": [
            0,
            0,
            0,
            0,
            3,
            3,
            6,
            6
           ]
          }
         ],
         "name": "2020-01-29",
         "traces": [
          0,
          1,
          2,
          3,
          4,
          5,
          6,
          7
         ]
        },
        {
         "data": [
          {
           "legendgroup": "21",
           "name": "Hubei, Confirmed",
           "type": "scatter",
           "x": [
            "2020-01-22",
            "2020-01-23",
            "2020-01-24",
            "2020-01-25",
            "2020-01-26",
            "2020-01-27",
            "2020-01-28",
            "2020-01-29",
            "2020-01-30",
            "2020-01-31",
            "2020-02-02"
           ],
           "y": [
            444,
            444,
            549,
            1052,
            1423,
            2714,
            3554,
            4586,
            5806
           ]
          },
          {
           "legendgroup": "21",
           "name": "Rest of China, Confirmed",
           "type": "scatter",
           "x": [
            "2020-01-22",
            "2020-01-23",
            "2020-01-24",
            "2020-01-25",
            "2020-01-26",
            "2020-01-27",
            "2020-01-28",
            "2020-01-29",
            "2020-01-30",
            "2020-01-31",
            "2020-02-02"
           ],
           "y": [
            105,
            195,
            367,
            927,
            1314,
            1695,
            2416,
            3092,
            3852
           ]
          },
          {
           "legendgroup": "22",
           "name": "Rest of the World, Confirmed",
           "type": "scatter",
           "x": [
            "2020-01-22",
            "2020-01-23",
            "2020-01-24",
            "2020-01-25",
            "2020-01-26",
            "2020-01-27",
            "2020-01-28",
            "2020-01-29",
            "2020-01-30",
            "2020-01-31",
            "2020-02-02"
           ],
           "y": [
            6,
            14,
            25,
            36,
            53,
            64,
            87,
            105,
            118
           ]
          },
          {
           "legendgroup": "31",
           "name": "China, Deaths",
           "type": "scatter",
           "x": [
            "2020-01-22",
            "2020-01-23",
            "2020-01-24",
            "2020-01-25",
            "2020-01-26",
            "2020-01-27",
            "2020-01-28",
            "2020-01-29",
            "2020-01-30",
            "2020-01-31",
            "2020-02-02"
           ],
           "y": [
            0,
            18,
            26,
            56,
            80,
            107,
            132,
            170,
            213
           ]
          },
          {
           "legendgroup": "31",
           "name": "China, Recovered",
           "type": "scatter",
           "x": [
            "2020-01-22",
            "2020-01-23",
            "2020-01-24",
            "2020-01-25",
            "2020-01-26",
            "2020-01-27",
            "2020-01-28",
            "2020-01-29",
            "2020-01-30",
            "2020-01-31",
            "2020-02-02"
           ],
           "y": [
            0,
            30,
            36,
            49,
            51,
            60,
            104,
            127,
            179
           ]
          },
          {
           "legendgroup": "32",
           "name": "Rest of World, Deaths",
           "type": "scatter",
           "x": [
            "2020-01-22",
            "2020-01-23",
            "2020-01-24",
            "2020-01-25",
            "2020-01-26",
            "2020-01-27",
            "2020-01-28",
            "2020-01-29",
            "2020-01-30",
            "2020-01-31",
            "2020-02-02"
           ],
           "y": [
            0,
            0,
            0,
            0,
            0,
            0,
            0,
            0,
            0
           ]
          },
          {
           "legendgroup": "32",
           "name": "Rest of World, Recovered",
           "type": "scatter",
           "x": [
            "2020-01-22",
            "2020-01-23",
            "2020-01-24",
            "2020-01-25",
            "2020-01-26",
            "2020-01-27",
            "2020-01-28",
            "2020-01-29",
            "2020-01-30",
            "2020-01-31",
            "2020-02-02"
           ],
           "y": [
            0,
            0,
            0,
            0,
            3,
            3,
            6,
            6,
            8
           ]
          }
         ],
         "name": "2020-01-30",
         "traces": [
          0,
          1,
          2,
          3,
          4,
          5,
          6,
          7
         ]
        },
        {
         "data": [
          {
           "legendgroup": "21",
           "name": "Hubei, Confirmed",
           "type": "scatter",
           "x": [
            "2020-01-22",
            "2020-01-23",
            "2020-01-24",
            "2020-01-25",
            "2020-01-26",
            "2020-01-27",
            "2020-01-28",
            "2020-01-29",
            "2020-01-30",
            "2020-01-31",
            "2020-02-02"
           ],
           "y": [
            444,
            444,
            549,
            1052,
            1423,
            2714,
            3554,
            4586,
            5806,
            7153
           ]
          },
          {
           "legendgroup": "21",
           "name": "Rest of China, Confirmed",
           "type": "scatter",
           "x": [
            "2020-01-22",
            "2020-01-23",
            "2020-01-24",
            "2020-01-25",
            "2020-01-26",
            "2020-01-27",
            "2020-01-28",
            "2020-01-29",
            "2020-01-30",
            "2020-01-31",
            "2020-02-02"
           ],
           "y": [
            105,
            195,
            367,
            927,
            1314,
            1695,
            2416,
            3092,
            3852,
            4068
           ]
          },
          {
           "legendgroup": "22",
           "name": "Rest of the World, Confirmed",
           "type": "scatter",
           "x": [
            "2020-01-22",
            "2020-01-23",
            "2020-01-24",
            "2020-01-25",
            "2020-01-26",
            "2020-01-27",
            "2020-01-28",
            "2020-01-29",
            "2020-01-30",
            "2020-01-31",
            "2020-02-02"
           ],
           "y": [
            6,
            14,
            25,
            36,
            53,
            64,
            87,
            105,
            118,
            153
           ]
          },
          {
           "legendgroup": "31",
           "name": "China, Deaths",
           "type": "scatter",
           "x": [
            "2020-01-22",
            "2020-01-23",
            "2020-01-24",
            "2020-01-25",
            "2020-01-26",
            "2020-01-27",
            "2020-01-28",
            "2020-01-29",
            "2020-01-30",
            "2020-01-31",
            "2020-02-02"
           ],
           "y": [
            0,
            18,
            26,
            56,
            80,
            107,
            132,
            170,
            213,
            259
           ]
          },
          {
           "legendgroup": "31",
           "name": "China, Recovered",
           "type": "scatter",
           "x": [
            "2020-01-22",
            "2020-01-23",
            "2020-01-24",
            "2020-01-25",
            "2020-01-26",
            "2020-01-27",
            "2020-01-28",
            "2020-01-29",
            "2020-01-30",
            "2020-01-31",
            "2020-02-02"
           ],
           "y": [
            0,
            30,
            36,
            49,
            51,
            60,
            104,
            127,
            179,
            242
           ]
          },
          {
           "legendgroup": "32",
           "name": "Rest of World, Deaths",
           "type": "scatter",
           "x": [
            "2020-01-22",
            "2020-01-23",
            "2020-01-24",
            "2020-01-25",
            "2020-01-26",
            "2020-01-27",
            "2020-01-28",
            "2020-01-29",
            "2020-01-30",
            "2020-01-31",
            "2020-02-02"
           ],
           "y": [
            0,
            0,
            0,
            0,
            0,
            0,
            0,
            0,
            0,
            0
           ]
          },
          {
           "legendgroup": "32",
           "name": "Rest of World, Recovered",
           "type": "scatter",
           "x": [
            "2020-01-22",
            "2020-01-23",
            "2020-01-24",
            "2020-01-25",
            "2020-01-26",
            "2020-01-27",
            "2020-01-28",
            "2020-01-29",
            "2020-01-30",
            "2020-01-31",
            "2020-02-02"
           ],
           "y": [
            0,
            0,
            0,
            0,
            3,
            3,
            6,
            6,
            8,
            10
           ]
          }
         ],
         "name": "2020-01-31",
         "traces": [
          0,
          1,
          2,
          3,
          4,
          5,
          6,
          7
         ]
        },
        {
         "data": [
          {
           "legendgroup": "21",
           "name": "Hubei, Confirmed",
           "type": "scatter",
           "x": [
            "2020-01-22",
            "2020-01-23",
            "2020-01-24",
            "2020-01-25",
            "2020-01-26",
            "2020-01-27",
            "2020-01-28",
            "2020-01-29",
            "2020-01-30",
            "2020-01-31",
            "2020-02-02"
           ],
           "y": [
            444,
            444,
            549,
            1052,
            1423,
            2714,
            3554,
            4586,
            5806,
            7153,
            11177
           ]
          },
          {
           "legendgroup": "21",
           "name": "Rest of China, Confirmed",
           "type": "scatter",
           "x": [
            "2020-01-22",
            "2020-01-23",
            "2020-01-24",
            "2020-01-25",
            "2020-01-26",
            "2020-01-27",
            "2020-01-28",
            "2020-01-29",
            "2020-01-30",
            "2020-01-31",
            "2020-02-02"
           ],
           "y": [
            105,
            195,
            367,
            927,
            1314,
            1695,
            2416,
            3092,
            3852,
            4068,
            5937
           ]
          },
          {
           "legendgroup": "22",
           "name": "Rest of the World, Confirmed",
           "type": "scatter",
           "x": [
            "2020-01-22",
            "2020-01-23",
            "2020-01-24",
            "2020-01-25",
            "2020-01-26",
            "2020-01-27",
            "2020-01-28",
            "2020-01-29",
            "2020-01-30",
            "2020-01-31",
            "2020-02-02"
           ],
           "y": [
            6,
            14,
            25,
            36,
            53,
            64,
            87,
            105,
            118,
            153,
            171
           ]
          },
          {
           "legendgroup": "31",
           "name": "China, Deaths",
           "type": "scatter",
           "x": [
            "2020-01-22",
            "2020-01-23",
            "2020-01-24",
            "2020-01-25",
            "2020-01-26",
            "2020-01-27",
            "2020-01-28",
            "2020-01-29",
            "2020-01-30",
            "2020-01-31",
            "2020-02-02"
           ],
           "y": [
            0,
            18,
            26,
            56,
            80,
            107,
            132,
            170,
            213,
            259,
            361
           ]
          },
          {
           "legendgroup": "31",
           "name": "China, Recovered",
           "type": "scatter",
           "x": [
            "2020-01-22",
            "2020-01-23",
            "2020-01-24",
            "2020-01-25",
            "2020-01-26",
            "2020-01-27",
            "2020-01-28",
            "2020-01-29",
            "2020-01-30",
            "2020-01-31",
            "2020-02-02"
           ],
           "y": [
            0,
            30,
            36,
            49,
            51,
            60,
            104,
            127,
            179,
            242,
            478
           ]
          },
          {
           "legendgroup": "32",
           "name": "Rest of World, Deaths",
           "type": "scatter",
           "x": [
            "2020-01-22",
            "2020-01-23",
            "2020-01-24",
            "2020-01-25",
            "2020-01-26",
            "2020-01-27",
            "2020-01-28",
            "2020-01-29",
            "2020-01-30",
            "2020-01-31",
            "2020-02-02"
           ],
           "y": [
            0,
            0,
            0,
            0,
            0,
            0,
            0,
            0,
            0,
            0,
            1
           ]
          },
          {
           "legendgroup": "32",
           "name": "Rest of World, Recovered",
           "type": "scatter",
           "x": [
            "2020-01-22",
            "2020-01-23",
            "2020-01-24",
            "2020-01-25",
            "2020-01-26",
            "2020-01-27",
            "2020-01-28",
            "2020-01-29",
            "2020-01-30",
            "2020-01-31",
            "2020-02-02"
           ],
           "y": [
            0,
            0,
            0,
            0,
            3,
            3,
            6,
            6,
            8,
            10,
            9
           ]
          }
         ],
         "name": "2020-02-02",
         "traces": [
          0,
          1,
          2,
          3,
          4,
          5,
          6,
          7
         ]
        }
       ],
       "layout": {
        "annotations": [
         {
          "font": {
           "size": 16
          },
          "showarrow": false,
          "text": "China, Confirmed",
          "x": 0.225,
          "xanchor": "center",
          "xref": "paper",
          "y": 1,
          "yanchor": "bottom",
          "yref": "paper"
         },
         {
          "font": {
           "size": 16
          },
          "showarrow": false,
          "text": "Rest of the World, Confirmed",
          "x": 0.775,
          "xanchor": "center",
          "xref": "paper",
          "y": 1,
          "yanchor": "bottom",
          "yref": "paper"
         },
         {
          "font": {
           "size": 16
          },
          "showarrow": false,
          "text": "China, Deaths & Recovered",
          "x": 0.225,
          "xanchor": "center",
          "xref": "paper",
          "y": 0.375,
          "yanchor": "bottom",
          "yref": "paper"
         },
         {
          "font": {
           "size": 16
          },
          "showarrow": false,
          "text": "Rest of the World, Deaths & Recovered",
          "x": 0.775,
          "xanchor": "center",
          "xref": "paper",
          "y": 0.375,
          "yanchor": "bottom",
          "yref": "paper"
         }
        ],
        "height": 750,
        "legend": {
         "orientation": "h"
        },
        "sliders": [
         {
          "currentvalue": {
           "font": {
            "size": 16
           },
           "prefix": "Date: ",
           "visible": true,
           "xanchor": "right"
          },
          "len": 0.9,
          "pad": {
           "b": 10,
           "t": 50
          },
          "steps": [
           {
            "args": [
             [
              "2020-01-22"
             ],
             {
              "frame": {
               "duration": 500,
               "easing": "linear",
               "redraw": false
              },
              "transition": {
               "duration": 0,
               "easing": "linear"
              }
             }
            ],
            "label": "2020-01-22",
            "method": "animate"
           },
           {
            "args": [
             [
              "2020-01-23"
             ],
             {
              "frame": {
               "duration": 500,
               "easing": "linear",
               "redraw": false
              },
              "transition": {
               "duration": 0,
               "easing": "linear"
              }
             }
            ],
            "label": "2020-01-23",
            "method": "animate"
           },
           {
            "args": [
             [
              "2020-01-24"
             ],
             {
              "frame": {
               "duration": 500,
               "easing": "linear",
               "redraw": false
              },
              "transition": {
               "duration": 0,
               "easing": "linear"
              }
             }
            ],
            "label": "2020-01-24",
            "method": "animate"
           },
           {
            "args": [
             [
              "2020-01-25"
             ],
             {
              "frame": {
               "duration": 500,
               "easing": "linear",
               "redraw": false
              },
              "transition": {
               "duration": 0,
               "easing": "linear"
              }
             }
            ],
            "label": "2020-01-25",
            "method": "animate"
           },
           {
            "args": [
             [
              "2020-01-26"
             ],
             {
              "frame": {
               "duration": 500,
               "easing": "linear",
               "redraw": false
              },
              "transition": {
               "duration": 0,
               "easing": "linear"
              }
             }
            ],
            "label": "2020-01-26",
            "method": "animate"
           },
           {
            "args": [
             [
              "2020-01-27"
             ],
             {
              "frame": {
               "duration": 500,
               "easing": "linear",
               "redraw": false
              },
              "transition": {
               "duration": 0,
               "easing": "linear"
              }
             }
            ],
            "label": "2020-01-27",
            "method": "animate"
           },
           {
            "args": [
             [
              "2020-01-28"
             ],
             {
              "frame": {
               "duration": 500,
               "easing": "linear",
               "redraw": false
              },
              "transition": {
               "duration": 0,
               "easing": "linear"
              }
             }
            ],
            "label": "2020-01-28",
            "method": "animate"
           },
           {
            "args": [
             [
              "2020-01-29"
             ],
             {
              "frame": {
               "duration": 500,
               "easing": "linear",
               "redraw": false
              },
              "transition": {
               "duration": 0,
               "easing": "linear"
              }
             }
            ],
            "label": "2020-01-29",
            "method": "animate"
           },
           {
            "args": [
             [
              "2020-01-30"
             ],
             {
              "frame": {
               "duration": 500,
               "easing": "linear",
               "redraw": false
              },
              "transition": {
               "duration": 0,
               "easing": "linear"
              }
             }
            ],
            "label": "2020-01-30",
            "method": "animate"
           },
           {
            "args": [
             [
              "2020-01-31"
             ],
             {
              "frame": {
               "duration": 500,
               "easing": "linear",
               "redraw": false
              },
              "transition": {
               "duration": 0,
               "easing": "linear"
              }
             }
            ],
            "label": "2020-01-31",
            "method": "animate"
           },
           {
            "args": [
             [
              "2020-02-02"
             ],
             {
              "frame": {
               "duration": 500,
               "easing": "linear",
               "redraw": false
              },
              "transition": {
               "duration": 0,
               "easing": "linear"
              }
             }
            ],
            "label": "2020-02-02",
            "method": "animate"
           }
          ],
          "transition": {
           "duration": 500,
           "easing": "linear"
          },
          "x": 0.1,
          "xanchor": "left",
          "y": -0.2,
          "yanchor": "top"
         }
        ],
        "template": {
         "data": {
          "bar": [
           {
            "error_x": {
             "color": "#2a3f5f"
            },
            "error_y": {
             "color": "#2a3f5f"
            },
            "marker": {
             "line": {
              "color": "#E5ECF6",
              "width": 0.5
             }
            },
            "type": "bar"
           }
          ],
          "barpolar": [
           {
            "marker": {
             "line": {
              "color": "#E5ECF6",
              "width": 0.5
             }
            },
            "type": "barpolar"
           }
          ],
          "carpet": [
           {
            "aaxis": {
             "endlinecolor": "#2a3f5f",
             "gridcolor": "white",
             "linecolor": "white",
             "minorgridcolor": "white",
             "startlinecolor": "#2a3f5f"
            },
            "baxis": {
             "endlinecolor": "#2a3f5f",
             "gridcolor": "white",
             "linecolor": "white",
             "minorgridcolor": "white",
             "startlinecolor": "#2a3f5f"
            },
            "type": "carpet"
           }
          ],
          "choropleth": [
           {
            "colorbar": {
             "outlinewidth": 0,
             "ticks": ""
            },
            "type": "choropleth"
           }
          ],
          "contour": [
           {
            "colorbar": {
             "outlinewidth": 0,
             "ticks": ""
            },
            "colorscale": [
             [
              0,
              "#0d0887"
             ],
             [
              0.1111111111111111,
              "#46039f"
             ],
             [
              0.2222222222222222,
              "#7201a8"
             ],
             [
              0.3333333333333333,
              "#9c179e"
             ],
             [
              0.4444444444444444,
              "#bd3786"
             ],
             [
              0.5555555555555556,
              "#d8576b"
             ],
             [
              0.6666666666666666,
              "#ed7953"
             ],
             [
              0.7777777777777778,
              "#fb9f3a"
             ],
             [
              0.8888888888888888,
              "#fdca26"
             ],
             [
              1,
              "#f0f921"
             ]
            ],
            "type": "contour"
           }
          ],
          "contourcarpet": [
           {
            "colorbar": {
             "outlinewidth": 0,
             "ticks": ""
            },
            "type": "contourcarpet"
           }
          ],
          "heatmap": [
           {
            "colorbar": {
             "outlinewidth": 0,
             "ticks": ""
            },
            "colorscale": [
             [
              0,
              "#0d0887"
             ],
             [
              0.1111111111111111,
              "#46039f"
             ],
             [
              0.2222222222222222,
              "#7201a8"
             ],
             [
              0.3333333333333333,
              "#9c179e"
             ],
             [
              0.4444444444444444,
              "#bd3786"
             ],
             [
              0.5555555555555556,
              "#d8576b"
             ],
             [
              0.6666666666666666,
              "#ed7953"
             ],
             [
              0.7777777777777778,
              "#fb9f3a"
             ],
             [
              0.8888888888888888,
              "#fdca26"
             ],
             [
              1,
              "#f0f921"
             ]
            ],
            "type": "heatmap"
           }
          ],
          "heatmapgl": [
           {
            "colorbar": {
             "outlinewidth": 0,
             "ticks": ""
            },
            "colorscale": [
             [
              0,
              "#0d0887"
             ],
             [
              0.1111111111111111,
              "#46039f"
             ],
             [
              0.2222222222222222,
              "#7201a8"
             ],
             [
              0.3333333333333333,
              "#9c179e"
             ],
             [
              0.4444444444444444,
              "#bd3786"
             ],
             [
              0.5555555555555556,
              "#d8576b"
             ],
             [
              0.6666666666666666,
              "#ed7953"
             ],
             [
              0.7777777777777778,
              "#fb9f3a"
             ],
             [
              0.8888888888888888,
              "#fdca26"
             ],
             [
              1,
              "#f0f921"
             ]
            ],
            "type": "heatmapgl"
           }
          ],
          "histogram": [
           {
            "marker": {
             "colorbar": {
              "outlinewidth": 0,
              "ticks": ""
             }
            },
            "type": "histogram"
           }
          ],
          "histogram2d": [
           {
            "colorbar": {
             "outlinewidth": 0,
             "ticks": ""
            },
            "colorscale": [
             [
              0,
              "#0d0887"
             ],
             [
              0.1111111111111111,
              "#46039f"
             ],
             [
              0.2222222222222222,
              "#7201a8"
             ],
             [
              0.3333333333333333,
              "#9c179e"
             ],
             [
              0.4444444444444444,
              "#bd3786"
             ],
             [
              0.5555555555555556,
              "#d8576b"
             ],
             [
              0.6666666666666666,
              "#ed7953"
             ],
             [
              0.7777777777777778,
              "#fb9f3a"
             ],
             [
              0.8888888888888888,
              "#fdca26"
             ],
             [
              1,
              "#f0f921"
             ]
            ],
            "type": "histogram2d"
           }
          ],
          "histogram2dcontour": [
           {
            "colorbar": {
             "outlinewidth": 0,
             "ticks": ""
            },
            "colorscale": [
             [
              0,
              "#0d0887"
             ],
             [
              0.1111111111111111,
              "#46039f"
             ],
             [
              0.2222222222222222,
              "#7201a8"
             ],
             [
              0.3333333333333333,
              "#9c179e"
             ],
             [
              0.4444444444444444,
              "#bd3786"
             ],
             [
              0.5555555555555556,
              "#d8576b"
             ],
             [
              0.6666666666666666,
              "#ed7953"
             ],
             [
              0.7777777777777778,
              "#fb9f3a"
             ],
             [
              0.8888888888888888,
              "#fdca26"
             ],
             [
              1,
              "#f0f921"
             ]
            ],
            "type": "histogram2dcontour"
           }
          ],
          "mesh3d": [
           {
            "colorbar": {
             "outlinewidth": 0,
             "ticks": ""
            },
            "type": "mesh3d"
           }
          ],
          "parcoords": [
           {
            "line": {
             "colorbar": {
              "outlinewidth": 0,
              "ticks": ""
             }
            },
            "type": "parcoords"
           }
          ],
          "pie": [
           {
            "automargin": true,
            "type": "pie"
           }
          ],
          "scatter": [
           {
            "marker": {
             "colorbar": {
              "outlinewidth": 0,
              "ticks": ""
             }
            },
            "type": "scatter"
           }
          ],
          "scatter3d": [
           {
            "line": {
             "colorbar": {
              "outlinewidth": 0,
              "ticks": ""
             }
            },
            "marker": {
             "colorbar": {
              "outlinewidth": 0,
              "ticks": ""
             }
            },
            "type": "scatter3d"
           }
          ],
          "scattercarpet": [
           {
            "marker": {
             "colorbar": {
              "outlinewidth": 0,
              "ticks": ""
             }
            },
            "type": "scattercarpet"
           }
          ],
          "scattergeo": [
           {
            "marker": {
             "colorbar": {
              "outlinewidth": 0,
              "ticks": ""
             }
            },
            "type": "scattergeo"
           }
          ],
          "scattergl": [
           {
            "marker": {
             "colorbar": {
              "outlinewidth": 0,
              "ticks": ""
             }
            },
            "type": "scattergl"
           }
          ],
          "scattermapbox": [
           {
            "marker": {
             "colorbar": {
              "outlinewidth": 0,
              "ticks": ""
             }
            },
            "type": "scattermapbox"
           }
          ],
          "scatterpolar": [
           {
            "marker": {
             "colorbar": {
              "outlinewidth": 0,
              "ticks": ""
             }
            },
            "type": "scatterpolar"
           }
          ],
          "scatterpolargl": [
           {
            "marker": {
             "colorbar": {
              "outlinewidth": 0,
              "ticks": ""
             }
            },
            "type": "scatterpolargl"
           }
          ],
          "scatterternary": [
           {
            "marker": {
             "colorbar": {
              "outlinewidth": 0,
              "ticks": ""
             }
            },
            "type": "scatterternary"
           }
          ],
          "surface": [
           {
            "colorbar": {
             "outlinewidth": 0,
             "ticks": ""
            },
            "colorscale": [
             [
              0,
              "#0d0887"
             ],
             [
              0.1111111111111111,
              "#46039f"
             ],
             [
              0.2222222222222222,
              "#7201a8"
             ],
             [
              0.3333333333333333,
              "#9c179e"
             ],
             [
              0.4444444444444444,
              "#bd3786"
             ],
             [
              0.5555555555555556,
              "#d8576b"
             ],
             [
              0.6666666666666666,
              "#ed7953"
             ],
             [
              0.7777777777777778,
              "#fb9f3a"
             ],
             [
              0.8888888888888888,
              "#fdca26"
             ],
             [
              1,
              "#f0f921"
             ]
            ],
            "type": "surface"
           }
          ],
          "table": [
           {
            "cells": {
             "fill": {
              "color": "#EBF0F8"
             },
             "line": {
              "color": "white"
             }
            },
            "header": {
             "fill": {
              "color": "#C8D4E3"
             },
             "line": {
              "color": "white"
             }
            },
            "type": "table"
           }
          ]
         },
         "layout": {
          "annotationdefaults": {
           "arrowcolor": "#2a3f5f",
           "arrowhead": 0,
           "arrowwidth": 1
          },
          "coloraxis": {
           "colorbar": {
            "outlinewidth": 0,
            "ticks": ""
           }
          },
          "colorscale": {
           "diverging": [
            [
             0,
             "#8e0152"
            ],
            [
             0.1,
             "#c51b7d"
            ],
            [
             0.2,
             "#de77ae"
            ],
            [
             0.3,
             "#f1b6da"
            ],
            [
             0.4,
             "#fde0ef"
            ],
            [
             0.5,
             "#f7f7f7"
            ],
            [
             0.6,
             "#e6f5d0"
            ],
            [
             0.7,
             "#b8e186"
            ],
            [
             0.8,
             "#7fbc41"
            ],
            [
             0.9,
             "#4d9221"
            ],
            [
             1,
             "#276419"
            ]
           ],
           "sequential": [
            [
             0,
             "#0d0887"
            ],
            [
             0.1111111111111111,
             "#46039f"
            ],
            [
             0.2222222222222222,
             "#7201a8"
            ],
            [
             0.3333333333333333,
             "#9c179e"
            ],
            [
             0.4444444444444444,
             "#bd3786"
            ],
            [
             0.5555555555555556,
             "#d8576b"
            ],
            [
             0.6666666666666666,
             "#ed7953"
            ],
            [
             0.7777777777777778,
             "#fb9f3a"
            ],
            [
             0.8888888888888888,
             "#fdca26"
            ],
            [
             1,
             "#f0f921"
            ]
           ],
           "sequentialminus": [
            [
             0,
             "#0d0887"
            ],
            [
             0.1111111111111111,
             "#46039f"
            ],
            [
             0.2222222222222222,
             "#7201a8"
            ],
            [
             0.3333333333333333,
             "#9c179e"
            ],
            [
             0.4444444444444444,
             "#bd3786"
            ],
            [
             0.5555555555555556,
             "#d8576b"
            ],
            [
             0.6666666666666666,
             "#ed7953"
            ],
            [
             0.7777777777777778,
             "#fb9f3a"
            ],
            [
             0.8888888888888888,
             "#fdca26"
            ],
            [
             1,
             "#f0f921"
            ]
           ]
          },
          "colorway": [
           "#636efa",
           "#EF553B",
           "#00cc96",
           "#ab63fa",
           "#FFA15A",
           "#19d3f3",
           "#FF6692",
           "#B6E880",
           "#FF97FF",
           "#FECB52"
          ],
          "font": {
           "color": "#2a3f5f"
          },
          "geo": {
           "bgcolor": "white",
           "lakecolor": "white",
           "landcolor": "#E5ECF6",
           "showlakes": true,
           "showland": true,
           "subunitcolor": "white"
          },
          "hoverlabel": {
           "align": "left"
          },
          "hovermode": "closest",
          "mapbox": {
           "style": "light"
          },
          "paper_bgcolor": "white",
          "plot_bgcolor": "#E5ECF6",
          "polar": {
           "angularaxis": {
            "gridcolor": "white",
            "linecolor": "white",
            "ticks": ""
           },
           "bgcolor": "#E5ECF6",
           "radialaxis": {
            "gridcolor": "white",
            "linecolor": "white",
            "ticks": ""
           }
          },
          "scene": {
           "xaxis": {
            "backgroundcolor": "#E5ECF6",
            "gridcolor": "white",
            "gridwidth": 2,
            "linecolor": "white",
            "showbackground": true,
            "ticks": "",
            "zerolinecolor": "white"
           },
           "yaxis": {
            "backgroundcolor": "#E5ECF6",
            "gridcolor": "white",
            "gridwidth": 2,
            "linecolor": "white",
            "showbackground": true,
            "ticks": "",
            "zerolinecolor": "white"
           },
           "zaxis": {
            "backgroundcolor": "#E5ECF6",
            "gridcolor": "white",
            "gridwidth": 2,
            "linecolor": "white",
            "showbackground": true,
            "ticks": "",
            "zerolinecolor": "white"
           }
          },
          "shapedefaults": {
           "line": {
            "color": "#2a3f5f"
           }
          },
          "ternary": {
           "aaxis": {
            "gridcolor": "white",
            "linecolor": "white",
            "ticks": ""
           },
           "baxis": {
            "gridcolor": "white",
            "linecolor": "white",
            "ticks": ""
           },
           "bgcolor": "#E5ECF6",
           "caxis": {
            "gridcolor": "white",
            "linecolor": "white",
            "ticks": ""
           }
          },
          "title": {
           "x": 0.05
          },
          "xaxis": {
           "automargin": true,
           "gridcolor": "white",
           "linecolor": "white",
           "ticks": "",
           "title": {
            "standoff": 15
           },
           "zerolinecolor": "white",
           "zerolinewidth": 2
          },
          "yaxis": {
           "automargin": true,
           "gridcolor": "white",
           "linecolor": "white",
           "ticks": "",
           "title": {
            "standoff": 15
           },
           "zerolinecolor": "white",
           "zerolinewidth": 2
          }
         }
        },
        "title": {
         "text": "Corona Virus: Confirmed, Deaths & Recovered",
         "x": 0.5,
         "xanchor": "center",
         "y": 0.98,
         "yanchor": "top"
        },
        "updatemenus": [
         {
          "buttons": [
           {
            "args": [
             [
              "2020-01-23",
              "2020-01-24",
              "2020-01-25",
              "2020-01-26",
              "2020-01-27",
              "2020-01-28",
              "2020-01-29",
              "2020-01-30",
              "2020-01-31",
              "2020-02-02"
             ],
             {
              "easing": "linear",
              "frame": {
               "duration": 500,
               "redraw": false
              },
              "fromcurrent": true,
              "mode": "immediate",
              "transition": {
               "duration": 0
              }
             }
            ],
            "label": "Play",
            "method": "animate"
           }
          ],
          "direction": "left",
          "pad": {
           "r": 10,
           "t": 85
          },
          "showactive": true,
          "type": "buttons",
          "x": 0.6,
          "xanchor": "right",
          "y": -0.1,
          "yanchor": "top"
         }
        ],
        "xaxis": {
         "anchor": "y",
         "autorange": false,
         "domain": [
          0,
          0.45
         ],
         "range": [
          "2020-01-21",
          "2020-02-03"
         ],
         "showgrid": false
        },
        "xaxis2": {
         "anchor": "y2",
         "autorange": false,
         "domain": [
          0.55,
          1
         ],
         "range": [
          "2020-01-21",
          "2020-02-03"
         ],
         "showgrid": false
        },
        "xaxis3": {
         "anchor": "y3",
         "autorange": false,
         "domain": [
          0,
          0.45
         ],
         "range": [
          "2020-01-21",
          "2020-02-03"
         ],
         "showgrid": false
        },
        "xaxis4": {
         "anchor": "y4",
         "autorange": false,
         "domain": [
          0.55,
          1
         ],
         "range": [
          "2020-01-21",
          "2020-02-03"
         ],
         "showgrid": false
        },
        "yaxis": {
         "anchor": "x",
         "autorange": false,
         "domain": [
          0.625,
          1
         ],
         "range": [
          -10,
          12294.7
         ]
        },
        "yaxis2": {
         "anchor": "x2",
         "autorange": false,
         "domain": [
          0.625,
          1
         ],
         "range": [
          -10,
          188.10000000000002
         ]
        },
        "yaxis3": {
         "anchor": "x3",
         "autorange": false,
         "domain": [
          0,
          0.375
         ],
         "range": [
          -10,
          525.8000000000001
         ]
        },
        "yaxis4": {
         "anchor": "x4",
         "autorange": false,
         "domain": [
          0,
          0.375
         ],
         "range": [
          -0.5,
          11
         ]
        }
       }
      },
      "text/html": [
       "<div>\n",
       "        \n",
       "        \n",
       "            <div id=\"e25362a4-6529-438a-827c-8e9867845f47\" class=\"plotly-graph-div\" style=\"height:750px; width:100%;\"></div>\n",
       "            <script type=\"text/javascript\">\n",
       "                require([\"plotly\"], function(Plotly) {\n",
       "                    window.PLOTLYENV=window.PLOTLYENV || {};\n",
       "                    \n",
       "                if (document.getElementById(\"e25362a4-6529-438a-827c-8e9867845f47\")) {\n",
       "                    Plotly.newPlot(\n",
       "                        'e25362a4-6529-438a-827c-8e9867845f47',\n",
       "                        [{\"legendgroup\": \"21\", \"name\": \"Hubei, Confirmed\", \"type\": \"scatter\", \"x\": [\"2020-01-22\", \"2020-01-23\", \"2020-01-24\", \"2020-01-25\", \"2020-01-26\", \"2020-01-27\", \"2020-01-28\", \"2020-01-29\", \"2020-01-30\", \"2020-01-31\", \"2020-02-02\"], \"xaxis\": \"x\", \"y\": [444.0], \"yaxis\": \"y\"}, {\"legendgroup\": \"21\", \"name\": \"Rest of China, Confirmed\", \"type\": \"scatter\", \"x\": [\"2020-01-22\", \"2020-01-23\", \"2020-01-24\", \"2020-01-25\", \"2020-01-26\", \"2020-01-27\", \"2020-01-28\", \"2020-01-29\", \"2020-01-30\", \"2020-01-31\", \"2020-02-02\"], \"xaxis\": \"x\", \"y\": [105.0], \"yaxis\": \"y\"}, {\"legendgroup\": \"22\", \"name\": \"Rest of the World, Confirmed\", \"type\": \"scatter\", \"x\": [\"2020-01-22\", \"2020-01-23\", \"2020-01-24\", \"2020-01-25\", \"2020-01-26\", \"2020-01-27\", \"2020-01-28\", \"2020-01-29\", \"2020-01-30\", \"2020-01-31\", \"2020-02-02\"], \"xaxis\": \"x2\", \"y\": [6.0], \"yaxis\": \"y2\"}, {\"legendgroup\": \"31\", \"name\": \"China, Deaths\", \"type\": \"scatter\", \"x\": [\"2020-01-22\", \"2020-01-23\", \"2020-01-24\", \"2020-01-25\", \"2020-01-26\", \"2020-01-27\", \"2020-01-28\", \"2020-01-29\", \"2020-01-30\", \"2020-01-31\", \"2020-02-02\"], \"xaxis\": \"x3\", \"y\": [0.0], \"yaxis\": \"y3\"}, {\"legendgroup\": \"31\", \"name\": \"China, Recovered\", \"type\": \"scatter\", \"x\": [\"2020-01-22\", \"2020-01-23\", \"2020-01-24\", \"2020-01-25\", \"2020-01-26\", \"2020-01-27\", \"2020-01-28\", \"2020-01-29\", \"2020-01-30\", \"2020-01-31\", \"2020-02-02\"], \"xaxis\": \"x3\", \"y\": [0.0], \"yaxis\": \"y3\"}, {\"legendgroup\": \"32\", \"name\": \"Rest of World, Deaths\", \"type\": \"scatter\", \"x\": [\"2020-01-22\", \"2020-01-23\", \"2020-01-24\", \"2020-01-25\", \"2020-01-26\", \"2020-01-27\", \"2020-01-28\", \"2020-01-29\", \"2020-01-30\", \"2020-01-31\", \"2020-02-02\"], \"xaxis\": \"x4\", \"y\": [0.0], \"yaxis\": \"y4\"}, {\"legendgroup\": \"32\", \"name\": \"Rest of World, Recovered\", \"type\": \"scatter\", \"x\": [\"2020-01-22\", \"2020-01-23\", \"2020-01-24\", \"2020-01-25\", \"2020-01-26\", \"2020-01-27\", \"2020-01-28\", \"2020-01-29\", \"2020-01-30\", \"2020-01-31\", \"2020-02-02\"], \"xaxis\": \"x4\", \"y\": [0.0], \"yaxis\": \"y4\"}],\n",
       "                        {\"annotations\": [{\"font\": {\"size\": 16}, \"showarrow\": false, \"text\": \"China, Confirmed\", \"x\": 0.225, \"xanchor\": \"center\", \"xref\": \"paper\", \"y\": 1.0, \"yanchor\": \"bottom\", \"yref\": \"paper\"}, {\"font\": {\"size\": 16}, \"showarrow\": false, \"text\": \"Rest of the World, Confirmed\", \"x\": 0.775, \"xanchor\": \"center\", \"xref\": \"paper\", \"y\": 1.0, \"yanchor\": \"bottom\", \"yref\": \"paper\"}, {\"font\": {\"size\": 16}, \"showarrow\": false, \"text\": \"China, Deaths & Recovered\", \"x\": 0.225, \"xanchor\": \"center\", \"xref\": \"paper\", \"y\": 0.375, \"yanchor\": \"bottom\", \"yref\": \"paper\"}, {\"font\": {\"size\": 16}, \"showarrow\": false, \"text\": \"Rest of the World, Deaths & Recovered\", \"x\": 0.775, \"xanchor\": \"center\", \"xref\": \"paper\", \"y\": 0.375, \"yanchor\": \"bottom\", \"yref\": \"paper\"}], \"height\": 750, \"legend\": {\"orientation\": \"h\"}, \"sliders\": [{\"currentvalue\": {\"font\": {\"size\": 16}, \"prefix\": \"Date: \", \"visible\": true, \"xanchor\": \"right\"}, \"len\": 0.9, \"pad\": {\"b\": 10, \"t\": 50}, \"steps\": [{\"args\": [[\"2020-01-22\"], {\"frame\": {\"duration\": 500.0, \"easing\": \"linear\", \"redraw\": false}, \"transition\": {\"duration\": 0, \"easing\": \"linear\"}}], \"label\": \"2020-01-22\", \"method\": \"animate\"}, {\"args\": [[\"2020-01-23\"], {\"frame\": {\"duration\": 500.0, \"easing\": \"linear\", \"redraw\": false}, \"transition\": {\"duration\": 0, \"easing\": \"linear\"}}], \"label\": \"2020-01-23\", \"method\": \"animate\"}, {\"args\": [[\"2020-01-24\"], {\"frame\": {\"duration\": 500.0, \"easing\": \"linear\", \"redraw\": false}, \"transition\": {\"duration\": 0, \"easing\": \"linear\"}}], \"label\": \"2020-01-24\", \"method\": \"animate\"}, {\"args\": [[\"2020-01-25\"], {\"frame\": {\"duration\": 500.0, \"easing\": \"linear\", \"redraw\": false}, \"transition\": {\"duration\": 0, \"easing\": \"linear\"}}], \"label\": \"2020-01-25\", \"method\": \"animate\"}, {\"args\": [[\"2020-01-26\"], {\"frame\": {\"duration\": 500.0, \"easing\": \"linear\", \"redraw\": false}, \"transition\": {\"duration\": 0, \"easing\": \"linear\"}}], \"label\": \"2020-01-26\", \"method\": \"animate\"}, {\"args\": [[\"2020-01-27\"], {\"frame\": {\"duration\": 500.0, \"easing\": \"linear\", \"redraw\": false}, \"transition\": {\"duration\": 0, \"easing\": \"linear\"}}], \"label\": \"2020-01-27\", \"method\": \"animate\"}, {\"args\": [[\"2020-01-28\"], {\"frame\": {\"duration\": 500.0, \"easing\": \"linear\", \"redraw\": false}, \"transition\": {\"duration\": 0, \"easing\": \"linear\"}}], \"label\": \"2020-01-28\", \"method\": \"animate\"}, {\"args\": [[\"2020-01-29\"], {\"frame\": {\"duration\": 500.0, \"easing\": \"linear\", \"redraw\": false}, \"transition\": {\"duration\": 0, \"easing\": \"linear\"}}], \"label\": \"2020-01-29\", \"method\": \"animate\"}, {\"args\": [[\"2020-01-30\"], {\"frame\": {\"duration\": 500.0, \"easing\": \"linear\", \"redraw\": false}, \"transition\": {\"duration\": 0, \"easing\": \"linear\"}}], \"label\": \"2020-01-30\", \"method\": \"animate\"}, {\"args\": [[\"2020-01-31\"], {\"frame\": {\"duration\": 500.0, \"easing\": \"linear\", \"redraw\": false}, \"transition\": {\"duration\": 0, \"easing\": \"linear\"}}], \"label\": \"2020-01-31\", \"method\": \"animate\"}, {\"args\": [[\"2020-02-02\"], {\"frame\": {\"duration\": 500.0, \"easing\": \"linear\", \"redraw\": false}, \"transition\": {\"duration\": 0, \"easing\": \"linear\"}}], \"label\": \"2020-02-02\", \"method\": \"animate\"}], \"transition\": {\"duration\": 500.0, \"easing\": \"linear\"}, \"x\": 0.1, \"xanchor\": \"left\", \"y\": -0.2, \"yanchor\": \"top\"}], \"template\": {\"data\": {\"bar\": [{\"error_x\": {\"color\": \"#2a3f5f\"}, \"error_y\": {\"color\": \"#2a3f5f\"}, \"marker\": {\"line\": {\"color\": \"#E5ECF6\", \"width\": 0.5}}, \"type\": \"bar\"}], \"barpolar\": [{\"marker\": {\"line\": {\"color\": \"#E5ECF6\", \"width\": 0.5}}, \"type\": \"barpolar\"}], \"carpet\": [{\"aaxis\": {\"endlinecolor\": \"#2a3f5f\", \"gridcolor\": \"white\", \"linecolor\": \"white\", \"minorgridcolor\": \"white\", \"startlinecolor\": \"#2a3f5f\"}, \"baxis\": {\"endlinecolor\": \"#2a3f5f\", \"gridcolor\": \"white\", \"linecolor\": \"white\", \"minorgridcolor\": \"white\", \"startlinecolor\": \"#2a3f5f\"}, \"type\": \"carpet\"}], \"choropleth\": [{\"colorbar\": {\"outlinewidth\": 0, \"ticks\": \"\"}, \"type\": \"choropleth\"}], \"contour\": [{\"colorbar\": {\"outlinewidth\": 0, \"ticks\": \"\"}, \"colorscale\": [[0.0, \"#0d0887\"], [0.1111111111111111, \"#46039f\"], [0.2222222222222222, \"#7201a8\"], [0.3333333333333333, \"#9c179e\"], [0.4444444444444444, \"#bd3786\"], [0.5555555555555556, \"#d8576b\"], [0.6666666666666666, \"#ed7953\"], [0.7777777777777778, \"#fb9f3a\"], [0.8888888888888888, \"#fdca26\"], [1.0, \"#f0f921\"]], \"type\": \"contour\"}], \"contourcarpet\": [{\"colorbar\": {\"outlinewidth\": 0, \"ticks\": \"\"}, \"type\": \"contourcarpet\"}], \"heatmap\": [{\"colorbar\": {\"outlinewidth\": 0, \"ticks\": \"\"}, \"colorscale\": [[0.0, \"#0d0887\"], [0.1111111111111111, \"#46039f\"], [0.2222222222222222, \"#7201a8\"], [0.3333333333333333, \"#9c179e\"], [0.4444444444444444, \"#bd3786\"], [0.5555555555555556, \"#d8576b\"], [0.6666666666666666, \"#ed7953\"], [0.7777777777777778, \"#fb9f3a\"], [0.8888888888888888, \"#fdca26\"], [1.0, \"#f0f921\"]], \"type\": \"heatmap\"}], \"heatmapgl\": [{\"colorbar\": {\"outlinewidth\": 0, \"ticks\": \"\"}, \"colorscale\": [[0.0, \"#0d0887\"], [0.1111111111111111, \"#46039f\"], [0.2222222222222222, \"#7201a8\"], [0.3333333333333333, \"#9c179e\"], [0.4444444444444444, \"#bd3786\"], [0.5555555555555556, \"#d8576b\"], [0.6666666666666666, \"#ed7953\"], [0.7777777777777778, \"#fb9f3a\"], [0.8888888888888888, \"#fdca26\"], [1.0, \"#f0f921\"]], \"type\": \"heatmapgl\"}], \"histogram\": [{\"marker\": {\"colorbar\": {\"outlinewidth\": 0, \"ticks\": \"\"}}, \"type\": \"histogram\"}], \"histogram2d\": [{\"colorbar\": {\"outlinewidth\": 0, \"ticks\": \"\"}, \"colorscale\": [[0.0, \"#0d0887\"], [0.1111111111111111, \"#46039f\"], [0.2222222222222222, \"#7201a8\"], [0.3333333333333333, \"#9c179e\"], [0.4444444444444444, \"#bd3786\"], [0.5555555555555556, \"#d8576b\"], [0.6666666666666666, \"#ed7953\"], [0.7777777777777778, \"#fb9f3a\"], [0.8888888888888888, \"#fdca26\"], [1.0, \"#f0f921\"]], \"type\": \"histogram2d\"}], \"histogram2dcontour\": [{\"colorbar\": {\"outlinewidth\": 0, \"ticks\": \"\"}, \"colorscale\": [[0.0, \"#0d0887\"], [0.1111111111111111, \"#46039f\"], [0.2222222222222222, \"#7201a8\"], [0.3333333333333333, \"#9c179e\"], [0.4444444444444444, \"#bd3786\"], [0.5555555555555556, \"#d8576b\"], [0.6666666666666666, \"#ed7953\"], [0.7777777777777778, \"#fb9f3a\"], [0.8888888888888888, \"#fdca26\"], [1.0, \"#f0f921\"]], \"type\": \"histogram2dcontour\"}], \"mesh3d\": [{\"colorbar\": {\"outlinewidth\": 0, \"ticks\": \"\"}, \"type\": \"mesh3d\"}], \"parcoords\": [{\"line\": {\"colorbar\": {\"outlinewidth\": 0, \"ticks\": \"\"}}, \"type\": \"parcoords\"}], \"pie\": [{\"automargin\": true, \"type\": \"pie\"}], \"scatter\": [{\"marker\": {\"colorbar\": {\"outlinewidth\": 0, \"ticks\": \"\"}}, \"type\": \"scatter\"}], \"scatter3d\": [{\"line\": {\"colorbar\": {\"outlinewidth\": 0, \"ticks\": \"\"}}, \"marker\": {\"colorbar\": {\"outlinewidth\": 0, \"ticks\": \"\"}}, \"type\": \"scatter3d\"}], \"scattercarpet\": [{\"marker\": {\"colorbar\": {\"outlinewidth\": 0, \"ticks\": \"\"}}, \"type\": \"scattercarpet\"}], \"scattergeo\": [{\"marker\": {\"colorbar\": {\"outlinewidth\": 0, \"ticks\": \"\"}}, \"type\": \"scattergeo\"}], \"scattergl\": [{\"marker\": {\"colorbar\": {\"outlinewidth\": 0, \"ticks\": \"\"}}, \"type\": \"scattergl\"}], \"scattermapbox\": [{\"marker\": {\"colorbar\": {\"outlinewidth\": 0, \"ticks\": \"\"}}, \"type\": \"scattermapbox\"}], \"scatterpolar\": [{\"marker\": {\"colorbar\": {\"outlinewidth\": 0, \"ticks\": \"\"}}, \"type\": \"scatterpolar\"}], \"scatterpolargl\": [{\"marker\": {\"colorbar\": {\"outlinewidth\": 0, \"ticks\": \"\"}}, \"type\": \"scatterpolargl\"}], \"scatterternary\": [{\"marker\": {\"colorbar\": {\"outlinewidth\": 0, \"ticks\": \"\"}}, \"type\": \"scatterternary\"}], \"surface\": [{\"colorbar\": {\"outlinewidth\": 0, \"ticks\": \"\"}, \"colorscale\": [[0.0, \"#0d0887\"], [0.1111111111111111, \"#46039f\"], [0.2222222222222222, \"#7201a8\"], [0.3333333333333333, \"#9c179e\"], [0.4444444444444444, \"#bd3786\"], [0.5555555555555556, \"#d8576b\"], [0.6666666666666666, \"#ed7953\"], [0.7777777777777778, \"#fb9f3a\"], [0.8888888888888888, \"#fdca26\"], [1.0, \"#f0f921\"]], \"type\": \"surface\"}], \"table\": [{\"cells\": {\"fill\": {\"color\": \"#EBF0F8\"}, \"line\": {\"color\": \"white\"}}, \"header\": {\"fill\": {\"color\": \"#C8D4E3\"}, \"line\": {\"color\": \"white\"}}, \"type\": \"table\"}]}, \"layout\": {\"annotationdefaults\": {\"arrowcolor\": \"#2a3f5f\", \"arrowhead\": 0, \"arrowwidth\": 1}, \"coloraxis\": {\"colorbar\": {\"outlinewidth\": 0, \"ticks\": \"\"}}, \"colorscale\": {\"diverging\": [[0, \"#8e0152\"], [0.1, \"#c51b7d\"], [0.2, \"#de77ae\"], [0.3, \"#f1b6da\"], [0.4, \"#fde0ef\"], [0.5, \"#f7f7f7\"], [0.6, \"#e6f5d0\"], [0.7, \"#b8e186\"], [0.8, \"#7fbc41\"], [0.9, \"#4d9221\"], [1, \"#276419\"]], \"sequential\": [[0.0, \"#0d0887\"], [0.1111111111111111, \"#46039f\"], [0.2222222222222222, \"#7201a8\"], [0.3333333333333333, \"#9c179e\"], [0.4444444444444444, \"#bd3786\"], [0.5555555555555556, \"#d8576b\"], [0.6666666666666666, \"#ed7953\"], [0.7777777777777778, \"#fb9f3a\"], [0.8888888888888888, \"#fdca26\"], [1.0, \"#f0f921\"]], \"sequentialminus\": [[0.0, \"#0d0887\"], [0.1111111111111111, \"#46039f\"], [0.2222222222222222, \"#7201a8\"], [0.3333333333333333, \"#9c179e\"], [0.4444444444444444, \"#bd3786\"], [0.5555555555555556, \"#d8576b\"], [0.6666666666666666, \"#ed7953\"], [0.7777777777777778, \"#fb9f3a\"], [0.8888888888888888, \"#fdca26\"], [1.0, \"#f0f921\"]]}, \"colorway\": [\"#636efa\", \"#EF553B\", \"#00cc96\", \"#ab63fa\", \"#FFA15A\", \"#19d3f3\", \"#FF6692\", \"#B6E880\", \"#FF97FF\", \"#FECB52\"], \"font\": {\"color\": \"#2a3f5f\"}, \"geo\": {\"bgcolor\": \"white\", \"lakecolor\": \"white\", \"landcolor\": \"#E5ECF6\", \"showlakes\": true, \"showland\": true, \"subunitcolor\": \"white\"}, \"hoverlabel\": {\"align\": \"left\"}, \"hovermode\": \"closest\", \"mapbox\": {\"style\": \"light\"}, \"paper_bgcolor\": \"white\", \"plot_bgcolor\": \"#E5ECF6\", \"polar\": {\"angularaxis\": {\"gridcolor\": \"white\", \"linecolor\": \"white\", \"ticks\": \"\"}, \"bgcolor\": \"#E5ECF6\", \"radialaxis\": {\"gridcolor\": \"white\", \"linecolor\": \"white\", \"ticks\": \"\"}}, \"scene\": {\"xaxis\": {\"backgroundcolor\": \"#E5ECF6\", \"gridcolor\": \"white\", \"gridwidth\": 2, \"linecolor\": \"white\", \"showbackground\": true, \"ticks\": \"\", \"zerolinecolor\": \"white\"}, \"yaxis\": {\"backgroundcolor\": \"#E5ECF6\", \"gridcolor\": \"white\", \"gridwidth\": 2, \"linecolor\": \"white\", \"showbackground\": true, \"ticks\": \"\", \"zerolinecolor\": \"white\"}, \"zaxis\": {\"backgroundcolor\": \"#E5ECF6\", \"gridcolor\": \"white\", \"gridwidth\": 2, \"linecolor\": \"white\", \"showbackground\": true, \"ticks\": \"\", \"zerolinecolor\": \"white\"}}, \"shapedefaults\": {\"line\": {\"color\": \"#2a3f5f\"}}, \"ternary\": {\"aaxis\": {\"gridcolor\": \"white\", \"linecolor\": \"white\", \"ticks\": \"\"}, \"baxis\": {\"gridcolor\": \"white\", \"linecolor\": \"white\", \"ticks\": \"\"}, \"bgcolor\": \"#E5ECF6\", \"caxis\": {\"gridcolor\": \"white\", \"linecolor\": \"white\", \"ticks\": \"\"}}, \"title\": {\"x\": 0.05}, \"xaxis\": {\"automargin\": true, \"gridcolor\": \"white\", \"linecolor\": \"white\", \"ticks\": \"\", \"title\": {\"standoff\": 15}, \"zerolinecolor\": \"white\", \"zerolinewidth\": 2}, \"yaxis\": {\"automargin\": true, \"gridcolor\": \"white\", \"linecolor\": \"white\", \"ticks\": \"\", \"title\": {\"standoff\": 15}, \"zerolinecolor\": \"white\", \"zerolinewidth\": 2}}}, \"title\": {\"text\": \"Corona Virus: Confirmed, Deaths & Recovered\", \"x\": 0.5, \"xanchor\": \"center\", \"y\": 0.98, \"yanchor\": \"top\"}, \"updatemenus\": [{\"buttons\": [{\"args\": [[\"2020-01-23\", \"2020-01-24\", \"2020-01-25\", \"2020-01-26\", \"2020-01-27\", \"2020-01-28\", \"2020-01-29\", \"2020-01-30\", \"2020-01-31\", \"2020-02-02\"], {\"easing\": \"linear\", \"frame\": {\"duration\": 500, \"redraw\": false}, \"fromcurrent\": true, \"mode\": \"immediate\", \"transition\": {\"duration\": 0}}], \"label\": \"Play\", \"method\": \"animate\"}], \"direction\": \"left\", \"pad\": {\"r\": 10, \"t\": 85}, \"showactive\": true, \"type\": \"buttons\", \"x\": 0.6, \"xanchor\": \"right\", \"y\": -0.1, \"yanchor\": \"top\"}], \"xaxis\": {\"anchor\": \"y\", \"autorange\": false, \"domain\": [0.0, 0.45], \"range\": [\"2020-01-21\", \"2020-02-03\"], \"showgrid\": false}, \"xaxis2\": {\"anchor\": \"y2\", \"autorange\": false, \"domain\": [0.55, 1.0], \"range\": [\"2020-01-21\", \"2020-02-03\"], \"showgrid\": false}, \"xaxis3\": {\"anchor\": \"y3\", \"autorange\": false, \"domain\": [0.0, 0.45], \"range\": [\"2020-01-21\", \"2020-02-03\"], \"showgrid\": false}, \"xaxis4\": {\"anchor\": \"y4\", \"autorange\": false, \"domain\": [0.55, 1.0], \"range\": [\"2020-01-21\", \"2020-02-03\"], \"showgrid\": false}, \"yaxis\": {\"anchor\": \"x\", \"autorange\": false, \"domain\": [0.625, 1.0], \"range\": [-10, 12294.7]}, \"yaxis2\": {\"anchor\": \"x2\", \"autorange\": false, \"domain\": [0.625, 1.0], \"range\": [-10, 188.10000000000002]}, \"yaxis3\": {\"anchor\": \"x3\", \"autorange\": false, \"domain\": [0.0, 0.375], \"range\": [-10, 525.8000000000001]}, \"yaxis4\": {\"anchor\": \"x4\", \"autorange\": false, \"domain\": [0.0, 0.375], \"range\": [-0.5, 11.0]}},\n",
       "                        {\"responsive\": true}\n",
       "                    ).then(function(){\n",
       "                            Plotly.addFrames('e25362a4-6529-438a-827c-8e9867845f47', [{\"data\": [{\"legendgroup\": \"21\", \"name\": \"Hubei, Confirmed\", \"x\": [\"2020-01-22\", \"2020-01-23\", \"2020-01-24\", \"2020-01-25\", \"2020-01-26\", \"2020-01-27\", \"2020-01-28\", \"2020-01-29\", \"2020-01-30\", \"2020-01-31\", \"2020-02-02\"], \"y\": [444.0], \"type\": \"scatter\"}, {\"legendgroup\": \"21\", \"name\": \"Rest of China, Confirmed\", \"x\": [\"2020-01-22\", \"2020-01-23\", \"2020-01-24\", \"2020-01-25\", \"2020-01-26\", \"2020-01-27\", \"2020-01-28\", \"2020-01-29\", \"2020-01-30\", \"2020-01-31\", \"2020-02-02\"], \"y\": [105.0], \"type\": \"scatter\"}, {\"legendgroup\": \"22\", \"name\": \"Rest of the World, Confirmed\", \"x\": [\"2020-01-22\", \"2020-01-23\", \"2020-01-24\", \"2020-01-25\", \"2020-01-26\", \"2020-01-27\", \"2020-01-28\", \"2020-01-29\", \"2020-01-30\", \"2020-01-31\", \"2020-02-02\"], \"y\": [6.0], \"type\": \"scatter\"}, {\"legendgroup\": \"31\", \"name\": \"China, Deaths\", \"x\": [\"2020-01-22\", \"2020-01-23\", \"2020-01-24\", \"2020-01-25\", \"2020-01-26\", \"2020-01-27\", \"2020-01-28\", \"2020-01-29\", \"2020-01-30\", \"2020-01-31\", \"2020-02-02\"], \"y\": [0.0], \"type\": \"scatter\"}, {\"legendgroup\": \"31\", \"name\": \"China, Recovered\", \"x\": [\"2020-01-22\", \"2020-01-23\", \"2020-01-24\", \"2020-01-25\", \"2020-01-26\", \"2020-01-27\", \"2020-01-28\", \"2020-01-29\", \"2020-01-30\", \"2020-01-31\", \"2020-02-02\"], \"y\": [0.0], \"type\": \"scatter\"}, {\"legendgroup\": \"32\", \"name\": \"Rest of World, Deaths\", \"x\": [\"2020-01-22\", \"2020-01-23\", \"2020-01-24\", \"2020-01-25\", \"2020-01-26\", \"2020-01-27\", \"2020-01-28\", \"2020-01-29\", \"2020-01-30\", \"2020-01-31\", \"2020-02-02\"], \"y\": [0.0], \"type\": \"scatter\"}, {\"legendgroup\": \"32\", \"name\": \"Rest of World, Recovered\", \"x\": [\"2020-01-22\", \"2020-01-23\", \"2020-01-24\", \"2020-01-25\", \"2020-01-26\", \"2020-01-27\", \"2020-01-28\", \"2020-01-29\", \"2020-01-30\", \"2020-01-31\", \"2020-02-02\"], \"y\": [0.0], \"type\": \"scatter\"}], \"name\": \"2020-01-22\", \"traces\": [0, 1, 2, 3, 4, 5, 6, 7]}, {\"data\": [{\"legendgroup\": \"21\", \"name\": \"Hubei, Confirmed\", \"x\": [\"2020-01-22\", \"2020-01-23\", \"2020-01-24\", \"2020-01-25\", \"2020-01-26\", \"2020-01-27\", \"2020-01-28\", \"2020-01-29\", \"2020-01-30\", \"2020-01-31\", \"2020-02-02\"], \"y\": [444.0, 444.0], \"type\": \"scatter\"}, {\"legendgroup\": \"21\", \"name\": \"Rest of China, Confirmed\", \"x\": [\"2020-01-22\", \"2020-01-23\", \"2020-01-24\", \"2020-01-25\", \"2020-01-26\", \"2020-01-27\", \"2020-01-28\", \"2020-01-29\", \"2020-01-30\", \"2020-01-31\", \"2020-02-02\"], \"y\": [105.0, 195.0], \"type\": \"scatter\"}, {\"legendgroup\": \"22\", \"name\": \"Rest of the World, Confirmed\", \"x\": [\"2020-01-22\", \"2020-01-23\", \"2020-01-24\", \"2020-01-25\", \"2020-01-26\", \"2020-01-27\", \"2020-01-28\", \"2020-01-29\", \"2020-01-30\", \"2020-01-31\", \"2020-02-02\"], \"y\": [6.0, 14.0], \"type\": \"scatter\"}, {\"legendgroup\": \"31\", \"name\": \"China, Deaths\", \"x\": [\"2020-01-22\", \"2020-01-23\", \"2020-01-24\", \"2020-01-25\", \"2020-01-26\", \"2020-01-27\", \"2020-01-28\", \"2020-01-29\", \"2020-01-30\", \"2020-01-31\", \"2020-02-02\"], \"y\": [0.0, 18.0], \"type\": \"scatter\"}, {\"legendgroup\": \"31\", \"name\": \"China, Recovered\", \"x\": [\"2020-01-22\", \"2020-01-23\", \"2020-01-24\", \"2020-01-25\", \"2020-01-26\", \"2020-01-27\", \"2020-01-28\", \"2020-01-29\", \"2020-01-30\", \"2020-01-31\", \"2020-02-02\"], \"y\": [0.0, 30.0], \"type\": \"scatter\"}, {\"legendgroup\": \"32\", \"name\": \"Rest of World, Deaths\", \"x\": [\"2020-01-22\", \"2020-01-23\", \"2020-01-24\", \"2020-01-25\", \"2020-01-26\", \"2020-01-27\", \"2020-01-28\", \"2020-01-29\", \"2020-01-30\", \"2020-01-31\", \"2020-02-02\"], \"y\": [0.0, 0.0], \"type\": \"scatter\"}, {\"legendgroup\": \"32\", \"name\": \"Rest of World, Recovered\", \"x\": [\"2020-01-22\", \"2020-01-23\", \"2020-01-24\", \"2020-01-25\", \"2020-01-26\", \"2020-01-27\", \"2020-01-28\", \"2020-01-29\", \"2020-01-30\", \"2020-01-31\", \"2020-02-02\"], \"y\": [0.0, 0.0], \"type\": \"scatter\"}], \"name\": \"2020-01-23\", \"traces\": [0, 1, 2, 3, 4, 5, 6, 7]}, {\"data\": [{\"legendgroup\": \"21\", \"name\": \"Hubei, Confirmed\", \"x\": [\"2020-01-22\", \"2020-01-23\", \"2020-01-24\", \"2020-01-25\", \"2020-01-26\", \"2020-01-27\", \"2020-01-28\", \"2020-01-29\", \"2020-01-30\", \"2020-01-31\", \"2020-02-02\"], \"y\": [444.0, 444.0, 549.0], \"type\": \"scatter\"}, {\"legendgroup\": \"21\", \"name\": \"Rest of China, Confirmed\", \"x\": [\"2020-01-22\", \"2020-01-23\", \"2020-01-24\", \"2020-01-25\", \"2020-01-26\", \"2020-01-27\", \"2020-01-28\", \"2020-01-29\", \"2020-01-30\", \"2020-01-31\", \"2020-02-02\"], \"y\": [105.0, 195.0, 367.0], \"type\": \"scatter\"}, {\"legendgroup\": \"22\", \"name\": \"Rest of the World, Confirmed\", \"x\": [\"2020-01-22\", \"2020-01-23\", \"2020-01-24\", \"2020-01-25\", \"2020-01-26\", \"2020-01-27\", \"2020-01-28\", \"2020-01-29\", \"2020-01-30\", \"2020-01-31\", \"2020-02-02\"], \"y\": [6.0, 14.0, 25.0], \"type\": \"scatter\"}, {\"legendgroup\": \"31\", \"name\": \"China, Deaths\", \"x\": [\"2020-01-22\", \"2020-01-23\", \"2020-01-24\", \"2020-01-25\", \"2020-01-26\", \"2020-01-27\", \"2020-01-28\", \"2020-01-29\", \"2020-01-30\", \"2020-01-31\", \"2020-02-02\"], \"y\": [0.0, 18.0, 26.0], \"type\": \"scatter\"}, {\"legendgroup\": \"31\", \"name\": \"China, Recovered\", \"x\": [\"2020-01-22\", \"2020-01-23\", \"2020-01-24\", \"2020-01-25\", \"2020-01-26\", \"2020-01-27\", \"2020-01-28\", \"2020-01-29\", \"2020-01-30\", \"2020-01-31\", \"2020-02-02\"], \"y\": [0.0, 30.0, 36.0], \"type\": \"scatter\"}, {\"legendgroup\": \"32\", \"name\": \"Rest of World, Deaths\", \"x\": [\"2020-01-22\", \"2020-01-23\", \"2020-01-24\", \"2020-01-25\", \"2020-01-26\", \"2020-01-27\", \"2020-01-28\", \"2020-01-29\", \"2020-01-30\", \"2020-01-31\", \"2020-02-02\"], \"y\": [0.0, 0.0, 0.0], \"type\": \"scatter\"}, {\"legendgroup\": \"32\", \"name\": \"Rest of World, Recovered\", \"x\": [\"2020-01-22\", \"2020-01-23\", \"2020-01-24\", \"2020-01-25\", \"2020-01-26\", \"2020-01-27\", \"2020-01-28\", \"2020-01-29\", \"2020-01-30\", \"2020-01-31\", \"2020-02-02\"], \"y\": [0.0, 0.0, 0.0], \"type\": \"scatter\"}], \"name\": \"2020-01-24\", \"traces\": [0, 1, 2, 3, 4, 5, 6, 7]}, {\"data\": [{\"legendgroup\": \"21\", \"name\": \"Hubei, Confirmed\", \"x\": [\"2020-01-22\", \"2020-01-23\", \"2020-01-24\", \"2020-01-25\", \"2020-01-26\", \"2020-01-27\", \"2020-01-28\", \"2020-01-29\", \"2020-01-30\", \"2020-01-31\", \"2020-02-02\"], \"y\": [444.0, 444.0, 549.0, 1052.0], \"type\": \"scatter\"}, {\"legendgroup\": \"21\", \"name\": \"Rest of China, Confirmed\", \"x\": [\"2020-01-22\", \"2020-01-23\", \"2020-01-24\", \"2020-01-25\", \"2020-01-26\", \"2020-01-27\", \"2020-01-28\", \"2020-01-29\", \"2020-01-30\", \"2020-01-31\", \"2020-02-02\"], \"y\": [105.0, 195.0, 367.0, 927.0], \"type\": \"scatter\"}, {\"legendgroup\": \"22\", \"name\": \"Rest of the World, Confirmed\", \"x\": [\"2020-01-22\", \"2020-01-23\", \"2020-01-24\", \"2020-01-25\", \"2020-01-26\", \"2020-01-27\", \"2020-01-28\", \"2020-01-29\", \"2020-01-30\", \"2020-01-31\", \"2020-02-02\"], \"y\": [6.0, 14.0, 25.0, 36.0], \"type\": \"scatter\"}, {\"legendgroup\": \"31\", \"name\": \"China, Deaths\", \"x\": [\"2020-01-22\", \"2020-01-23\", \"2020-01-24\", \"2020-01-25\", \"2020-01-26\", \"2020-01-27\", \"2020-01-28\", \"2020-01-29\", \"2020-01-30\", \"2020-01-31\", \"2020-02-02\"], \"y\": [0.0, 18.0, 26.0, 56.0], \"type\": \"scatter\"}, {\"legendgroup\": \"31\", \"name\": \"China, Recovered\", \"x\": [\"2020-01-22\", \"2020-01-23\", \"2020-01-24\", \"2020-01-25\", \"2020-01-26\", \"2020-01-27\", \"2020-01-28\", \"2020-01-29\", \"2020-01-30\", \"2020-01-31\", \"2020-02-02\"], \"y\": [0.0, 30.0, 36.0, 49.0], \"type\": \"scatter\"}, {\"legendgroup\": \"32\", \"name\": \"Rest of World, Deaths\", \"x\": [\"2020-01-22\", \"2020-01-23\", \"2020-01-24\", \"2020-01-25\", \"2020-01-26\", \"2020-01-27\", \"2020-01-28\", \"2020-01-29\", \"2020-01-30\", \"2020-01-31\", \"2020-02-02\"], \"y\": [0.0, 0.0, 0.0, 0.0], \"type\": \"scatter\"}, {\"legendgroup\": \"32\", \"name\": \"Rest of World, Recovered\", \"x\": [\"2020-01-22\", \"2020-01-23\", \"2020-01-24\", \"2020-01-25\", \"2020-01-26\", \"2020-01-27\", \"2020-01-28\", \"2020-01-29\", \"2020-01-30\", \"2020-01-31\", \"2020-02-02\"], \"y\": [0.0, 0.0, 0.0, 0.0], \"type\": \"scatter\"}], \"name\": \"2020-01-25\", \"traces\": [0, 1, 2, 3, 4, 5, 6, 7]}, {\"data\": [{\"legendgroup\": \"21\", \"name\": \"Hubei, Confirmed\", \"x\": [\"2020-01-22\", \"2020-01-23\", \"2020-01-24\", \"2020-01-25\", \"2020-01-26\", \"2020-01-27\", \"2020-01-28\", \"2020-01-29\", \"2020-01-30\", \"2020-01-31\", \"2020-02-02\"], \"y\": [444.0, 444.0, 549.0, 1052.0, 1423.0], \"type\": \"scatter\"}, {\"legendgroup\": \"21\", \"name\": \"Rest of China, Confirmed\", \"x\": [\"2020-01-22\", \"2020-01-23\", \"2020-01-24\", \"2020-01-25\", \"2020-01-26\", \"2020-01-27\", \"2020-01-28\", \"2020-01-29\", \"2020-01-30\", \"2020-01-31\", \"2020-02-02\"], \"y\": [105.0, 195.0, 367.0, 927.0, 1314.0], \"type\": \"scatter\"}, {\"legendgroup\": \"22\", \"name\": \"Rest of the World, Confirmed\", \"x\": [\"2020-01-22\", \"2020-01-23\", \"2020-01-24\", \"2020-01-25\", \"2020-01-26\", \"2020-01-27\", \"2020-01-28\", \"2020-01-29\", \"2020-01-30\", \"2020-01-31\", \"2020-02-02\"], \"y\": [6.0, 14.0, 25.0, 36.0, 53.0], \"type\": \"scatter\"}, {\"legendgroup\": \"31\", \"name\": \"China, Deaths\", \"x\": [\"2020-01-22\", \"2020-01-23\", \"2020-01-24\", \"2020-01-25\", \"2020-01-26\", \"2020-01-27\", \"2020-01-28\", \"2020-01-29\", \"2020-01-30\", \"2020-01-31\", \"2020-02-02\"], \"y\": [0.0, 18.0, 26.0, 56.0, 80.0], \"type\": \"scatter\"}, {\"legendgroup\": \"31\", \"name\": \"China, Recovered\", \"x\": [\"2020-01-22\", \"2020-01-23\", \"2020-01-24\", \"2020-01-25\", \"2020-01-26\", \"2020-01-27\", \"2020-01-28\", \"2020-01-29\", \"2020-01-30\", \"2020-01-31\", \"2020-02-02\"], \"y\": [0.0, 30.0, 36.0, 49.0, 51.0], \"type\": \"scatter\"}, {\"legendgroup\": \"32\", \"name\": \"Rest of World, Deaths\", \"x\": [\"2020-01-22\", \"2020-01-23\", \"2020-01-24\", \"2020-01-25\", \"2020-01-26\", \"2020-01-27\", \"2020-01-28\", \"2020-01-29\", \"2020-01-30\", \"2020-01-31\", \"2020-02-02\"], \"y\": [0.0, 0.0, 0.0, 0.0, 0.0], \"type\": \"scatter\"}, {\"legendgroup\": \"32\", \"name\": \"Rest of World, Recovered\", \"x\": [\"2020-01-22\", \"2020-01-23\", \"2020-01-24\", \"2020-01-25\", \"2020-01-26\", \"2020-01-27\", \"2020-01-28\", \"2020-01-29\", \"2020-01-30\", \"2020-01-31\", \"2020-02-02\"], \"y\": [0.0, 0.0, 0.0, 0.0, 3.0], \"type\": \"scatter\"}], \"name\": \"2020-01-26\", \"traces\": [0, 1, 2, 3, 4, 5, 6, 7]}, {\"data\": [{\"legendgroup\": \"21\", \"name\": \"Hubei, Confirmed\", \"x\": [\"2020-01-22\", \"2020-01-23\", \"2020-01-24\", \"2020-01-25\", \"2020-01-26\", \"2020-01-27\", \"2020-01-28\", \"2020-01-29\", \"2020-01-30\", \"2020-01-31\", \"2020-02-02\"], \"y\": [444.0, 444.0, 549.0, 1052.0, 1423.0, 2714.0], \"type\": \"scatter\"}, {\"legendgroup\": \"21\", \"name\": \"Rest of China, Confirmed\", \"x\": [\"2020-01-22\", \"2020-01-23\", \"2020-01-24\", \"2020-01-25\", \"2020-01-26\", \"2020-01-27\", \"2020-01-28\", \"2020-01-29\", \"2020-01-30\", \"2020-01-31\", \"2020-02-02\"], \"y\": [105.0, 195.0, 367.0, 927.0, 1314.0, 1695.0], \"type\": \"scatter\"}, {\"legendgroup\": \"22\", \"name\": \"Rest of the World, Confirmed\", \"x\": [\"2020-01-22\", \"2020-01-23\", \"2020-01-24\", \"2020-01-25\", \"2020-01-26\", \"2020-01-27\", \"2020-01-28\", \"2020-01-29\", \"2020-01-30\", \"2020-01-31\", \"2020-02-02\"], \"y\": [6.0, 14.0, 25.0, 36.0, 53.0, 64.0], \"type\": \"scatter\"}, {\"legendgroup\": \"31\", \"name\": \"China, Deaths\", \"x\": [\"2020-01-22\", \"2020-01-23\", \"2020-01-24\", \"2020-01-25\", \"2020-01-26\", \"2020-01-27\", \"2020-01-28\", \"2020-01-29\", \"2020-01-30\", \"2020-01-31\", \"2020-02-02\"], \"y\": [0.0, 18.0, 26.0, 56.0, 80.0, 107.0], \"type\": \"scatter\"}, {\"legendgroup\": \"31\", \"name\": \"China, Recovered\", \"x\": [\"2020-01-22\", \"2020-01-23\", \"2020-01-24\", \"2020-01-25\", \"2020-01-26\", \"2020-01-27\", \"2020-01-28\", \"2020-01-29\", \"2020-01-30\", \"2020-01-31\", \"2020-02-02\"], \"y\": [0.0, 30.0, 36.0, 49.0, 51.0, 60.0], \"type\": \"scatter\"}, {\"legendgroup\": \"32\", \"name\": \"Rest of World, Deaths\", \"x\": [\"2020-01-22\", \"2020-01-23\", \"2020-01-24\", \"2020-01-25\", \"2020-01-26\", \"2020-01-27\", \"2020-01-28\", \"2020-01-29\", \"2020-01-30\", \"2020-01-31\", \"2020-02-02\"], \"y\": [0.0, 0.0, 0.0, 0.0, 0.0, 0.0], \"type\": \"scatter\"}, {\"legendgroup\": \"32\", \"name\": \"Rest of World, Recovered\", \"x\": [\"2020-01-22\", \"2020-01-23\", \"2020-01-24\", \"2020-01-25\", \"2020-01-26\", \"2020-01-27\", \"2020-01-28\", \"2020-01-29\", \"2020-01-30\", \"2020-01-31\", \"2020-02-02\"], \"y\": [0.0, 0.0, 0.0, 0.0, 3.0, 3.0], \"type\": \"scatter\"}], \"name\": \"2020-01-27\", \"traces\": [0, 1, 2, 3, 4, 5, 6, 7]}, {\"data\": [{\"legendgroup\": \"21\", \"name\": \"Hubei, Confirmed\", \"x\": [\"2020-01-22\", \"2020-01-23\", \"2020-01-24\", \"2020-01-25\", \"2020-01-26\", \"2020-01-27\", \"2020-01-28\", \"2020-01-29\", \"2020-01-30\", \"2020-01-31\", \"2020-02-02\"], \"y\": [444.0, 444.0, 549.0, 1052.0, 1423.0, 2714.0, 3554.0], \"type\": \"scatter\"}, {\"legendgroup\": \"21\", \"name\": \"Rest of China, Confirmed\", \"x\": [\"2020-01-22\", \"2020-01-23\", \"2020-01-24\", \"2020-01-25\", \"2020-01-26\", \"2020-01-27\", \"2020-01-28\", \"2020-01-29\", \"2020-01-30\", \"2020-01-31\", \"2020-02-02\"], \"y\": [105.0, 195.0, 367.0, 927.0, 1314.0, 1695.0, 2416.0], \"type\": \"scatter\"}, {\"legendgroup\": \"22\", \"name\": \"Rest of the World, Confirmed\", \"x\": [\"2020-01-22\", \"2020-01-23\", \"2020-01-24\", \"2020-01-25\", \"2020-01-26\", \"2020-01-27\", \"2020-01-28\", \"2020-01-29\", \"2020-01-30\", \"2020-01-31\", \"2020-02-02\"], \"y\": [6.0, 14.0, 25.0, 36.0, 53.0, 64.0, 87.0], \"type\": \"scatter\"}, {\"legendgroup\": \"31\", \"name\": \"China, Deaths\", \"x\": [\"2020-01-22\", \"2020-01-23\", \"2020-01-24\", \"2020-01-25\", \"2020-01-26\", \"2020-01-27\", \"2020-01-28\", \"2020-01-29\", \"2020-01-30\", \"2020-01-31\", \"2020-02-02\"], \"y\": [0.0, 18.0, 26.0, 56.0, 80.0, 107.0, 132.0], \"type\": \"scatter\"}, {\"legendgroup\": \"31\", \"name\": \"China, Recovered\", \"x\": [\"2020-01-22\", \"2020-01-23\", \"2020-01-24\", \"2020-01-25\", \"2020-01-26\", \"2020-01-27\", \"2020-01-28\", \"2020-01-29\", \"2020-01-30\", \"2020-01-31\", \"2020-02-02\"], \"y\": [0.0, 30.0, 36.0, 49.0, 51.0, 60.0, 104.0], \"type\": \"scatter\"}, {\"legendgroup\": \"32\", \"name\": \"Rest of World, Deaths\", \"x\": [\"2020-01-22\", \"2020-01-23\", \"2020-01-24\", \"2020-01-25\", \"2020-01-26\", \"2020-01-27\", \"2020-01-28\", \"2020-01-29\", \"2020-01-30\", \"2020-01-31\", \"2020-02-02\"], \"y\": [0.0, 0.0, 0.0, 0.0, 0.0, 0.0, 0.0], \"type\": \"scatter\"}, {\"legendgroup\": \"32\", \"name\": \"Rest of World, Recovered\", \"x\": [\"2020-01-22\", \"2020-01-23\", \"2020-01-24\", \"2020-01-25\", \"2020-01-26\", \"2020-01-27\", \"2020-01-28\", \"2020-01-29\", \"2020-01-30\", \"2020-01-31\", \"2020-02-02\"], \"y\": [0.0, 0.0, 0.0, 0.0, 3.0, 3.0, 6.0], \"type\": \"scatter\"}], \"name\": \"2020-01-28\", \"traces\": [0, 1, 2, 3, 4, 5, 6, 7]}, {\"data\": [{\"legendgroup\": \"21\", \"name\": \"Hubei, Confirmed\", \"x\": [\"2020-01-22\", \"2020-01-23\", \"2020-01-24\", \"2020-01-25\", \"2020-01-26\", \"2020-01-27\", \"2020-01-28\", \"2020-01-29\", \"2020-01-30\", \"2020-01-31\", \"2020-02-02\"], \"y\": [444.0, 444.0, 549.0, 1052.0, 1423.0, 2714.0, 3554.0, 4586.0], \"type\": \"scatter\"}, {\"legendgroup\": \"21\", \"name\": \"Rest of China, Confirmed\", \"x\": [\"2020-01-22\", \"2020-01-23\", \"2020-01-24\", \"2020-01-25\", \"2020-01-26\", \"2020-01-27\", \"2020-01-28\", \"2020-01-29\", \"2020-01-30\", \"2020-01-31\", \"2020-02-02\"], \"y\": [105.0, 195.0, 367.0, 927.0, 1314.0, 1695.0, 2416.0, 3092.0], \"type\": \"scatter\"}, {\"legendgroup\": \"22\", \"name\": \"Rest of the World, Confirmed\", \"x\": [\"2020-01-22\", \"2020-01-23\", \"2020-01-24\", \"2020-01-25\", \"2020-01-26\", \"2020-01-27\", \"2020-01-28\", \"2020-01-29\", \"2020-01-30\", \"2020-01-31\", \"2020-02-02\"], \"y\": [6.0, 14.0, 25.0, 36.0, 53.0, 64.0, 87.0, 105.0], \"type\": \"scatter\"}, {\"legendgroup\": \"31\", \"name\": \"China, Deaths\", \"x\": [\"2020-01-22\", \"2020-01-23\", \"2020-01-24\", \"2020-01-25\", \"2020-01-26\", \"2020-01-27\", \"2020-01-28\", \"2020-01-29\", \"2020-01-30\", \"2020-01-31\", \"2020-02-02\"], \"y\": [0.0, 18.0, 26.0, 56.0, 80.0, 107.0, 132.0, 170.0], \"type\": \"scatter\"}, {\"legendgroup\": \"31\", \"name\": \"China, Recovered\", \"x\": [\"2020-01-22\", \"2020-01-23\", \"2020-01-24\", \"2020-01-25\", \"2020-01-26\", \"2020-01-27\", \"2020-01-28\", \"2020-01-29\", \"2020-01-30\", \"2020-01-31\", \"2020-02-02\"], \"y\": [0.0, 30.0, 36.0, 49.0, 51.0, 60.0, 104.0, 127.0], \"type\": \"scatter\"}, {\"legendgroup\": \"32\", \"name\": \"Rest of World, Deaths\", \"x\": [\"2020-01-22\", \"2020-01-23\", \"2020-01-24\", \"2020-01-25\", \"2020-01-26\", \"2020-01-27\", \"2020-01-28\", \"2020-01-29\", \"2020-01-30\", \"2020-01-31\", \"2020-02-02\"], \"y\": [0.0, 0.0, 0.0, 0.0, 0.0, 0.0, 0.0, 0.0], \"type\": \"scatter\"}, {\"legendgroup\": \"32\", \"name\": \"Rest of World, Recovered\", \"x\": [\"2020-01-22\", \"2020-01-23\", \"2020-01-24\", \"2020-01-25\", \"2020-01-26\", \"2020-01-27\", \"2020-01-28\", \"2020-01-29\", \"2020-01-30\", \"2020-01-31\", \"2020-02-02\"], \"y\": [0.0, 0.0, 0.0, 0.0, 3.0, 3.0, 6.0, 6.0], \"type\": \"scatter\"}], \"name\": \"2020-01-29\", \"traces\": [0, 1, 2, 3, 4, 5, 6, 7]}, {\"data\": [{\"legendgroup\": \"21\", \"name\": \"Hubei, Confirmed\", \"x\": [\"2020-01-22\", \"2020-01-23\", \"2020-01-24\", \"2020-01-25\", \"2020-01-26\", \"2020-01-27\", \"2020-01-28\", \"2020-01-29\", \"2020-01-30\", \"2020-01-31\", \"2020-02-02\"], \"y\": [444.0, 444.0, 549.0, 1052.0, 1423.0, 2714.0, 3554.0, 4586.0, 5806.0], \"type\": \"scatter\"}, {\"legendgroup\": \"21\", \"name\": \"Rest of China, Confirmed\", \"x\": [\"2020-01-22\", \"2020-01-23\", \"2020-01-24\", \"2020-01-25\", \"2020-01-26\", \"2020-01-27\", \"2020-01-28\", \"2020-01-29\", \"2020-01-30\", \"2020-01-31\", \"2020-02-02\"], \"y\": [105.0, 195.0, 367.0, 927.0, 1314.0, 1695.0, 2416.0, 3092.0, 3852.0], \"type\": \"scatter\"}, {\"legendgroup\": \"22\", \"name\": \"Rest of the World, Confirmed\", \"x\": [\"2020-01-22\", \"2020-01-23\", \"2020-01-24\", \"2020-01-25\", \"2020-01-26\", \"2020-01-27\", \"2020-01-28\", \"2020-01-29\", \"2020-01-30\", \"2020-01-31\", \"2020-02-02\"], \"y\": [6.0, 14.0, 25.0, 36.0, 53.0, 64.0, 87.0, 105.0, 118.0], \"type\": \"scatter\"}, {\"legendgroup\": \"31\", \"name\": \"China, Deaths\", \"x\": [\"2020-01-22\", \"2020-01-23\", \"2020-01-24\", \"2020-01-25\", \"2020-01-26\", \"2020-01-27\", \"2020-01-28\", \"2020-01-29\", \"2020-01-30\", \"2020-01-31\", \"2020-02-02\"], \"y\": [0.0, 18.0, 26.0, 56.0, 80.0, 107.0, 132.0, 170.0, 213.0], \"type\": \"scatter\"}, {\"legendgroup\": \"31\", \"name\": \"China, Recovered\", \"x\": [\"2020-01-22\", \"2020-01-23\", \"2020-01-24\", \"2020-01-25\", \"2020-01-26\", \"2020-01-27\", \"2020-01-28\", \"2020-01-29\", \"2020-01-30\", \"2020-01-31\", \"2020-02-02\"], \"y\": [0.0, 30.0, 36.0, 49.0, 51.0, 60.0, 104.0, 127.0, 179.0], \"type\": \"scatter\"}, {\"legendgroup\": \"32\", \"name\": \"Rest of World, Deaths\", \"x\": [\"2020-01-22\", \"2020-01-23\", \"2020-01-24\", \"2020-01-25\", \"2020-01-26\", \"2020-01-27\", \"2020-01-28\", \"2020-01-29\", \"2020-01-30\", \"2020-01-31\", \"2020-02-02\"], \"y\": [0.0, 0.0, 0.0, 0.0, 0.0, 0.0, 0.0, 0.0, 0.0], \"type\": \"scatter\"}, {\"legendgroup\": \"32\", \"name\": \"Rest of World, Recovered\", \"x\": [\"2020-01-22\", \"2020-01-23\", \"2020-01-24\", \"2020-01-25\", \"2020-01-26\", \"2020-01-27\", \"2020-01-28\", \"2020-01-29\", \"2020-01-30\", \"2020-01-31\", \"2020-02-02\"], \"y\": [0.0, 0.0, 0.0, 0.0, 3.0, 3.0, 6.0, 6.0, 8.0], \"type\": \"scatter\"}], \"name\": \"2020-01-30\", \"traces\": [0, 1, 2, 3, 4, 5, 6, 7]}, {\"data\": [{\"legendgroup\": \"21\", \"name\": \"Hubei, Confirmed\", \"x\": [\"2020-01-22\", \"2020-01-23\", \"2020-01-24\", \"2020-01-25\", \"2020-01-26\", \"2020-01-27\", \"2020-01-28\", \"2020-01-29\", \"2020-01-30\", \"2020-01-31\", \"2020-02-02\"], \"y\": [444.0, 444.0, 549.0, 1052.0, 1423.0, 2714.0, 3554.0, 4586.0, 5806.0, 7153.0], \"type\": \"scatter\"}, {\"legendgroup\": \"21\", \"name\": \"Rest of China, Confirmed\", \"x\": [\"2020-01-22\", \"2020-01-23\", \"2020-01-24\", \"2020-01-25\", \"2020-01-26\", \"2020-01-27\", \"2020-01-28\", \"2020-01-29\", \"2020-01-30\", \"2020-01-31\", \"2020-02-02\"], \"y\": [105.0, 195.0, 367.0, 927.0, 1314.0, 1695.0, 2416.0, 3092.0, 3852.0, 4068.0], \"type\": \"scatter\"}, {\"legendgroup\": \"22\", \"name\": \"Rest of the World, Confirmed\", \"x\": [\"2020-01-22\", \"2020-01-23\", \"2020-01-24\", \"2020-01-25\", \"2020-01-26\", \"2020-01-27\", \"2020-01-28\", \"2020-01-29\", \"2020-01-30\", \"2020-01-31\", \"2020-02-02\"], \"y\": [6.0, 14.0, 25.0, 36.0, 53.0, 64.0, 87.0, 105.0, 118.0, 153.0], \"type\": \"scatter\"}, {\"legendgroup\": \"31\", \"name\": \"China, Deaths\", \"x\": [\"2020-01-22\", \"2020-01-23\", \"2020-01-24\", \"2020-01-25\", \"2020-01-26\", \"2020-01-27\", \"2020-01-28\", \"2020-01-29\", \"2020-01-30\", \"2020-01-31\", \"2020-02-02\"], \"y\": [0.0, 18.0, 26.0, 56.0, 80.0, 107.0, 132.0, 170.0, 213.0, 259.0], \"type\": \"scatter\"}, {\"legendgroup\": \"31\", \"name\": \"China, Recovered\", \"x\": [\"2020-01-22\", \"2020-01-23\", \"2020-01-24\", \"2020-01-25\", \"2020-01-26\", \"2020-01-27\", \"2020-01-28\", \"2020-01-29\", \"2020-01-30\", \"2020-01-31\", \"2020-02-02\"], \"y\": [0.0, 30.0, 36.0, 49.0, 51.0, 60.0, 104.0, 127.0, 179.0, 242.0], \"type\": \"scatter\"}, {\"legendgroup\": \"32\", \"name\": \"Rest of World, Deaths\", \"x\": [\"2020-01-22\", \"2020-01-23\", \"2020-01-24\", \"2020-01-25\", \"2020-01-26\", \"2020-01-27\", \"2020-01-28\", \"2020-01-29\", \"2020-01-30\", \"2020-01-31\", \"2020-02-02\"], \"y\": [0.0, 0.0, 0.0, 0.0, 0.0, 0.0, 0.0, 0.0, 0.0, 0.0], \"type\": \"scatter\"}, {\"legendgroup\": \"32\", \"name\": \"Rest of World, Recovered\", \"x\": [\"2020-01-22\", \"2020-01-23\", \"2020-01-24\", \"2020-01-25\", \"2020-01-26\", \"2020-01-27\", \"2020-01-28\", \"2020-01-29\", \"2020-01-30\", \"2020-01-31\", \"2020-02-02\"], \"y\": [0.0, 0.0, 0.0, 0.0, 3.0, 3.0, 6.0, 6.0, 8.0, 10.0], \"type\": \"scatter\"}], \"name\": \"2020-01-31\", \"traces\": [0, 1, 2, 3, 4, 5, 6, 7]}, {\"data\": [{\"legendgroup\": \"21\", \"name\": \"Hubei, Confirmed\", \"x\": [\"2020-01-22\", \"2020-01-23\", \"2020-01-24\", \"2020-01-25\", \"2020-01-26\", \"2020-01-27\", \"2020-01-28\", \"2020-01-29\", \"2020-01-30\", \"2020-01-31\", \"2020-02-02\"], \"y\": [444.0, 444.0, 549.0, 1052.0, 1423.0, 2714.0, 3554.0, 4586.0, 5806.0, 7153.0, 11177.0], \"type\": \"scatter\"}, {\"legendgroup\": \"21\", \"name\": \"Rest of China, Confirmed\", \"x\": [\"2020-01-22\", \"2020-01-23\", \"2020-01-24\", \"2020-01-25\", \"2020-01-26\", \"2020-01-27\", \"2020-01-28\", \"2020-01-29\", \"2020-01-30\", \"2020-01-31\", \"2020-02-02\"], \"y\": [105.0, 195.0, 367.0, 927.0, 1314.0, 1695.0, 2416.0, 3092.0, 3852.0, 4068.0, 5937.0], \"type\": \"scatter\"}, {\"legendgroup\": \"22\", \"name\": \"Rest of the World, Confirmed\", \"x\": [\"2020-01-22\", \"2020-01-23\", \"2020-01-24\", \"2020-01-25\", \"2020-01-26\", \"2020-01-27\", \"2020-01-28\", \"2020-01-29\", \"2020-01-30\", \"2020-01-31\", \"2020-02-02\"], \"y\": [6.0, 14.0, 25.0, 36.0, 53.0, 64.0, 87.0, 105.0, 118.0, 153.0, 171.0], \"type\": \"scatter\"}, {\"legendgroup\": \"31\", \"name\": \"China, Deaths\", \"x\": [\"2020-01-22\", \"2020-01-23\", \"2020-01-24\", \"2020-01-25\", \"2020-01-26\", \"2020-01-27\", \"2020-01-28\", \"2020-01-29\", \"2020-01-30\", \"2020-01-31\", \"2020-02-02\"], \"y\": [0.0, 18.0, 26.0, 56.0, 80.0, 107.0, 132.0, 170.0, 213.0, 259.0, 361.0], \"type\": \"scatter\"}, {\"legendgroup\": \"31\", \"name\": \"China, Recovered\", \"x\": [\"2020-01-22\", \"2020-01-23\", \"2020-01-24\", \"2020-01-25\", \"2020-01-26\", \"2020-01-27\", \"2020-01-28\", \"2020-01-29\", \"2020-01-30\", \"2020-01-31\", \"2020-02-02\"], \"y\": [0.0, 30.0, 36.0, 49.0, 51.0, 60.0, 104.0, 127.0, 179.0, 242.0, 478.0], \"type\": \"scatter\"}, {\"legendgroup\": \"32\", \"name\": \"Rest of World, Deaths\", \"x\": [\"2020-01-22\", \"2020-01-23\", \"2020-01-24\", \"2020-01-25\", \"2020-01-26\", \"2020-01-27\", \"2020-01-28\", \"2020-01-29\", \"2020-01-30\", \"2020-01-31\", \"2020-02-02\"], \"y\": [0.0, 0.0, 0.0, 0.0, 0.0, 0.0, 0.0, 0.0, 0.0, 0.0, 1.0], \"type\": \"scatter\"}, {\"legendgroup\": \"32\", \"name\": \"Rest of World, Recovered\", \"x\": [\"2020-01-22\", \"2020-01-23\", \"2020-01-24\", \"2020-01-25\", \"2020-01-26\", \"2020-01-27\", \"2020-01-28\", \"2020-01-29\", \"2020-01-30\", \"2020-01-31\", \"2020-02-02\"], \"y\": [0.0, 0.0, 0.0, 0.0, 3.0, 3.0, 6.0, 6.0, 8.0, 10.0, 9.0], \"type\": \"scatter\"}], \"name\": \"2020-02-02\", \"traces\": [0, 1, 2, 3, 4, 5, 6, 7]}]);\n",
       "                        }).then(function(){\n",
       "                            \n",
       "var gd = document.getElementById('e25362a4-6529-438a-827c-8e9867845f47');\n",
       "var x = new MutationObserver(function (mutations, observer) {{\n",
       "        var display = window.getComputedStyle(gd).display;\n",
       "        if (!display || display === 'none') {{\n",
       "            console.log([gd, 'removed!']);\n",
       "            Plotly.purge(gd);\n",
       "            observer.disconnect();\n",
       "        }}\n",
       "}});\n",
       "\n",
       "// Listen for the removal of the full notebook cells\n",
       "var notebookContainer = gd.closest('#notebook-container');\n",
       "if (notebookContainer) {{\n",
       "    x.observe(notebookContainer, {childList: true});\n",
       "}}\n",
       "\n",
       "// Listen for the clearing of the current output cell\n",
       "var outputEl = gd.closest('.output');\n",
       "if (outputEl) {{\n",
       "    x.observe(outputEl, {childList: true});\n",
       "}}\n",
       "\n",
       "                        })\n",
       "                };\n",
       "                });\n",
       "            </script>\n",
       "        </div>"
      ]
     },
     "metadata": {},
     "output_type": "display_data"
    }
   ],
   "source": [
    "import plotly.express as px\n",
    "import plotly.graph_objs as go\n",
    "from plotly.offline import iplot, init_notebook_mode\n",
    "import plotly.figure_factory as ff\n",
    "from plotly import subplots\n",
    "init_notebook_mode(connected=True)\n",
    "\n",
    "from datetime import timedelta\n",
    "\n",
    "china=df.loc[df['Country']=='China']\n",
    "hubei=china.loc[china['PS']=='Hubei']\n",
    "rest_of_china=china.loc[china['PS']!='Hubei'].groupby('Date').sum().reset_index()\n",
    "\n",
    "china=china.groupby('Date').sum().reset_index()\n",
    "\n",
    "agg_df=df.groupby(['Country', 'Date']).sum().reset_index()\n",
    "\n",
    "rest_df=agg_df.loc[agg_df['Country']!='China'].groupby('Date').sum().reset_index()\n",
    "\n",
    "\n",
    "\n",
    "dates = np.sort(df['Date'].unique())\n",
    "dt_range = [np.min(dates)-timedelta(days=1), np.max(dates)+timedelta(days=1)]\n",
    "\n",
    "# Row 1\n",
    "frames_hubei = [go.Scatter(x=hubei['Date'],\n",
    "                           y=hubei.loc[hubei['Date']<=dt, 'Confirmed'],\n",
    "                           name='Hubei, Confirmed',\n",
    "                           legendgroup=\"21\") for dt in dates]\n",
    "\n",
    "frames_rchina = [go.Scatter(x=rest_of_china['Date'],\n",
    "                           y=rest_of_china.loc[rest_of_china['Date']<=dt, 'Confirmed'],\n",
    "                           name='Rest of China, Confirmed',\n",
    "                           legendgroup=\"21\") for dt in dates]\n",
    "\n",
    "\n",
    "frames_world = [go.Scatter(x=rest_df['Date'],\n",
    "                           y=rest_df.loc[rest_df['Date']<=dt, 'Confirmed'],\n",
    "                           name='Rest of the World, Confirmed',\n",
    "                           legendgroup=\"22\") for dt in dates]\n",
    "\n",
    "\n",
    "# Row 2\n",
    "frames_china_d = [go.Scatter(x=china['Date'],\n",
    "                           y=china.loc[china['Date']<=dt, 'Deaths'],\n",
    "                           name='China, Deaths',\n",
    "                           legendgroup=\"31\") for dt in dates]\n",
    "\n",
    "frames_china_r = [go.Scatter(x=china['Date'],\n",
    "                           y=china.loc[china['Date']<=dt, 'Recovered'],\n",
    "                           name='China, Recovered',\n",
    "                           legendgroup=\"31\") for dt in dates]\n",
    "\n",
    "\n",
    "frames_world_d = [go.Scatter(x=rest_df['Date'],\n",
    "                           y=rest_df.loc[rest_df['Date']<=dt, 'Deaths'],\n",
    "                           name='Rest of World, Deaths',\n",
    "                           legendgroup=\"32\") for dt in dates]\n",
    "\n",
    "frames_world_r = [go.Scatter(x=rest_df['Date'],\n",
    "                           y=rest_df.loc[rest_df['Date']<=dt, 'Recovered'],\n",
    "                           name='Rest of World, Recovered',\n",
    "                           legendgroup=\"32\") for dt in dates]\n",
    "\n",
    "\n",
    "\n",
    "\n",
    "fig = make_subplots(\n",
    "    rows=2, cols=2,\n",
    "    specs=[[{}, {}],\n",
    "           [{}, {}]],\n",
    "    subplot_titles=(\"China, Confirmed\", 'Rest of the World, Confirmed',\n",
    "                    \"China, Deaths & Recovered\", 'Rest of the World, Deaths & Recovered'))\n",
    "\n",
    "\n",
    "# Row 1: Confirmed\n",
    "fig.add_trace(frames_hubei[0], row=1, col=1)\n",
    "fig.add_trace(frames_rchina[0], row=1, col=1)\n",
    "fig.add_trace(frames_world[0], row=1,col=2)\n",
    "\n",
    "\n",
    "# Row 2: Deaths & Recovered\n",
    "fig.add_trace(frames_china_d[0], row=2, col=1)\n",
    "fig.add_trace(frames_china_r[0], row=2, col=1)\n",
    "fig.add_trace(frames_world_d[0], row=2,col=2)\n",
    "fig.add_trace(frames_world_r[0], row=2,col=2)\n",
    "\n",
    "\n",
    "# Add Layout\n",
    "fig.update_xaxes(showgrid=False)\n",
    "\n",
    "fig.update_layout(\n",
    "        title={\n",
    "            'text': 'Corona Virus: Confirmed, Deaths & Recovered',\n",
    "            'y':0.98,\n",
    "            'x':0.5,\n",
    "            'xanchor': 'center',\n",
    "            'yanchor': 'top'},\n",
    "        height=750,\n",
    "        legend_orientation=\"h\",\n",
    "        #legend=dict(x=1, y=0.4),\n",
    "        xaxis1=dict(range=dt_range, autorange=False),\n",
    "        yaxis1=dict(range=[-10, hubei['Confirmed'].max()*1.1 ], autorange=False),\n",
    "        xaxis2=dict(range=dt_range, autorange=False),\n",
    "        yaxis2=dict(range=[-10, rest_df['Confirmed'].max()*1.1 ], autorange=False),\n",
    "        xaxis3=dict(range=dt_range, autorange=False),\n",
    "        yaxis3=dict(range=[-10, np.max([china['Recovered'].max(), china['Deaths'].max()])*1.1 ], autorange=False),\n",
    "        xaxis4=dict(range=dt_range, autorange=False),\n",
    "        yaxis4=dict(range=[-0.5, np.max([rest_df['Recovered'].max(), rest_df['Deaths'].max()])*1.1], autorange=False),\n",
    "        )\n",
    "\n",
    "\n",
    "frames = [dict(\n",
    "               name = str(dt),\n",
    "               data = [frames_hubei[i], frames_rchina[i], frames_world[i],\n",
    "                       frames_china_d[i], frames_china_r[i],\n",
    "                       frames_world_d[i], frames_world_r[i]\n",
    "                       ],\n",
    "               traces=[0, 1, 2, 3, 4 ,5 ,6, 7]\n",
    "              ) for i, dt in enumerate(dates)]\n",
    "\n",
    "\n",
    "\n",
    "updatemenus = [dict(type='buttons',\n",
    "                    buttons=[dict(label='Play',\n",
    "                                  method='animate',\n",
    "                                  args=[[str(dt) for dt in dates[1:]], \n",
    "                                         dict(frame=dict(duration=500, redraw=False), \n",
    "                                              transition=dict(duration=0),\n",
    "                                              easing='linear',\n",
    "                                              fromcurrent=True,\n",
    "                                              mode='immediate'\n",
    "                                                                 )])],\n",
    "                    direction= 'left', \n",
    "                    pad=dict(r= 10, t=85), \n",
    "                    showactive =True, x= 0.6, y= -0.1, xanchor= 'right', yanchor= 'top')\n",
    "            ]\n",
    "\n",
    "sliders = [{'yanchor': 'top',\n",
    "            'xanchor': 'left', \n",
    "            'currentvalue': {'font': {'size': 16}, 'prefix': 'Date: ', 'visible': True, 'xanchor': 'right'},\n",
    "            'transition': {'duration': 500.0, 'easing': 'linear'},\n",
    "            'pad': {'b': 10, 't': 50}, \n",
    "            'len': 0.9, 'x': 0.1, 'y': -0.2, \n",
    "            'steps': [{'args': [[str(dt)], {'frame': {'duration': 500.0, 'easing': 'linear', 'redraw': False},\n",
    "                                      'transition': {'duration': 0, 'easing': 'linear'}}], \n",
    "                       'label': str(dt), 'method': 'animate'} for dt in dates     \n",
    "                    ]}]\n",
    "\n",
    "\n",
    "\n",
    "fig.update(frames=frames),\n",
    "fig.update_layout(updatemenus=updatemenus,\n",
    "                  sliders=sliders);\n",
    "fig.show() "
   ]
  },
  {
   "cell_type": "code",
   "execution_count": null,
   "metadata": {},
   "outputs": [],
   "source": []
  }
 ],
 "metadata": {
  "kernelspec": {
   "display_name": "Python 3",
   "language": "python",
   "name": "python3"
  },
  "language_info": {
   "codemirror_mode": {
    "name": "ipython",
    "version": 3
   },
   "file_extension": ".py",
   "mimetype": "text/x-python",
   "name": "python",
   "nbconvert_exporter": "python",
   "pygments_lexer": "ipython3",
   "version": "3.6.4"
  }
 },
 "nbformat": 4,
 "nbformat_minor": 1
}
